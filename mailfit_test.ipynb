{
 "cells": [
  {
   "cell_type": "markdown",
   "id": "b92aab8a-cd5f-428f-aa7b-9ea7dc592a32",
   "metadata": {},
   "source": [
    "# ТЕСТОВОЕ ЗАДАНИЕ ДЛЯ MAILFIT"
   ]
  },
  {
   "cell_type": "markdown",
   "id": "8fbda619-f919-48e1-88a8-bcf0d11e82cc",
   "metadata": {},
   "source": [
    "**ЦЕЛЬ:**\n",
    "\n",
    "Посчитать следующие метрики:\n",
    "\n",
    "- Delivery rate\n",
    "- Open rate\n",
    "- Click to Open rate\n",
    "- Unsubscribe rate\n",
    "- Лучшая тема\n",
    "- Лучший день недели (для планирования рассылок)\n"
   ]
  },
  {
   "cell_type": "markdown",
   "id": "e1c1b9ef-7237-4f57-ae9c-fb750afb81fe",
   "metadata": {},
   "source": [
    "## ИМПОРТ ДАТАСЕТА"
   ]
  },
  {
   "cell_type": "code",
   "execution_count": 1,
   "id": "9e0a9e81-6e9b-46f3-af26-98c9ee037384",
   "metadata": {},
   "outputs": [],
   "source": [
    "import pandas as pd\n",
    "from io import BytesIO\n",
    "import requests\n",
    "import matplotlib.pyplot as plt\n",
    "import plotly.express as px \n",
    "import seaborn as sns\n",
    "from plotly import graph_objects as go\n",
    "import scipy.stats as st"
   ]
  },
  {
   "cell_type": "code",
   "execution_count": 2,
   "id": "0e4826b0-65e5-4429-9361-977468f9b72c",
   "metadata": {},
   "outputs": [],
   "source": [
    "spreadsheet_id = '1abxRHk2LguT-K3ewR6NZVwQh2gKTEU45EC9kZ-5PaOE'\n",
    "file_name = 'https://docs.google.com/spreadsheets/d/{}/export?format=xlsx'.format(spreadsheet_id)\n",
    "r = requests.get(file_name)\n",
    "\n",
    "pd.set_option('max_columns', None)"
   ]
  },
  {
   "cell_type": "code",
   "execution_count": 3,
   "id": "3414a3b8-034b-40ef-b1d1-53f85e52bd89",
   "metadata": {},
   "outputs": [],
   "source": [
    "df = pd.read_excel(BytesIO(r.content))"
   ]
  },
  {
   "cell_type": "markdown",
   "id": "90d07370-3bca-4e7a-ab6f-45ae952a692e",
   "metadata": {},
   "source": [
    "## ИЗУЧЕНИЕ ОБЩЕЙ ИНФОРМАЦИИ"
   ]
  },
  {
   "cell_type": "code",
   "execution_count": 4,
   "id": "6d8bdf1f-1cb5-4a2e-b1d6-652ab09fc854",
   "metadata": {
    "tags": []
   },
   "outputs": [
    {
     "data": {
      "text/html": [
       "<div>\n",
       "<style scoped>\n",
       "    .dataframe tbody tr th:only-of-type {\n",
       "        vertical-align: middle;\n",
       "    }\n",
       "\n",
       "    .dataframe tbody tr th {\n",
       "        vertical-align: top;\n",
       "    }\n",
       "\n",
       "    .dataframe thead th {\n",
       "        text-align: right;\n",
       "    }\n",
       "</style>\n",
       "<table border=\"1\" class=\"dataframe\">\n",
       "  <thead>\n",
       "    <tr style=\"text-align: right;\">\n",
       "      <th></th>\n",
       "      <th>Название рассылки</th>\n",
       "      <th>Название кампании</th>\n",
       "      <th>Направление</th>\n",
       "      <th>Месяц</th>\n",
       "      <th>Дата</th>\n",
       "      <th>Год</th>\n",
       "      <th>Номер недели</th>\n",
       "      <th>День недели</th>\n",
       "      <th>День недели.1</th>\n",
       "      <th>Время</th>\n",
       "      <th>Веб-версия</th>\n",
       "      <th>Тема письма</th>\n",
       "      <th>Сегмент</th>\n",
       "      <th>Отправлено</th>\n",
       "      <th>Доставлено</th>\n",
       "      <th>Открытия</th>\n",
       "      <th>Клики</th>\n",
       "      <th>Баунсы (Все ошибки)</th>\n",
       "      <th>Отписки</th>\n",
       "      <th>UTM Метка</th>\n",
       "      <th>Пользователей на сайте</th>\n",
       "      <th>Воронка продаж. Шаг 1</th>\n",
       "      <th>Воронка продаж. Шаг 2</th>\n",
       "      <th>Воронка продаж. Шаг 3</th>\n",
       "    </tr>\n",
       "  </thead>\n",
       "  <tbody>\n",
       "    <tr>\n",
       "      <th>0</th>\n",
       "      <td>Название рассылки 1</td>\n",
       "      <td>Название кампании 1</td>\n",
       "      <td>Email</td>\n",
       "      <td>Октябрь</td>\n",
       "      <td>2021-10-27</td>\n",
       "      <td>2021</td>\n",
       "      <td>43</td>\n",
       "      <td>3</td>\n",
       "      <td>03-среда</td>\n",
       "      <td>19:24:00</td>\n",
       "      <td>#ССЫЛКА</td>\n",
       "      <td>Тема письма 1</td>\n",
       "      <td>Сегмент 1</td>\n",
       "      <td>780789</td>\n",
       "      <td>741749.55</td>\n",
       "      <td>148349.910</td>\n",
       "      <td>17801.98920</td>\n",
       "      <td>39039.45</td>\n",
       "      <td>7417.4955</td>\n",
       "      <td>Метка 1</td>\n",
       "      <td>16377.830064</td>\n",
       "      <td>6336.582452</td>\n",
       "      <td>6209.850803</td>\n",
       "      <td>5154.176166</td>\n",
       "    </tr>\n",
       "    <tr>\n",
       "      <th>1</th>\n",
       "      <td>Название рассылки 10</td>\n",
       "      <td>Название кампании 10</td>\n",
       "      <td>Email</td>\n",
       "      <td>Ноябрь</td>\n",
       "      <td>2021-11-05</td>\n",
       "      <td>2021</td>\n",
       "      <td>45</td>\n",
       "      <td>5</td>\n",
       "      <td>05-пятница</td>\n",
       "      <td>12:02:00</td>\n",
       "      <td>#ССЫЛКА</td>\n",
       "      <td>Тема письма 10</td>\n",
       "      <td>Сегмент 2</td>\n",
       "      <td>719370</td>\n",
       "      <td>683401.50</td>\n",
       "      <td>123012.270</td>\n",
       "      <td>11071.10430</td>\n",
       "      <td>35968.50</td>\n",
       "      <td>6834.0150</td>\n",
       "      <td>Метка 10</td>\n",
       "      <td>10296.126999</td>\n",
       "      <td>3558.341491</td>\n",
       "      <td>3095.757097</td>\n",
       "      <td>2538.520820</td>\n",
       "    </tr>\n",
       "    <tr>\n",
       "      <th>2</th>\n",
       "      <td>Название рассылки 100</td>\n",
       "      <td>Название кампании 100</td>\n",
       "      <td>Email</td>\n",
       "      <td>Апрель</td>\n",
       "      <td>2022-04-11</td>\n",
       "      <td>2022</td>\n",
       "      <td>15</td>\n",
       "      <td>1</td>\n",
       "      <td>01-понедельник</td>\n",
       "      <td>16:26:00</td>\n",
       "      <td>#ССЫЛКА</td>\n",
       "      <td>Тема письма 100</td>\n",
       "      <td>Сегмент 3</td>\n",
       "      <td>1201415</td>\n",
       "      <td>1141344.25</td>\n",
       "      <td>182615.080</td>\n",
       "      <td>15339.66672</td>\n",
       "      <td>60070.75</td>\n",
       "      <td>11413.4425</td>\n",
       "      <td>Метка 100</td>\n",
       "      <td>13959.096715</td>\n",
       "      <td>3369.725947</td>\n",
       "      <td>2864.267055</td>\n",
       "      <td>2262.770973</td>\n",
       "    </tr>\n",
       "    <tr>\n",
       "      <th>3</th>\n",
       "      <td>Название рассылки 101</td>\n",
       "      <td>Название кампании 101</td>\n",
       "      <td>Email</td>\n",
       "      <td>Апрель</td>\n",
       "      <td>2022-04-12</td>\n",
       "      <td>2022</td>\n",
       "      <td>15</td>\n",
       "      <td>2</td>\n",
       "      <td>02-вторник</td>\n",
       "      <td>16:26:00</td>\n",
       "      <td>#ССЫЛКА</td>\n",
       "      <td>Тема письма 101</td>\n",
       "      <td>Сегмент 1</td>\n",
       "      <td>1393827</td>\n",
       "      <td>1324135.65</td>\n",
       "      <td>264827.130</td>\n",
       "      <td>10328.25807</td>\n",
       "      <td>69691.35</td>\n",
       "      <td>13241.3565</td>\n",
       "      <td>Метка 101</td>\n",
       "      <td>8985.584521</td>\n",
       "      <td>5116.391826</td>\n",
       "      <td>4277.303567</td>\n",
       "      <td>3207.977675</td>\n",
       "    </tr>\n",
       "    <tr>\n",
       "      <th>4</th>\n",
       "      <td>Название рассылки 102</td>\n",
       "      <td>Название кампании 102</td>\n",
       "      <td>Email</td>\n",
       "      <td>Апрель</td>\n",
       "      <td>2022-04-13</td>\n",
       "      <td>2022</td>\n",
       "      <td>15</td>\n",
       "      <td>3</td>\n",
       "      <td>03-среда</td>\n",
       "      <td>16:26:00</td>\n",
       "      <td>#ССЫЛКА</td>\n",
       "      <td>Тема письма 102</td>\n",
       "      <td>Сегмент 2</td>\n",
       "      <td>1276821</td>\n",
       "      <td>1212979.95</td>\n",
       "      <td>218336.391</td>\n",
       "      <td>15720.22015</td>\n",
       "      <td>63841.05</td>\n",
       "      <td>12129.7995</td>\n",
       "      <td>Метка 102</td>\n",
       "      <td>10846.951905</td>\n",
       "      <td>2816.953410</td>\n",
       "      <td>2287.366169</td>\n",
       "      <td>1669.777303</td>\n",
       "    </tr>\n",
       "  </tbody>\n",
       "</table>\n",
       "</div>"
      ],
      "text/plain": [
       "       Название рассылки      Название кампании Направление    Месяц  \\\n",
       "0    Название рассылки 1    Название кампании 1       Email  Октябрь   \n",
       "1   Название рассылки 10   Название кампании 10       Email   Ноябрь   \n",
       "2  Название рассылки 100  Название кампании 100       Email   Апрель   \n",
       "3  Название рассылки 101  Название кампании 101       Email   Апрель   \n",
       "4  Название рассылки 102  Название кампании 102       Email   Апрель   \n",
       "\n",
       "        Дата   Год  Номер недели  День недели   День недели.1     Время  \\\n",
       "0 2021-10-27  2021            43            3        03-среда  19:24:00   \n",
       "1 2021-11-05  2021            45            5      05-пятница  12:02:00   \n",
       "2 2022-04-11  2022            15            1  01-понедельник  16:26:00   \n",
       "3 2022-04-12  2022            15            2      02-вторник  16:26:00   \n",
       "4 2022-04-13  2022            15            3        03-среда  16:26:00   \n",
       "\n",
       "  Веб-версия     Тема письма    Сегмент   Отправлено  Доставлено    Открытия  \\\n",
       "0    #ССЫЛКА    Тема письма 1  Сегмент 1      780789   741749.55  148349.910   \n",
       "1    #ССЫЛКА   Тема письма 10  Сегмент 2      719370   683401.50  123012.270   \n",
       "2    #ССЫЛКА  Тема письма 100  Сегмент 3     1201415  1141344.25  182615.080   \n",
       "3    #ССЫЛКА  Тема письма 101  Сегмент 1     1393827  1324135.65  264827.130   \n",
       "4    #ССЫЛКА  Тема письма 102  Сегмент 2     1276821  1212979.95  218336.391   \n",
       "\n",
       "         Клики  Баунсы (Все ошибки)     Отписки  UTM Метка  \\\n",
       "0  17801.98920             39039.45   7417.4955    Метка 1   \n",
       "1  11071.10430             35968.50   6834.0150   Метка 10   \n",
       "2  15339.66672             60070.75  11413.4425  Метка 100   \n",
       "3  10328.25807             69691.35  13241.3565  Метка 101   \n",
       "4  15720.22015             63841.05  12129.7995  Метка 102   \n",
       "\n",
       "   Пользователей на сайте  Воронка продаж. Шаг 1  Воронка продаж. Шаг 2  \\\n",
       "0            16377.830064            6336.582452            6209.850803   \n",
       "1            10296.126999            3558.341491            3095.757097   \n",
       "2            13959.096715            3369.725947            2864.267055   \n",
       "3             8985.584521            5116.391826            4277.303567   \n",
       "4            10846.951905            2816.953410            2287.366169   \n",
       "\n",
       "   Воронка продаж. Шаг 3  \n",
       "0            5154.176166  \n",
       "1            2538.520820  \n",
       "2            2262.770973  \n",
       "3            3207.977675  \n",
       "4            1669.777303  "
      ]
     },
     "execution_count": 4,
     "metadata": {},
     "output_type": "execute_result"
    }
   ],
   "source": [
    "df.head()"
   ]
  },
  {
   "cell_type": "code",
   "execution_count": 5,
   "id": "cc22417d-dbf6-4f9e-abcb-290091e4d0d5",
   "metadata": {},
   "outputs": [
    {
     "name": "stdout",
     "output_type": "stream",
     "text": [
      "<class 'pandas.core.frame.DataFrame'>\n",
      "RangeIndex: 218 entries, 0 to 217\n",
      "Data columns (total 24 columns):\n",
      " #   Column                  Non-Null Count  Dtype         \n",
      "---  ------                  --------------  -----         \n",
      " 0   Название рассылки       218 non-null    object        \n",
      " 1   Название кампании       218 non-null    object        \n",
      " 2   Направление             218 non-null    object        \n",
      " 3   Месяц                   218 non-null    object        \n",
      " 4   Дата                    218 non-null    datetime64[ns]\n",
      " 5   Год                     218 non-null    int64         \n",
      " 6   Номер недели            218 non-null    int64         \n",
      " 7   День недели             218 non-null    int64         \n",
      " 8   День недели.1           218 non-null    object        \n",
      " 9   Время                   218 non-null    object        \n",
      " 10  Веб-версия              218 non-null    object        \n",
      " 11  Тема письма             218 non-null    object        \n",
      " 12  Сегмент                 218 non-null    object        \n",
      " 13  Отправлено              218 non-null    int64         \n",
      " 14  Доставлено              218 non-null    float64       \n",
      " 15  Открытия                218 non-null    float64       \n",
      " 16  Клики                   218 non-null    float64       \n",
      " 17  Баунсы (Все ошибки)     218 non-null    float64       \n",
      " 18  Отписки                 218 non-null    float64       \n",
      " 19  UTM Метка               218 non-null    object        \n",
      " 20  Пользователей на сайте  218 non-null    float64       \n",
      " 21  Воронка продаж. Шаг 1   218 non-null    float64       \n",
      " 22  Воронка продаж. Шаг 2   218 non-null    float64       \n",
      " 23  Воронка продаж. Шаг 3   218 non-null    float64       \n",
      "dtypes: datetime64[ns](1), float64(9), int64(4), object(10)\n",
      "memory usage: 41.0+ KB\n",
      "None\n"
     ]
    }
   ],
   "source": [
    "print(df.info())"
   ]
  },
  {
   "cell_type": "markdown",
   "id": "f4359c6e-ffb1-4138-ac5d-52ad5996a973",
   "metadata": {},
   "source": [
    "**ВЫВОД:**\n",
    "<hr style=\"border-color: green;\">\n",
    "\n",
    "Пропусков в данных нет\n",
    "\n",
    "<hr style=\"border-color: green;\"> "
   ]
  },
  {
   "cell_type": "markdown",
   "id": "677aa3a4-8b07-4edf-b614-722a515da4a2",
   "metadata": {},
   "source": [
    "Избавимся от возможных пробелов в названиях колонок:"
   ]
  },
  {
   "cell_type": "code",
   "execution_count": 6,
   "id": "7d9bdf26-2d1e-483d-be37-ac89453a5a63",
   "metadata": {},
   "outputs": [],
   "source": [
    "df.columns = df.columns.str.strip()"
   ]
  },
  {
   "cell_type": "markdown",
   "id": "9df4316f-a904-43e4-9fa3-05508fb0893d",
   "metadata": {},
   "source": [
    "Преобразуем типы столбцом, которые потребуются для подсчёта метрик в целые числа:"
   ]
  },
  {
   "cell_type": "code",
   "execution_count": 7,
   "id": "e7d80b27-1449-4724-9c3f-d9e14b0b9148",
   "metadata": {},
   "outputs": [],
   "source": [
    "df[['Доставлено', 'Открытия', 'Клики', 'Отписки']] = (\n",
    "    df[['Доставлено', 'Открытия', 'Клики', 'Отписки']].astype('int')\n",
    ")"
   ]
  },
  {
   "cell_type": "code",
   "execution_count": 8,
   "id": "742626b9-774f-4b20-ab83-0cfef10164b0",
   "metadata": {},
   "outputs": [],
   "source": [
    "df['День недели.1'] = df['День недели.1'].str.replace('[\\d\\-]+', '', regex=True)"
   ]
  },
  {
   "cell_type": "code",
   "execution_count": 9,
   "id": "2ffd39a0-9c9e-473d-8f80-d925539361ef",
   "metadata": {},
   "outputs": [
    {
     "data": {
      "text/html": [
       "<div>\n",
       "<style scoped>\n",
       "    .dataframe tbody tr th:only-of-type {\n",
       "        vertical-align: middle;\n",
       "    }\n",
       "\n",
       "    .dataframe tbody tr th {\n",
       "        vertical-align: top;\n",
       "    }\n",
       "\n",
       "    .dataframe thead th {\n",
       "        text-align: right;\n",
       "    }\n",
       "</style>\n",
       "<table border=\"1\" class=\"dataframe\">\n",
       "  <thead>\n",
       "    <tr style=\"text-align: right;\">\n",
       "      <th></th>\n",
       "      <th>Название рассылки</th>\n",
       "      <th>Название кампании</th>\n",
       "      <th>Направление</th>\n",
       "      <th>Месяц</th>\n",
       "      <th>Дата</th>\n",
       "      <th>Год</th>\n",
       "      <th>Номер недели</th>\n",
       "      <th>День недели</th>\n",
       "      <th>День недели.1</th>\n",
       "      <th>Время</th>\n",
       "      <th>Веб-версия</th>\n",
       "      <th>Тема письма</th>\n",
       "      <th>Сегмент</th>\n",
       "      <th>Отправлено</th>\n",
       "      <th>Доставлено</th>\n",
       "      <th>Открытия</th>\n",
       "      <th>Клики</th>\n",
       "      <th>Баунсы (Все ошибки)</th>\n",
       "      <th>Отписки</th>\n",
       "      <th>UTM Метка</th>\n",
       "      <th>Пользователей на сайте</th>\n",
       "      <th>Воронка продаж. Шаг 1</th>\n",
       "      <th>Воронка продаж. Шаг 2</th>\n",
       "      <th>Воронка продаж. Шаг 3</th>\n",
       "    </tr>\n",
       "  </thead>\n",
       "  <tbody>\n",
       "    <tr>\n",
       "      <th>0</th>\n",
       "      <td>Название рассылки 1</td>\n",
       "      <td>Название кампании 1</td>\n",
       "      <td>Email</td>\n",
       "      <td>Октябрь</td>\n",
       "      <td>2021-10-27</td>\n",
       "      <td>2021</td>\n",
       "      <td>43</td>\n",
       "      <td>3</td>\n",
       "      <td>среда</td>\n",
       "      <td>19:24:00</td>\n",
       "      <td>#ССЫЛКА</td>\n",
       "      <td>Тема письма 1</td>\n",
       "      <td>Сегмент 1</td>\n",
       "      <td>780789</td>\n",
       "      <td>741749</td>\n",
       "      <td>148349</td>\n",
       "      <td>17801</td>\n",
       "      <td>39039.45</td>\n",
       "      <td>7417</td>\n",
       "      <td>Метка 1</td>\n",
       "      <td>16377.830064</td>\n",
       "      <td>6336.582452</td>\n",
       "      <td>6209.850803</td>\n",
       "      <td>5154.176166</td>\n",
       "    </tr>\n",
       "    <tr>\n",
       "      <th>1</th>\n",
       "      <td>Название рассылки 10</td>\n",
       "      <td>Название кампании 10</td>\n",
       "      <td>Email</td>\n",
       "      <td>Ноябрь</td>\n",
       "      <td>2021-11-05</td>\n",
       "      <td>2021</td>\n",
       "      <td>45</td>\n",
       "      <td>5</td>\n",
       "      <td>пятница</td>\n",
       "      <td>12:02:00</td>\n",
       "      <td>#ССЫЛКА</td>\n",
       "      <td>Тема письма 10</td>\n",
       "      <td>Сегмент 2</td>\n",
       "      <td>719370</td>\n",
       "      <td>683401</td>\n",
       "      <td>123012</td>\n",
       "      <td>11071</td>\n",
       "      <td>35968.50</td>\n",
       "      <td>6834</td>\n",
       "      <td>Метка 10</td>\n",
       "      <td>10296.126999</td>\n",
       "      <td>3558.341491</td>\n",
       "      <td>3095.757097</td>\n",
       "      <td>2538.520820</td>\n",
       "    </tr>\n",
       "    <tr>\n",
       "      <th>2</th>\n",
       "      <td>Название рассылки 100</td>\n",
       "      <td>Название кампании 100</td>\n",
       "      <td>Email</td>\n",
       "      <td>Апрель</td>\n",
       "      <td>2022-04-11</td>\n",
       "      <td>2022</td>\n",
       "      <td>15</td>\n",
       "      <td>1</td>\n",
       "      <td>понедельник</td>\n",
       "      <td>16:26:00</td>\n",
       "      <td>#ССЫЛКА</td>\n",
       "      <td>Тема письма 100</td>\n",
       "      <td>Сегмент 3</td>\n",
       "      <td>1201415</td>\n",
       "      <td>1141344</td>\n",
       "      <td>182615</td>\n",
       "      <td>15339</td>\n",
       "      <td>60070.75</td>\n",
       "      <td>11413</td>\n",
       "      <td>Метка 100</td>\n",
       "      <td>13959.096715</td>\n",
       "      <td>3369.725947</td>\n",
       "      <td>2864.267055</td>\n",
       "      <td>2262.770973</td>\n",
       "    </tr>\n",
       "    <tr>\n",
       "      <th>3</th>\n",
       "      <td>Название рассылки 101</td>\n",
       "      <td>Название кампании 101</td>\n",
       "      <td>Email</td>\n",
       "      <td>Апрель</td>\n",
       "      <td>2022-04-12</td>\n",
       "      <td>2022</td>\n",
       "      <td>15</td>\n",
       "      <td>2</td>\n",
       "      <td>вторник</td>\n",
       "      <td>16:26:00</td>\n",
       "      <td>#ССЫЛКА</td>\n",
       "      <td>Тема письма 101</td>\n",
       "      <td>Сегмент 1</td>\n",
       "      <td>1393827</td>\n",
       "      <td>1324135</td>\n",
       "      <td>264827</td>\n",
       "      <td>10328</td>\n",
       "      <td>69691.35</td>\n",
       "      <td>13241</td>\n",
       "      <td>Метка 101</td>\n",
       "      <td>8985.584521</td>\n",
       "      <td>5116.391826</td>\n",
       "      <td>4277.303567</td>\n",
       "      <td>3207.977675</td>\n",
       "    </tr>\n",
       "    <tr>\n",
       "      <th>4</th>\n",
       "      <td>Название рассылки 102</td>\n",
       "      <td>Название кампании 102</td>\n",
       "      <td>Email</td>\n",
       "      <td>Апрель</td>\n",
       "      <td>2022-04-13</td>\n",
       "      <td>2022</td>\n",
       "      <td>15</td>\n",
       "      <td>3</td>\n",
       "      <td>среда</td>\n",
       "      <td>16:26:00</td>\n",
       "      <td>#ССЫЛКА</td>\n",
       "      <td>Тема письма 102</td>\n",
       "      <td>Сегмент 2</td>\n",
       "      <td>1276821</td>\n",
       "      <td>1212979</td>\n",
       "      <td>218336</td>\n",
       "      <td>15720</td>\n",
       "      <td>63841.05</td>\n",
       "      <td>12129</td>\n",
       "      <td>Метка 102</td>\n",
       "      <td>10846.951905</td>\n",
       "      <td>2816.953410</td>\n",
       "      <td>2287.366169</td>\n",
       "      <td>1669.777303</td>\n",
       "    </tr>\n",
       "  </tbody>\n",
       "</table>\n",
       "</div>"
      ],
      "text/plain": [
       "       Название рассылки      Название кампании Направление    Месяц  \\\n",
       "0    Название рассылки 1    Название кампании 1       Email  Октябрь   \n",
       "1   Название рассылки 10   Название кампании 10       Email   Ноябрь   \n",
       "2  Название рассылки 100  Название кампании 100       Email   Апрель   \n",
       "3  Название рассылки 101  Название кампании 101       Email   Апрель   \n",
       "4  Название рассылки 102  Название кампании 102       Email   Апрель   \n",
       "\n",
       "        Дата   Год  Номер недели  День недели День недели.1     Время  \\\n",
       "0 2021-10-27  2021            43            3         среда  19:24:00   \n",
       "1 2021-11-05  2021            45            5       пятница  12:02:00   \n",
       "2 2022-04-11  2022            15            1   понедельник  16:26:00   \n",
       "3 2022-04-12  2022            15            2       вторник  16:26:00   \n",
       "4 2022-04-13  2022            15            3         среда  16:26:00   \n",
       "\n",
       "  Веб-версия      Тема письма    Сегмент  Отправлено  Доставлено  Открытия  \\\n",
       "0    #ССЫЛКА    Тема письма 1  Сегмент 1      780789      741749    148349   \n",
       "1    #ССЫЛКА   Тема письма 10  Сегмент 2      719370      683401    123012   \n",
       "2    #ССЫЛКА  Тема письма 100  Сегмент 3     1201415     1141344    182615   \n",
       "3    #ССЫЛКА  Тема письма 101  Сегмент 1     1393827     1324135    264827   \n",
       "4    #ССЫЛКА  Тема письма 102  Сегмент 2     1276821     1212979    218336   \n",
       "\n",
       "   Клики  Баунсы (Все ошибки)  Отписки  UTM Метка  Пользователей на сайте  \\\n",
       "0  17801             39039.45     7417    Метка 1            16377.830064   \n",
       "1  11071             35968.50     6834   Метка 10            10296.126999   \n",
       "2  15339             60070.75    11413  Метка 100            13959.096715   \n",
       "3  10328             69691.35    13241  Метка 101             8985.584521   \n",
       "4  15720             63841.05    12129  Метка 102            10846.951905   \n",
       "\n",
       "   Воронка продаж. Шаг 1  Воронка продаж. Шаг 2  Воронка продаж. Шаг 3  \n",
       "0            6336.582452            6209.850803            5154.176166  \n",
       "1            3558.341491            3095.757097            2538.520820  \n",
       "2            3369.725947            2864.267055            2262.770973  \n",
       "3            5116.391826            4277.303567            3207.977675  \n",
       "4            2816.953410            2287.366169            1669.777303  "
      ]
     },
     "execution_count": 9,
     "metadata": {},
     "output_type": "execute_result"
    }
   ],
   "source": [
    "df.head()"
   ]
  },
  {
   "cell_type": "markdown",
   "id": "db245ec0-8c1d-4fdf-aa7f-39b22a1fde9f",
   "metadata": {},
   "source": [
    "## Delivery Rate"
   ]
  },
  {
   "cell_type": "markdown",
   "id": "699b422b-f036-498c-b8bc-685380fa5979",
   "metadata": {},
   "source": [
    "Подсчитаем **Delivery Rate** и создадим новый столбец:"
   ]
  },
  {
   "cell_type": "code",
   "execution_count": 10,
   "id": "3c667710-319b-43f9-9126-611db56098f7",
   "metadata": {},
   "outputs": [],
   "source": [
    "df['delivery_rate'] = df['Доставлено'] / df['Отправлено'] * 100"
   ]
  },
  {
   "cell_type": "code",
   "execution_count": 11,
   "id": "3e8dda05-1314-4048-8bf5-51186ae6d6bd",
   "metadata": {},
   "outputs": [
    {
     "data": {
      "text/html": [
       "<div>\n",
       "<style scoped>\n",
       "    .dataframe tbody tr th:only-of-type {\n",
       "        vertical-align: middle;\n",
       "    }\n",
       "\n",
       "    .dataframe tbody tr th {\n",
       "        vertical-align: top;\n",
       "    }\n",
       "\n",
       "    .dataframe thead th {\n",
       "        text-align: right;\n",
       "    }\n",
       "</style>\n",
       "<table border=\"1\" class=\"dataframe\">\n",
       "  <thead>\n",
       "    <tr style=\"text-align: right;\">\n",
       "      <th></th>\n",
       "      <th>Доставлено</th>\n",
       "      <th>Отправлено</th>\n",
       "      <th>delivery_rate</th>\n",
       "    </tr>\n",
       "  </thead>\n",
       "  <tbody>\n",
       "    <tr>\n",
       "      <th>0</th>\n",
       "      <td>741749</td>\n",
       "      <td>780789</td>\n",
       "      <td>94.999930</td>\n",
       "    </tr>\n",
       "    <tr>\n",
       "      <th>1</th>\n",
       "      <td>683401</td>\n",
       "      <td>719370</td>\n",
       "      <td>94.999930</td>\n",
       "    </tr>\n",
       "    <tr>\n",
       "      <th>2</th>\n",
       "      <td>1141344</td>\n",
       "      <td>1201415</td>\n",
       "      <td>94.999979</td>\n",
       "    </tr>\n",
       "    <tr>\n",
       "      <th>3</th>\n",
       "      <td>1324135</td>\n",
       "      <td>1393827</td>\n",
       "      <td>94.999953</td>\n",
       "    </tr>\n",
       "    <tr>\n",
       "      <th>4</th>\n",
       "      <td>1212979</td>\n",
       "      <td>1276821</td>\n",
       "      <td>94.999926</td>\n",
       "    </tr>\n",
       "  </tbody>\n",
       "</table>\n",
       "</div>"
      ],
      "text/plain": [
       "   Доставлено  Отправлено  delivery_rate\n",
       "0      741749      780789      94.999930\n",
       "1      683401      719370      94.999930\n",
       "2     1141344     1201415      94.999979\n",
       "3     1324135     1393827      94.999953\n",
       "4     1212979     1276821      94.999926"
      ]
     },
     "execution_count": 11,
     "metadata": {},
     "output_type": "execute_result"
    }
   ],
   "source": [
    "df[['Доставлено', 'Отправлено', 'delivery_rate']].head()"
   ]
  },
  {
   "cell_type": "markdown",
   "id": "c42cc48e-6bb2-4700-a38a-aa4ef7b4aa3b",
   "metadata": {},
   "source": [
    "## Open Rate"
   ]
  },
  {
   "cell_type": "markdown",
   "id": "664fa2e7-56f9-46bd-baa7-c06a13794edb",
   "metadata": {},
   "source": [
    "Подсчитаем **Open Rate** и создадим новый столбец:"
   ]
  },
  {
   "cell_type": "code",
   "execution_count": 12,
   "id": "dcc1fe57-ce8d-4d3f-aac6-97c9f8fa7690",
   "metadata": {},
   "outputs": [],
   "source": [
    "df['open_rate'] = df['Открытия'] / df['Доставлено'] * 100"
   ]
  },
  {
   "cell_type": "code",
   "execution_count": 13,
   "id": "e56a378e-c688-4e08-9397-03a3f95b8f8a",
   "metadata": {},
   "outputs": [
    {
     "data": {
      "text/html": [
       "<div>\n",
       "<style scoped>\n",
       "    .dataframe tbody tr th:only-of-type {\n",
       "        vertical-align: middle;\n",
       "    }\n",
       "\n",
       "    .dataframe tbody tr th {\n",
       "        vertical-align: top;\n",
       "    }\n",
       "\n",
       "    .dataframe thead th {\n",
       "        text-align: right;\n",
       "    }\n",
       "</style>\n",
       "<table border=\"1\" class=\"dataframe\">\n",
       "  <thead>\n",
       "    <tr style=\"text-align: right;\">\n",
       "      <th></th>\n",
       "      <th>Открытия</th>\n",
       "      <th>Доставлено</th>\n",
       "      <th>open_rate</th>\n",
       "    </tr>\n",
       "  </thead>\n",
       "  <tbody>\n",
       "    <tr>\n",
       "      <th>24</th>\n",
       "      <td>232501</td>\n",
       "      <td>1457691</td>\n",
       "      <td>15.949951</td>\n",
       "    </tr>\n",
       "    <tr>\n",
       "      <th>145</th>\n",
       "      <td>387727</td>\n",
       "      <td>2154040</td>\n",
       "      <td>17.999991</td>\n",
       "    </tr>\n",
       "    <tr>\n",
       "      <th>202</th>\n",
       "      <td>217290</td>\n",
       "      <td>2361853</td>\n",
       "      <td>9.199980</td>\n",
       "    </tr>\n",
       "  </tbody>\n",
       "</table>\n",
       "</div>"
      ],
      "text/plain": [
       "     Открытия  Доставлено  open_rate\n",
       "24     232501     1457691  15.949951\n",
       "145    387727     2154040  17.999991\n",
       "202    217290     2361853   9.199980"
      ]
     },
     "execution_count": 13,
     "metadata": {},
     "output_type": "execute_result"
    }
   ],
   "source": [
    "df[['Открытия', 'Доставлено', 'open_rate']].sample(3)"
   ]
  },
  {
   "cell_type": "markdown",
   "id": "eb7a413e-f268-40ad-b903-e1fc5f05ee50",
   "metadata": {},
   "source": [
    "## CTOR (Click to Open rate)"
   ]
  },
  {
   "cell_type": "markdown",
   "id": "6f3d23c6-72e9-4450-90a1-392052af9119",
   "metadata": {},
   "source": [
    "Подсчитаем **Click to Open rate** и создадим новый столбец:"
   ]
  },
  {
   "cell_type": "code",
   "execution_count": 14,
   "id": "cd0a647b-a27e-4607-b8a2-44737a58c116",
   "metadata": {},
   "outputs": [],
   "source": [
    "df['ctor'] = df['Клики'] / df['Открытия'] * 100"
   ]
  },
  {
   "cell_type": "code",
   "execution_count": 15,
   "id": "130f2713-412b-40af-9a39-b7ee4d023c39",
   "metadata": {},
   "outputs": [
    {
     "data": {
      "text/html": [
       "<div>\n",
       "<style scoped>\n",
       "    .dataframe tbody tr th:only-of-type {\n",
       "        vertical-align: middle;\n",
       "    }\n",
       "\n",
       "    .dataframe tbody tr th {\n",
       "        vertical-align: top;\n",
       "    }\n",
       "\n",
       "    .dataframe thead th {\n",
       "        text-align: right;\n",
       "    }\n",
       "</style>\n",
       "<table border=\"1\" class=\"dataframe\">\n",
       "  <thead>\n",
       "    <tr style=\"text-align: right;\">\n",
       "      <th></th>\n",
       "      <th>Клики</th>\n",
       "      <th>Открытия</th>\n",
       "      <th>ctor</th>\n",
       "    </tr>\n",
       "  </thead>\n",
       "  <tbody>\n",
       "    <tr>\n",
       "      <th>81</th>\n",
       "      <td>8839</td>\n",
       "      <td>98214</td>\n",
       "      <td>8.999735</td>\n",
       "    </tr>\n",
       "    <tr>\n",
       "      <th>69</th>\n",
       "      <td>19803</td>\n",
       "      <td>275044</td>\n",
       "      <td>7.199939</td>\n",
       "    </tr>\n",
       "    <tr>\n",
       "      <th>164</th>\n",
       "      <td>25996</td>\n",
       "      <td>361062</td>\n",
       "      <td>7.199871</td>\n",
       "    </tr>\n",
       "  </tbody>\n",
       "</table>\n",
       "</div>"
      ],
      "text/plain": [
       "     Клики  Открытия      ctor\n",
       "81    8839     98214  8.999735\n",
       "69   19803    275044  7.199939\n",
       "164  25996    361062  7.199871"
      ]
     },
     "execution_count": 15,
     "metadata": {},
     "output_type": "execute_result"
    }
   ],
   "source": [
    "df[['Клики', 'Открытия', 'ctor']].sample(3)"
   ]
  },
  {
   "cell_type": "markdown",
   "id": "4305df07-1856-4e70-9ada-1c9d1b68fc91",
   "metadata": {},
   "source": [
    "## Unsubscribe Rate"
   ]
  },
  {
   "cell_type": "markdown",
   "id": "f4aa52fa-e00e-485e-a1d2-48107ade8f64",
   "metadata": {},
   "source": [
    "Подсчитаем **Unsubscribe Rate** и создадим новый столбец:"
   ]
  },
  {
   "cell_type": "code",
   "execution_count": 16,
   "id": "d0021d7d-6303-471f-aefb-07115e89f912",
   "metadata": {},
   "outputs": [],
   "source": [
    "df['ur'] = df['Отписки'] / df['Доставлено'] * 100"
   ]
  },
  {
   "cell_type": "code",
   "execution_count": 17,
   "id": "557f2f2e-12f0-4344-8c2f-5ff66b581190",
   "metadata": {},
   "outputs": [
    {
     "data": {
      "text/html": [
       "<div>\n",
       "<style scoped>\n",
       "    .dataframe tbody tr th:only-of-type {\n",
       "        vertical-align: middle;\n",
       "    }\n",
       "\n",
       "    .dataframe tbody tr th {\n",
       "        vertical-align: top;\n",
       "    }\n",
       "\n",
       "    .dataframe thead th {\n",
       "        text-align: right;\n",
       "    }\n",
       "</style>\n",
       "<table border=\"1\" class=\"dataframe\">\n",
       "  <thead>\n",
       "    <tr style=\"text-align: right;\">\n",
       "      <th></th>\n",
       "      <th>Отписки</th>\n",
       "      <th>Доставлено</th>\n",
       "      <th>ur</th>\n",
       "    </tr>\n",
       "  </thead>\n",
       "  <tbody>\n",
       "    <tr>\n",
       "      <th>129</th>\n",
       "      <td>1929</td>\n",
       "      <td>1286402</td>\n",
       "      <td>0.149953</td>\n",
       "    </tr>\n",
       "    <tr>\n",
       "      <th>211</th>\n",
       "      <td>8043</td>\n",
       "      <td>893711</td>\n",
       "      <td>0.899955</td>\n",
       "    </tr>\n",
       "    <tr>\n",
       "      <th>25</th>\n",
       "      <td>7610</td>\n",
       "      <td>1208029</td>\n",
       "      <td>0.629952</td>\n",
       "    </tr>\n",
       "  </tbody>\n",
       "</table>\n",
       "</div>"
      ],
      "text/plain": [
       "     Отписки  Доставлено        ur\n",
       "129     1929     1286402  0.149953\n",
       "211     8043      893711  0.899955\n",
       "25      7610     1208029  0.629952"
      ]
     },
     "execution_count": 17,
     "metadata": {},
     "output_type": "execute_result"
    }
   ],
   "source": [
    "df[['Отписки', 'Доставлено', 'ur']].sample(3)"
   ]
  },
  {
   "cell_type": "markdown",
   "id": "203ca178-a7e1-4c0b-b3c3-b28cf03ae96d",
   "metadata": {},
   "source": [
    "## Лучшая тема"
   ]
  },
  {
   "cell_type": "markdown",
   "id": "dad35ef8-8d9f-4c24-a4f0-dc4e7b74bd93",
   "metadata": {},
   "source": [
    "На наш взгляд, лучшей темой для рассылки будет являться та тема, у которой процент кликов в письмах, открытых подписчиками выше остальных (CTOR)."
   ]
  },
  {
   "cell_type": "markdown",
   "id": "693a5dca-a5eb-4f8b-8e02-214d6ac1acc5",
   "metadata": {},
   "source": [
    "Для этого, определим наивысший CTOR и соответсвующую тему, а так же остальные метрики:"
   ]
  },
  {
   "cell_type": "code",
   "execution_count": 18,
   "id": "35ee39f8-be68-4cb2-89d4-ddfad9d75637",
   "metadata": {},
   "outputs": [
    {
     "data": {
      "text/plain": [
       "count    218.000000\n",
       "mean       8.123104\n",
       "std        2.630988\n",
       "min        3.898751\n",
       "25%        7.199580\n",
       "50%        8.399792\n",
       "75%        8.999928\n",
       "max       12.000013\n",
       "Name: ctor, dtype: float64"
      ]
     },
     "execution_count": 18,
     "metadata": {},
     "output_type": "execute_result"
    }
   ],
   "source": [
    "df['ctor'].describe()"
   ]
  },
  {
   "cell_type": "code",
   "execution_count": 19,
   "id": "c90382ad-801d-43c9-80a3-3e2e1eaa3da1",
   "metadata": {},
   "outputs": [
    {
     "data": {
      "text/html": [
       "<div>\n",
       "<style scoped>\n",
       "    .dataframe tbody tr th:only-of-type {\n",
       "        vertical-align: middle;\n",
       "    }\n",
       "\n",
       "    .dataframe tbody tr th {\n",
       "        vertical-align: top;\n",
       "    }\n",
       "\n",
       "    .dataframe thead th {\n",
       "        text-align: right;\n",
       "    }\n",
       "</style>\n",
       "<table border=\"1\" class=\"dataframe\">\n",
       "  <thead>\n",
       "    <tr style=\"text-align: right;\">\n",
       "      <th></th>\n",
       "      <th>Тема письма</th>\n",
       "      <th>delivery_rate</th>\n",
       "      <th>open_rate</th>\n",
       "      <th>ctor</th>\n",
       "      <th>ur</th>\n",
       "    </tr>\n",
       "  </thead>\n",
       "  <tbody>\n",
       "    <tr>\n",
       "      <th>65</th>\n",
       "      <td>Тема письма 158</td>\n",
       "      <td>96.999956</td>\n",
       "      <td>17.999957</td>\n",
       "      <td>12.000013</td>\n",
       "      <td>0.589989</td>\n",
       "    </tr>\n",
       "  </tbody>\n",
       "</table>\n",
       "</div>"
      ],
      "text/plain": [
       "        Тема письма  delivery_rate  open_rate       ctor        ur\n",
       "65  Тема письма 158      96.999956  17.999957  12.000013  0.589989"
      ]
     },
     "execution_count": 19,
     "metadata": {},
     "output_type": "execute_result"
    }
   ],
   "source": [
    "df[df['ctor'] == df['ctor'].max()][['Тема письма', 'delivery_rate', 'open_rate', 'ctor', 'ur']]"
   ]
  },
  {
   "cell_type": "markdown",
   "id": "9803c3fc-6fed-4540-a229-3b7811e53a06",
   "metadata": {},
   "source": [
    "**ВЫВОД:**\n",
    "<hr style=\"border-color: green;\">\n",
    "\n",
    "Лучшей темой является **\"Тема 158\"**.\\\n",
    "Письма с данной темой:\n",
    "- чаще доходят до пользователя;\n",
    "- выше процент писем, которые открыли получатели, среди всех доставленных сообщений;\n",
    "- имеют высокий процент кликов в письмах;\n",
    "- имеют меньшую долю отписок\n",
    "\n",
    "<hr style=\"border-color: green;\"> "
   ]
  },
  {
   "cell_type": "markdown",
   "id": "bbc339c5-a69b-4588-9409-20bab8bcab2a",
   "metadata": {},
   "source": [
    "## Лучший день недели для планирования рассылок"
   ]
  },
  {
   "cell_type": "markdown",
   "id": "0ad9b957-fa1e-4faf-b4e8-d0e664f569b0",
   "metadata": {},
   "source": [
    "Посмотрим на показатель CTOR в разрезе дней недели:"
   ]
  },
  {
   "cell_type": "code",
   "execution_count": 20,
   "id": "c14933de-989f-4956-93a1-fce7290e3058",
   "metadata": {},
   "outputs": [
    {
     "data": {
      "text/html": [
       "<div>\n",
       "<style scoped>\n",
       "    .dataframe tbody tr th:only-of-type {\n",
       "        vertical-align: middle;\n",
       "    }\n",
       "\n",
       "    .dataframe tbody tr th {\n",
       "        vertical-align: top;\n",
       "    }\n",
       "\n",
       "    .dataframe thead th {\n",
       "        text-align: right;\n",
       "    }\n",
       "</style>\n",
       "<table border=\"1\" class=\"dataframe\">\n",
       "  <thead>\n",
       "    <tr style=\"text-align: right;\">\n",
       "      <th></th>\n",
       "      <th>День недели.1</th>\n",
       "      <th>ctor</th>\n",
       "    </tr>\n",
       "  </thead>\n",
       "  <tbody>\n",
       "    <tr>\n",
       "      <th>0</th>\n",
       "      <td>вторник</td>\n",
       "      <td>8.975693</td>\n",
       "    </tr>\n",
       "    <tr>\n",
       "      <th>1</th>\n",
       "      <td>понедельник</td>\n",
       "      <td>8.143871</td>\n",
       "    </tr>\n",
       "    <tr>\n",
       "      <th>2</th>\n",
       "      <td>пятница</td>\n",
       "      <td>8.134716</td>\n",
       "    </tr>\n",
       "    <tr>\n",
       "      <th>3</th>\n",
       "      <td>среда</td>\n",
       "      <td>8.009670</td>\n",
       "    </tr>\n",
       "    <tr>\n",
       "      <th>5</th>\n",
       "      <td>четверг</td>\n",
       "      <td>7.905292</td>\n",
       "    </tr>\n",
       "    <tr>\n",
       "      <th>4</th>\n",
       "      <td>суббота</td>\n",
       "      <td>6.839463</td>\n",
       "    </tr>\n",
       "  </tbody>\n",
       "</table>\n",
       "</div>"
      ],
      "text/plain": [
       "  День недели.1      ctor\n",
       "0       вторник  8.975693\n",
       "1   понедельник  8.143871\n",
       "2       пятница  8.134716\n",
       "3         среда  8.009670\n",
       "5       четверг  7.905292\n",
       "4       суббота  6.839463"
      ]
     },
     "execution_count": 20,
     "metadata": {},
     "output_type": "execute_result"
    }
   ],
   "source": [
    "(\n",
    "    df\n",
    "    .pivot_table(index='День недели.1', values='ctor', aggfunc='mean')\n",
    "    .reset_index()\n",
    "    .sort_values(by='ctor', ascending=False)\n",
    ")"
   ]
  },
  {
   "cell_type": "markdown",
   "id": "1b37e161-5413-4501-befe-e565c810d19f",
   "metadata": {},
   "source": [
    "**ВЫВОД:**\n",
    "<hr style=\"border-color: green;\">\n",
    "\n",
    "Во вторник в среднем процент кликов в письмах, которые подписчики открыли выше чем в другие дни.\n",
    "\n",
    "<hr style=\"border-color: green;\"> "
   ]
  },
  {
   "cell_type": "markdown",
   "id": "67ba2662-036a-4c49-aef6-40a30ffa1ba8",
   "metadata": {},
   "source": [
    "## ГРАФИКИ"
   ]
  },
  {
   "cell_type": "markdown",
   "id": "6b262adf-5117-4f4f-b44f-abf82141b08f",
   "metadata": {},
   "source": [
    "### Динамика изменения метрик"
   ]
  },
  {
   "cell_type": "code",
   "execution_count": 21,
   "id": "09ee8e1d-9b33-4cfa-85f3-0598e731e8b9",
   "metadata": {},
   "outputs": [
    {
     "data": {
      "text/html": [
       "<div>\n",
       "<style scoped>\n",
       "    .dataframe tbody tr th:only-of-type {\n",
       "        vertical-align: middle;\n",
       "    }\n",
       "\n",
       "    .dataframe tbody tr th {\n",
       "        vertical-align: top;\n",
       "    }\n",
       "\n",
       "    .dataframe thead th {\n",
       "        text-align: right;\n",
       "    }\n",
       "</style>\n",
       "<table border=\"1\" class=\"dataframe\">\n",
       "  <thead>\n",
       "    <tr style=\"text-align: right;\">\n",
       "      <th></th>\n",
       "      <th>Месяц</th>\n",
       "      <th>ctor</th>\n",
       "      <th>open_rate</th>\n",
       "      <th>ur</th>\n",
       "    </tr>\n",
       "  </thead>\n",
       "  <tbody>\n",
       "    <tr>\n",
       "      <th>0</th>\n",
       "      <td>Август</td>\n",
       "      <td>7.399623</td>\n",
       "      <td>15.493279</td>\n",
       "      <td>0.564972</td>\n",
       "    </tr>\n",
       "    <tr>\n",
       "      <th>1</th>\n",
       "      <td>Апрель</td>\n",
       "      <td>7.837199</td>\n",
       "      <td>15.316845</td>\n",
       "      <td>0.826841</td>\n",
       "    </tr>\n",
       "    <tr>\n",
       "      <th>2</th>\n",
       "      <td>Декабрь</td>\n",
       "      <td>7.940949</td>\n",
       "      <td>13.342320</td>\n",
       "      <td>5.113199</td>\n",
       "    </tr>\n",
       "    <tr>\n",
       "      <th>3</th>\n",
       "      <td>Июль</td>\n",
       "      <td>7.649746</td>\n",
       "      <td>14.841645</td>\n",
       "      <td>0.599953</td>\n",
       "    </tr>\n",
       "    <tr>\n",
       "      <th>4</th>\n",
       "      <td>Июнь</td>\n",
       "      <td>8.074722</td>\n",
       "      <td>15.293292</td>\n",
       "      <td>0.614952</td>\n",
       "    </tr>\n",
       "  </tbody>\n",
       "</table>\n",
       "</div>"
      ],
      "text/plain": [
       "     Месяц      ctor  open_rate        ur\n",
       "0   Август  7.399623  15.493279  0.564972\n",
       "1   Апрель  7.837199  15.316845  0.826841\n",
       "2  Декабрь  7.940949  13.342320  5.113199\n",
       "3     Июль  7.649746  14.841645  0.599953\n",
       "4     Июнь  8.074722  15.293292  0.614952"
      ]
     },
     "execution_count": 21,
     "metadata": {},
     "output_type": "execute_result"
    }
   ],
   "source": [
    "dynamics = df.pivot_table(index='Месяц', values=['ctor', 'open_rate', 'ur'], aggfunc='mean')\n",
    "\n",
    "dynamics = dynamics.reset_index()\n",
    "\n",
    "dynamics.head()"
   ]
  },
  {
   "cell_type": "code",
   "execution_count": 22,
   "id": "400e5516-2f98-4654-9e65-d1580767c927",
   "metadata": {},
   "outputs": [],
   "source": [
    "months = [\"Январь\", \"Февраль\", \"Март\", \"Апрель\", \"Май\", \"Июнь\",\n",
    "          \"Июль\", \"Август\", \"Сентябрь\", \"Октябрь\", \"Ноябрь\", \"Декабрь\"]\n",
    "\n",
    "dynamics['Месяц'] = pd.Categorical(dynamics['Месяц'], categories=months, ordered=True)"
   ]
  },
  {
   "cell_type": "code",
   "execution_count": 23,
   "id": "2b91243b-c465-4277-8b75-f0aafa350c07",
   "metadata": {},
   "outputs": [
    {
     "data": {
      "image/svg+xml": [
       "<svg class=\"main-svg\" xmlns=\"http://www.w3.org/2000/svg\" xmlns:xlink=\"http://www.w3.org/1999/xlink\" width=\"800\" height=\"500\" style=\"\" viewBox=\"0 0 800 500\"><rect x=\"0\" y=\"0\" width=\"800\" height=\"500\" style=\"fill: rgb(255, 255, 255); fill-opacity: 1;\"/><defs id=\"defs-7624e8\"><g class=\"clips\"><clipPath id=\"clip7624e8xyplot\" class=\"plotclip\"><rect width=\"594\" height=\"320\"/></clipPath><clipPath class=\"axesclip\" id=\"clip7624e8x\"><rect x=\"80\" y=\"0\" width=\"594\" height=\"500\"/></clipPath><clipPath class=\"axesclip\" id=\"clip7624e8y\"><rect x=\"0\" y=\"100\" width=\"800\" height=\"320\"/></clipPath><clipPath class=\"axesclip\" id=\"clip7624e8xy\"><rect x=\"80\" y=\"100\" width=\"594\" height=\"320\"/></clipPath></g><g class=\"gradients\"/><g class=\"patterns\"/></defs><g class=\"bglayer\"><rect class=\"bg\" x=\"80\" y=\"100\" width=\"594\" height=\"320\" style=\"fill: rgb(229, 236, 246); fill-opacity: 1; stroke-width: 0;\"/></g><g class=\"layer-below\"><g class=\"imagelayer\"/><g class=\"shapelayer\"/></g><g class=\"cartesianlayer\"><g class=\"subplot xy\"><g class=\"layer-subplot\"><g class=\"shapelayer\"/><g class=\"imagelayer\"/></g><g class=\"gridlayer\"><g class=\"x\"><path class=\"xgrid crisp\" transform=\"translate(134,0)\" d=\"M0,100v320\" style=\"stroke: rgb(255, 255, 255); stroke-opacity: 1; stroke-width: 1px;\"/><path class=\"xgrid crisp\" transform=\"translate(188,0)\" d=\"M0,100v320\" style=\"stroke: rgb(255, 255, 255); stroke-opacity: 1; stroke-width: 1px;\"/><path class=\"xgrid crisp\" transform=\"translate(242,0)\" d=\"M0,100v320\" style=\"stroke: rgb(255, 255, 255); stroke-opacity: 1; stroke-width: 1px;\"/><path class=\"xgrid crisp\" transform=\"translate(296,0)\" d=\"M0,100v320\" style=\"stroke: rgb(255, 255, 255); stroke-opacity: 1; stroke-width: 1px;\"/><path class=\"xgrid crisp\" transform=\"translate(350,0)\" d=\"M0,100v320\" style=\"stroke: rgb(255, 255, 255); stroke-opacity: 1; stroke-width: 1px;\"/><path class=\"xgrid crisp\" transform=\"translate(404,0)\" d=\"M0,100v320\" style=\"stroke: rgb(255, 255, 255); stroke-opacity: 1; stroke-width: 1px;\"/><path class=\"xgrid crisp\" transform=\"translate(458,0)\" d=\"M0,100v320\" style=\"stroke: rgb(255, 255, 255); stroke-opacity: 1; stroke-width: 1px;\"/><path class=\"xgrid crisp\" transform=\"translate(512,0)\" d=\"M0,100v320\" style=\"stroke: rgb(255, 255, 255); stroke-opacity: 1; stroke-width: 1px;\"/><path class=\"xgrid crisp\" transform=\"translate(566,0)\" d=\"M0,100v320\" style=\"stroke: rgb(255, 255, 255); stroke-opacity: 1; stroke-width: 1px;\"/><path class=\"xgrid crisp\" transform=\"translate(620,0)\" d=\"M0,100v320\" style=\"stroke: rgb(255, 255, 255); stroke-opacity: 1; stroke-width: 1px;\"/></g><g class=\"y\"><path class=\"ygrid crisp\" transform=\"translate(0,376.32)\" d=\"M80,0h594\" style=\"stroke: rgb(255, 255, 255); stroke-opacity: 1; stroke-width: 1px;\"/><path class=\"ygrid crisp\" transform=\"translate(0,337.73)\" d=\"M80,0h594\" style=\"stroke: rgb(255, 255, 255); stroke-opacity: 1; stroke-width: 1px;\"/><path class=\"ygrid crisp\" transform=\"translate(0,299.15)\" d=\"M80,0h594\" style=\"stroke: rgb(255, 255, 255); stroke-opacity: 1; stroke-width: 1px;\"/><path class=\"ygrid crisp\" transform=\"translate(0,260.56)\" d=\"M80,0h594\" style=\"stroke: rgb(255, 255, 255); stroke-opacity: 1; stroke-width: 1px;\"/><path class=\"ygrid crisp\" transform=\"translate(0,221.98000000000002)\" d=\"M80,0h594\" style=\"stroke: rgb(255, 255, 255); stroke-opacity: 1; stroke-width: 1px;\"/><path class=\"ygrid crisp\" transform=\"translate(0,183.39)\" d=\"M80,0h594\" style=\"stroke: rgb(255, 255, 255); stroke-opacity: 1; stroke-width: 1px;\"/><path class=\"ygrid crisp\" transform=\"translate(0,144.81)\" d=\"M80,0h594\" style=\"stroke: rgb(255, 255, 255); stroke-opacity: 1; stroke-width: 1px;\"/><path class=\"ygrid crisp\" transform=\"translate(0,106.22)\" d=\"M80,0h594\" style=\"stroke: rgb(255, 255, 255); stroke-opacity: 1; stroke-width: 1px;\"/></g></g><g class=\"zerolinelayer\"><path class=\"yzl zl crisp\" transform=\"translate(0,414.9)\" d=\"M80,0h594\" style=\"stroke: rgb(255, 255, 255); stroke-opacity: 1; stroke-width: 2px;\"/></g><path class=\"xlines-below\"/><path class=\"ylines-below\"/><g class=\"overlines-below\"/><g class=\"xaxislayer-below\"/><g class=\"yaxislayer-below\"/><g class=\"overaxes-below\"/><g class=\"plot\" transform=\"translate(80,100)\" clip-path=\"url(#clip7624e8xyplot)\"><g class=\"scatterlayer mlayer\"><g class=\"trace scatter traceaccf0a\" style=\"stroke-miterlimit: 2; opacity: 1;\"><g class=\"fills\"/><g class=\"errorbars\"/><g class=\"lines\"><path class=\"js-line\" d=\"M0,155.75L54,163.06L108,154.46L162,163.7L216,138.38L270,159.12L324,167.32L378,172.14L432,150.37L486,156.32L540,157.16L594,161.7\" style=\"vector-effect: non-scaling-stroke; fill: none; stroke: rgb(99, 110, 250); stroke-opacity: 1; stroke-width: 2px; opacity: 1;\"/></g><g class=\"points\"/><g class=\"text\"/></g><g class=\"trace scatter trace3b6430\" style=\"stroke-miterlimit: 2; opacity: 1;\"><g class=\"fills\"/><g class=\"errorbars\"/><g class=\"lines\"><path class=\"js-line\" d=\"M0,68.09L54,64.74L108,59.95L162,19.4L216,23.27L270,19.86L324,28.57L378,16L432,75.18L486,40.48L540,47.45L594,57.5\" style=\"vector-effect: non-scaling-stroke; fill: none; stroke: rgb(239, 85, 59); stroke-opacity: 1; stroke-width: 2px; opacity: 1;\"/></g><g class=\"points\"/><g class=\"text\"/></g><g class=\"trace scatter trace4094cc\" style=\"stroke-miterlimit: 2; opacity: 1;\"><g class=\"fills\"/><g class=\"errorbars\"/><g class=\"lines\"><path class=\"js-line\" d=\"M0,238.6L54,297.54L108,297.54L162,298.95L216,302.17L324,303.33L378,304L432,303.93L486,274.5L540,259.94L594,216.25\" style=\"vector-effect: non-scaling-stroke; fill: none; stroke: rgb(0, 204, 150); stroke-opacity: 1; stroke-width: 2px; opacity: 1;\"/></g><g class=\"points\"/><g class=\"text\"/></g></g></g><g class=\"overplot\"/><path class=\"xlines-above crisp\" d=\"M0,0\" style=\"fill: none;\"/><path class=\"ylines-above crisp\" d=\"M0,0\" style=\"fill: none;\"/><g class=\"overlines-above\"/><g class=\"xaxislayer-above\"><g class=\"xtick\"><text text-anchor=\"start\" x=\"0\" y=\"433\" transform=\"translate(80,0) rotate(30,0,427)\" style=\"font-family: 'Open Sans', verdana, arial, sans-serif; font-size: 12px; fill: rgb(42, 63, 95); fill-opacity: 1; white-space: pre; opacity: 1;\">Январь</text></g><g class=\"xtick\"><text text-anchor=\"start\" x=\"0\" y=\"433\" transform=\"translate(134,0) rotate(30,0,427)\" style=\"font-family: 'Open Sans', verdana, arial, sans-serif; font-size: 12px; fill: rgb(42, 63, 95); fill-opacity: 1; white-space: pre; opacity: 1;\">Февраль</text></g><g class=\"xtick\"><text text-anchor=\"start\" x=\"0\" y=\"433\" transform=\"translate(188,0) rotate(30,0,427)\" style=\"font-family: 'Open Sans', verdana, arial, sans-serif; font-size: 12px; fill: rgb(42, 63, 95); fill-opacity: 1; white-space: pre; opacity: 1;\">Март</text></g><g class=\"xtick\"><text text-anchor=\"start\" x=\"0\" y=\"433\" transform=\"translate(242,0) rotate(30,0,427)\" style=\"font-family: 'Open Sans', verdana, arial, sans-serif; font-size: 12px; fill: rgb(42, 63, 95); fill-opacity: 1; white-space: pre; opacity: 1;\">Апрель</text></g><g class=\"xtick\"><text text-anchor=\"start\" x=\"0\" y=\"433\" transform=\"translate(296,0) rotate(30,0,427)\" style=\"font-family: 'Open Sans', verdana, arial, sans-serif; font-size: 12px; fill: rgb(42, 63, 95); fill-opacity: 1; white-space: pre; opacity: 1;\">Май</text></g><g class=\"xtick\"><text text-anchor=\"start\" x=\"0\" y=\"433\" transform=\"translate(350,0) rotate(30,0,427)\" style=\"font-family: 'Open Sans', verdana, arial, sans-serif; font-size: 12px; fill: rgb(42, 63, 95); fill-opacity: 1; white-space: pre; opacity: 1;\">Июнь</text></g><g class=\"xtick\"><text text-anchor=\"start\" x=\"0\" y=\"433\" transform=\"translate(404,0) rotate(30,0,427)\" style=\"font-family: 'Open Sans', verdana, arial, sans-serif; font-size: 12px; fill: rgb(42, 63, 95); fill-opacity: 1; white-space: pre; opacity: 1;\">Июль</text></g><g class=\"xtick\"><text text-anchor=\"start\" x=\"0\" y=\"433\" transform=\"translate(458,0) rotate(30,0,427)\" style=\"font-family: 'Open Sans', verdana, arial, sans-serif; font-size: 12px; fill: rgb(42, 63, 95); fill-opacity: 1; white-space: pre; opacity: 1;\">Август</text></g><g class=\"xtick\"><text text-anchor=\"start\" x=\"0\" y=\"433\" transform=\"translate(512,0) rotate(30,0,427)\" style=\"font-family: 'Open Sans', verdana, arial, sans-serif; font-size: 12px; fill: rgb(42, 63, 95); fill-opacity: 1; white-space: pre; opacity: 1;\">Сентябрь</text></g><g class=\"xtick\"><text text-anchor=\"start\" x=\"0\" y=\"433\" transform=\"translate(566,0) rotate(30,0,427)\" style=\"font-family: 'Open Sans', verdana, arial, sans-serif; font-size: 12px; fill: rgb(42, 63, 95); fill-opacity: 1; white-space: pre; opacity: 1;\">Октябрь</text></g><g class=\"xtick\"><text text-anchor=\"start\" x=\"0\" y=\"433\" transform=\"translate(620,0) rotate(30,0,427)\" style=\"font-family: 'Open Sans', verdana, arial, sans-serif; font-size: 12px; fill: rgb(42, 63, 95); fill-opacity: 1; white-space: pre; opacity: 1;\">Ноябрь</text></g><g class=\"xtick\"><text text-anchor=\"start\" x=\"0\" y=\"433\" transform=\"translate(674,0) rotate(30,0,427)\" style=\"font-family: 'Open Sans', verdana, arial, sans-serif; font-size: 12px; fill: rgb(42, 63, 95); fill-opacity: 1; white-space: pre; opacity: 1;\">Декабрь</text></g></g><g class=\"yaxislayer-above\"><g class=\"ytick\"><text text-anchor=\"end\" x=\"79\" y=\"4.199999999999999\" transform=\"translate(0,414.9)\" style=\"font-family: 'Open Sans', verdana, arial, sans-serif; font-size: 12px; fill: rgb(42, 63, 95); fill-opacity: 1; white-space: pre; opacity: 1;\">0</text></g><g class=\"ytick\"><text text-anchor=\"end\" x=\"79\" y=\"4.199999999999999\" style=\"font-family: 'Open Sans', verdana, arial, sans-serif; font-size: 12px; fill: rgb(42, 63, 95); fill-opacity: 1; white-space: pre; opacity: 1;\" transform=\"translate(0,376.32)\">2</text></g><g class=\"ytick\"><text text-anchor=\"end\" x=\"79\" y=\"4.199999999999999\" style=\"font-family: 'Open Sans', verdana, arial, sans-serif; font-size: 12px; fill: rgb(42, 63, 95); fill-opacity: 1; white-space: pre; opacity: 1;\" transform=\"translate(0,337.73)\">4</text></g><g class=\"ytick\"><text text-anchor=\"end\" x=\"79\" y=\"4.199999999999999\" style=\"font-family: 'Open Sans', verdana, arial, sans-serif; font-size: 12px; fill: rgb(42, 63, 95); fill-opacity: 1; white-space: pre; opacity: 1;\" transform=\"translate(0,299.15)\">6</text></g><g class=\"ytick\"><text text-anchor=\"end\" x=\"79\" y=\"4.199999999999999\" style=\"font-family: 'Open Sans', verdana, arial, sans-serif; font-size: 12px; fill: rgb(42, 63, 95); fill-opacity: 1; white-space: pre; opacity: 1;\" transform=\"translate(0,260.56)\">8</text></g><g class=\"ytick\"><text text-anchor=\"end\" x=\"79\" y=\"4.199999999999999\" style=\"font-family: 'Open Sans', verdana, arial, sans-serif; font-size: 12px; fill: rgb(42, 63, 95); fill-opacity: 1; white-space: pre; opacity: 1;\" transform=\"translate(0,221.98000000000002)\">10</text></g><g class=\"ytick\"><text text-anchor=\"end\" x=\"79\" y=\"4.199999999999999\" style=\"font-family: 'Open Sans', verdana, arial, sans-serif; font-size: 12px; fill: rgb(42, 63, 95); fill-opacity: 1; white-space: pre; opacity: 1;\" transform=\"translate(0,183.39)\">12</text></g><g class=\"ytick\"><text text-anchor=\"end\" x=\"79\" y=\"4.199999999999999\" style=\"font-family: 'Open Sans', verdana, arial, sans-serif; font-size: 12px; fill: rgb(42, 63, 95); fill-opacity: 1; white-space: pre; opacity: 1;\" transform=\"translate(0,144.81)\">14</text></g><g class=\"ytick\"><text text-anchor=\"end\" x=\"79\" y=\"4.199999999999999\" style=\"font-family: 'Open Sans', verdana, arial, sans-serif; font-size: 12px; fill: rgb(42, 63, 95); fill-opacity: 1; white-space: pre; opacity: 1;\" transform=\"translate(0,106.22)\">16</text></g></g><g class=\"overaxes-above\"/></g></g><g class=\"polarlayer\"/><g class=\"smithlayer\"/><g class=\"ternarylayer\"/><g class=\"geolayer\"/><g class=\"funnelarealayer\"/><g class=\"pielayer\"/><g class=\"iciclelayer\"/><g class=\"treemaplayer\"/><g class=\"sunburstlayer\"/><g class=\"glimages\"/><defs id=\"topdefs-7624e8\"><g class=\"clips\"/><clipPath id=\"legend7624e8\"><rect width=\"102\" height=\"86\" x=\"0\" y=\"0\"/></clipPath></defs><g class=\"layer-above\"><g class=\"imagelayer\"/><g class=\"shapelayer\"/></g><g class=\"infolayer\"><g class=\"legend\" pointer-events=\"all\" transform=\"translate(685.88,100)\"><rect class=\"bg\" shape-rendering=\"crispEdges\" style=\"stroke: rgb(68, 68, 68); stroke-opacity: 1; fill: rgb(255, 255, 255); fill-opacity: 1; stroke-width: 0px;\" width=\"102\" height=\"86\" x=\"0\" y=\"0\"/><g class=\"scrollbox\" transform=\"\" clip-path=\"url(#legend7624e8)\"><text class=\"legendtitletext\" text-anchor=\"start\" x=\"2\" y=\"18.2\" style=\"font-family: 'Open Sans', verdana, arial, sans-serif; font-size: 14px; fill: rgb(42, 63, 95); fill-opacity: 1; white-space: pre;\">Метрики</text><g class=\"groups\" transform=\"\"><g class=\"traces\" transform=\"translate(0,32.7)\" style=\"opacity: 1;\"><text class=\"legendtext\" text-anchor=\"start\" x=\"40\" y=\"4.680000000000001\" style=\"font-family: 'Open Sans', verdana, arial, sans-serif; font-size: 12px; fill: rgb(42, 63, 95); fill-opacity: 1; white-space: pre;\">ctor</text><g class=\"layers\" style=\"opacity: 1;\"><g class=\"legendfill\"/><g class=\"legendlines\"><path class=\"js-line\" d=\"M5,0h30\" style=\"fill: none; stroke: rgb(99, 110, 250); stroke-opacity: 1; stroke-width: 2px;\"/></g><g class=\"legendsymbols\"><g class=\"legendpoints\"/></g></g><rect class=\"legendtoggle\" x=\"0\" y=\"-9.5\" width=\"96.890625\" height=\"19\" style=\"fill: rgb(0, 0, 0); fill-opacity: 0;\"/></g></g><g class=\"groups\" transform=\"\"><g class=\"traces\" transform=\"translate(0,51.7)\" style=\"opacity: 1;\"><text class=\"legendtext\" text-anchor=\"start\" x=\"40\" y=\"4.680000000000001\" style=\"font-family: 'Open Sans', verdana, arial, sans-serif; font-size: 12px; fill: rgb(42, 63, 95); fill-opacity: 1; white-space: pre;\">open_rate</text><g class=\"layers\" style=\"opacity: 1;\"><g class=\"legendfill\"/><g class=\"legendlines\"><path class=\"js-line\" d=\"M5,0h30\" style=\"fill: none; stroke: rgb(239, 85, 59); stroke-opacity: 1; stroke-width: 2px;\"/></g><g class=\"legendsymbols\"><g class=\"legendpoints\"/></g></g><rect class=\"legendtoggle\" x=\"0\" y=\"-9.5\" width=\"96.890625\" height=\"19\" style=\"fill: rgb(0, 0, 0); fill-opacity: 0;\"/></g></g><g class=\"groups\" transform=\"\"><g class=\"traces\" transform=\"translate(0,70.7)\" style=\"opacity: 1;\"><text class=\"legendtext\" text-anchor=\"start\" x=\"40\" y=\"4.680000000000001\" style=\"font-family: 'Open Sans', verdana, arial, sans-serif; font-size: 12px; fill: rgb(42, 63, 95); fill-opacity: 1; white-space: pre;\">ur</text><g class=\"layers\" style=\"opacity: 1;\"><g class=\"legendfill\"/><g class=\"legendlines\"><path class=\"js-line\" d=\"M5,0h30\" style=\"fill: none; stroke: rgb(0, 204, 150); stroke-opacity: 1; stroke-width: 2px;\"/></g><g class=\"legendsymbols\"><g class=\"legendpoints\"/></g></g><rect class=\"legendtoggle\" x=\"0\" y=\"-9.5\" width=\"96.890625\" height=\"19\" style=\"fill: rgb(0, 0, 0); fill-opacity: 0;\"/></g></g></g><rect class=\"scrollbar\" rx=\"20\" ry=\"3\" width=\"0\" height=\"0\" style=\"fill: rgb(128, 139, 164); fill-opacity: 1;\" x=\"0\" y=\"0\"/></g><g class=\"g-gtitle\"><text class=\"gtitle\" x=\"40\" y=\"50\" text-anchor=\"start\" dy=\"0em\" style=\"font-family: 'Open Sans', verdana, arial, sans-serif; font-size: 17px; fill: rgb(42, 63, 95); opacity: 1; font-weight: normal; white-space: pre;\">Динамика ключевых метрик</text></g><g class=\"g-xtitle\"><text class=\"xtitle\" x=\"377\" y=\"488.35078125\" text-anchor=\"middle\" style=\"font-family: 'Open Sans', verdana, arial, sans-serif; font-size: 14px; fill: rgb(42, 63, 95); opacity: 1; font-weight: normal; white-space: pre;\">Месяц</text></g><g class=\"g-ytitle\"><text class=\"ytitle\" transform=\"rotate(-90,40.465625,260)\" x=\"40.465625\" y=\"260\" text-anchor=\"middle\" style=\"font-family: 'Open Sans', verdana, arial, sans-serif; font-size: 14px; fill: rgb(42, 63, 95); opacity: 1; font-weight: normal; white-space: pre;\">Ср-ие значения метрик</text></g></g></svg>"
      ]
     },
     "metadata": {},
     "output_type": "display_data"
    }
   ],
   "source": [
    "fig = px.line(dynamics.sort_values('Месяц'),\n",
    "              x=\"Месяц\",\n",
    "              y=dynamics.columns,\n",
    "              title=\"Динамика ключевых метрик\")\n",
    "\n",
    "fig.update_layout(width=800, height=500,\n",
    "                  hoverlabel=dict(font_color=\"white\"),\n",
    "                 legend_title='Метрики')\n",
    "\n",
    "fig.update_xaxes(title='Месяц')\n",
    "fig.update_yaxes(title='Ср-ие значения метрик')\n",
    "\n",
    "fig.show(\"svg\")"
   ]
  },
  {
   "cell_type": "code",
   "execution_count": 24,
   "id": "03e38ec4-6671-417e-856b-751541129cd8",
   "metadata": {},
   "outputs": [
    {
     "data": {
      "text/html": [
       "<div>\n",
       "<style scoped>\n",
       "    .dataframe tbody tr th:only-of-type {\n",
       "        vertical-align: middle;\n",
       "    }\n",
       "\n",
       "    .dataframe tbody tr th {\n",
       "        vertical-align: top;\n",
       "    }\n",
       "\n",
       "    .dataframe thead th {\n",
       "        text-align: right;\n",
       "    }\n",
       "</style>\n",
       "<table border=\"1\" class=\"dataframe\">\n",
       "  <thead>\n",
       "    <tr style=\"text-align: right;\">\n",
       "      <th></th>\n",
       "      <th>Месяц</th>\n",
       "      <th>delivery_rate</th>\n",
       "    </tr>\n",
       "  </thead>\n",
       "  <tbody>\n",
       "    <tr>\n",
       "      <th>0</th>\n",
       "      <td>Август</td>\n",
       "      <td>98.166611</td>\n",
       "    </tr>\n",
       "    <tr>\n",
       "      <th>1</th>\n",
       "      <td>Апрель</td>\n",
       "      <td>94.999951</td>\n",
       "    </tr>\n",
       "    <tr>\n",
       "      <th>2</th>\n",
       "      <td>Декабрь</td>\n",
       "      <td>98.161736</td>\n",
       "    </tr>\n",
       "    <tr>\n",
       "      <th>3</th>\n",
       "      <td>Июль</td>\n",
       "      <td>98.083306</td>\n",
       "    </tr>\n",
       "    <tr>\n",
       "      <th>4</th>\n",
       "      <td>Июнь</td>\n",
       "      <td>98.166613</td>\n",
       "    </tr>\n",
       "  </tbody>\n",
       "</table>\n",
       "</div>"
      ],
      "text/plain": [
       "     Месяц  delivery_rate\n",
       "0   Август      98.166611\n",
       "1   Апрель      94.999951\n",
       "2  Декабрь      98.161736\n",
       "3     Июль      98.083306\n",
       "4     Июнь      98.166613"
      ]
     },
     "execution_count": 24,
     "metadata": {},
     "output_type": "execute_result"
    }
   ],
   "source": [
    "dynamics_dr = df.pivot_table(index='Месяц', values=['delivery_rate'], aggfunc='mean')\n",
    "\n",
    "dynamics_dr = dynamics_dr.reset_index()\n",
    "\n",
    "dynamics_dr.head()"
   ]
  },
  {
   "cell_type": "code",
   "execution_count": 25,
   "id": "4061cda5-727b-4d8b-9a30-9d02bb89b950",
   "metadata": {},
   "outputs": [],
   "source": [
    "dynamics_dr['Месяц'] = pd.Categorical(dynamics_dr['Месяц'], categories=months, ordered=True)"
   ]
  },
  {
   "cell_type": "code",
   "execution_count": 26,
   "id": "fbae7eba-0fdb-4bd9-a62c-7ecb5badf393",
   "metadata": {},
   "outputs": [
    {
     "data": {
      "image/svg+xml": [
       "<svg class=\"main-svg\" xmlns=\"http://www.w3.org/2000/svg\" xmlns:xlink=\"http://www.w3.org/1999/xlink\" width=\"800\" height=\"500\" style=\"\" viewBox=\"0 0 800 500\"><rect x=\"0\" y=\"0\" width=\"800\" height=\"500\" style=\"fill: rgb(255, 255, 255); fill-opacity: 1;\"/><defs id=\"defs-752c28\"><g class=\"clips\"><clipPath id=\"clip752c28xyplot\" class=\"plotclip\"><rect width=\"578\" height=\"320\"/></clipPath><clipPath class=\"axesclip\" id=\"clip752c28x\"><rect x=\"80\" y=\"0\" width=\"578\" height=\"500\"/></clipPath><clipPath class=\"axesclip\" id=\"clip752c28y\"><rect x=\"0\" y=\"100\" width=\"800\" height=\"320\"/></clipPath><clipPath class=\"axesclip\" id=\"clip752c28xy\"><rect x=\"80\" y=\"100\" width=\"578\" height=\"320\"/></clipPath></g><g class=\"gradients\"/><g class=\"patterns\"/></defs><g class=\"bglayer\"><rect class=\"bg\" x=\"80\" y=\"100\" width=\"578\" height=\"320\" style=\"fill: rgb(229, 236, 246); fill-opacity: 1; stroke-width: 0;\"/></g><g class=\"layer-below\"><g class=\"imagelayer\"/><g class=\"shapelayer\"/></g><g class=\"cartesianlayer\"><g class=\"subplot xy\"><g class=\"layer-subplot\"><g class=\"shapelayer\"/><g class=\"imagelayer\"/></g><g class=\"gridlayer\"><g class=\"x\"><path class=\"xgrid crisp\" transform=\"translate(132.55,0)\" d=\"M0,100v320\" style=\"stroke: rgb(255, 255, 255); stroke-opacity: 1; stroke-width: 1px;\"/><path class=\"xgrid crisp\" transform=\"translate(185.09,0)\" d=\"M0,100v320\" style=\"stroke: rgb(255, 255, 255); stroke-opacity: 1; stroke-width: 1px;\"/><path class=\"xgrid crisp\" transform=\"translate(237.64,0)\" d=\"M0,100v320\" style=\"stroke: rgb(255, 255, 255); stroke-opacity: 1; stroke-width: 1px;\"/><path class=\"xgrid crisp\" transform=\"translate(290.18,0)\" d=\"M0,100v320\" style=\"stroke: rgb(255, 255, 255); stroke-opacity: 1; stroke-width: 1px;\"/><path class=\"xgrid crisp\" transform=\"translate(342.73,0)\" d=\"M0,100v320\" style=\"stroke: rgb(255, 255, 255); stroke-opacity: 1; stroke-width: 1px;\"/><path class=\"xgrid crisp\" transform=\"translate(395.27,0)\" d=\"M0,100v320\" style=\"stroke: rgb(255, 255, 255); stroke-opacity: 1; stroke-width: 1px;\"/><path class=\"xgrid crisp\" transform=\"translate(447.82,0)\" d=\"M0,100v320\" style=\"stroke: rgb(255, 255, 255); stroke-opacity: 1; stroke-width: 1px;\"/><path class=\"xgrid crisp\" transform=\"translate(500.36,0)\" d=\"M0,100v320\" style=\"stroke: rgb(255, 255, 255); stroke-opacity: 1; stroke-width: 1px;\"/><path class=\"xgrid crisp\" transform=\"translate(552.9100000000001,0)\" d=\"M0,100v320\" style=\"stroke: rgb(255, 255, 255); stroke-opacity: 1; stroke-width: 1px;\"/><path class=\"xgrid crisp\" transform=\"translate(605.45,0)\" d=\"M0,100v320\" style=\"stroke: rgb(255, 255, 255); stroke-opacity: 1; stroke-width: 1px;\"/></g><g class=\"y\"><path class=\"ygrid crisp\" transform=\"translate(0,404)\" d=\"M80,0h578\" style=\"stroke: rgb(255, 255, 255); stroke-opacity: 1; stroke-width: 1px;\"/><path class=\"ygrid crisp\" transform=\"translate(0,359.08)\" d=\"M80,0h578\" style=\"stroke: rgb(255, 255, 255); stroke-opacity: 1; stroke-width: 1px;\"/><path class=\"ygrid crisp\" transform=\"translate(0,314.15999999999997)\" d=\"M80,0h578\" style=\"stroke: rgb(255, 255, 255); stroke-opacity: 1; stroke-width: 1px;\"/><path class=\"ygrid crisp\" transform=\"translate(0,269.24)\" d=\"M80,0h578\" style=\"stroke: rgb(255, 255, 255); stroke-opacity: 1; stroke-width: 1px;\"/><path class=\"ygrid crisp\" transform=\"translate(0,224.32999999999998)\" d=\"M80,0h578\" style=\"stroke: rgb(255, 255, 255); stroke-opacity: 1; stroke-width: 1px;\"/><path class=\"ygrid crisp\" transform=\"translate(0,179.41)\" d=\"M80,0h578\" style=\"stroke: rgb(255, 255, 255); stroke-opacity: 1; stroke-width: 1px;\"/><path class=\"ygrid crisp\" transform=\"translate(0,134.49)\" d=\"M80,0h578\" style=\"stroke: rgb(255, 255, 255); stroke-opacity: 1; stroke-width: 1px;\"/></g></g><g class=\"zerolinelayer\"/><path class=\"xlines-below\"/><path class=\"ylines-below\"/><g class=\"overlines-below\"/><g class=\"xaxislayer-below\"/><g class=\"yaxislayer-below\"/><g class=\"overaxes-below\"/><g class=\"plot\" transform=\"translate(80,100)\" clip-path=\"url(#clip752c28xyplot)\"><g class=\"scatterlayer mlayer\"><g class=\"trace scatter traceb5ecb8\" style=\"stroke-miterlimit: 2; opacity: 1;\"><g class=\"fills\"/><g class=\"errorbars\"/><g class=\"lines\"><path class=\"js-line\" d=\"M0,20.77L52.55,16L105.09,22.02L157.64,304L210.18,264.7L262.73,19.52L315.27,27.01L367.82,19.52L420.36,73L472.91,112.35L525.45,61.65L578,19.96\" style=\"vector-effect: non-scaling-stroke; fill: none; stroke: rgb(99, 110, 250); stroke-opacity: 1; stroke-width: 2px; opacity: 1;\"/></g><g class=\"points\"/><g class=\"text\"/></g></g></g><g class=\"overplot\"/><path class=\"xlines-above crisp\" d=\"M0,0\" style=\"fill: none;\"/><path class=\"ylines-above crisp\" d=\"M0,0\" style=\"fill: none;\"/><g class=\"overlines-above\"/><g class=\"xaxislayer-above\"><g class=\"xtick\"><text text-anchor=\"start\" x=\"0\" y=\"433\" transform=\"translate(80,0) rotate(30,0,427)\" style=\"font-family: 'Open Sans', verdana, arial, sans-serif; font-size: 12px; fill: rgb(42, 63, 95); fill-opacity: 1; white-space: pre; opacity: 1;\">Январь</text></g><g class=\"xtick\"><text text-anchor=\"start\" x=\"0\" y=\"433\" transform=\"translate(132.55,0) rotate(30,0,427)\" style=\"font-family: 'Open Sans', verdana, arial, sans-serif; font-size: 12px; fill: rgb(42, 63, 95); fill-opacity: 1; white-space: pre; opacity: 1;\">Февраль</text></g><g class=\"xtick\"><text text-anchor=\"start\" x=\"0\" y=\"433\" transform=\"translate(185.09,0) rotate(30,0,427)\" style=\"font-family: 'Open Sans', verdana, arial, sans-serif; font-size: 12px; fill: rgb(42, 63, 95); fill-opacity: 1; white-space: pre; opacity: 1;\">Март</text></g><g class=\"xtick\"><text text-anchor=\"start\" x=\"0\" y=\"433\" transform=\"translate(237.64,0) rotate(30,0,427)\" style=\"font-family: 'Open Sans', verdana, arial, sans-serif; font-size: 12px; fill: rgb(42, 63, 95); fill-opacity: 1; white-space: pre; opacity: 1;\">Апрель</text></g><g class=\"xtick\"><text text-anchor=\"start\" x=\"0\" y=\"433\" transform=\"translate(290.18,0) rotate(30,0,427)\" style=\"font-family: 'Open Sans', verdana, arial, sans-serif; font-size: 12px; fill: rgb(42, 63, 95); fill-opacity: 1; white-space: pre; opacity: 1;\">Май</text></g><g class=\"xtick\"><text text-anchor=\"start\" x=\"0\" y=\"433\" transform=\"translate(342.73,0) rotate(30,0,427)\" style=\"font-family: 'Open Sans', verdana, arial, sans-serif; font-size: 12px; fill: rgb(42, 63, 95); fill-opacity: 1; white-space: pre; opacity: 1;\">Июнь</text></g><g class=\"xtick\"><text text-anchor=\"start\" x=\"0\" y=\"433\" transform=\"translate(395.27,0) rotate(30,0,427)\" style=\"font-family: 'Open Sans', verdana, arial, sans-serif; font-size: 12px; fill: rgb(42, 63, 95); fill-opacity: 1; white-space: pre; opacity: 1;\">Июль</text></g><g class=\"xtick\"><text text-anchor=\"start\" x=\"0\" y=\"433\" transform=\"translate(447.82,0) rotate(30,0,427)\" style=\"font-family: 'Open Sans', verdana, arial, sans-serif; font-size: 12px; fill: rgb(42, 63, 95); fill-opacity: 1; white-space: pre; opacity: 1;\">Август</text></g><g class=\"xtick\"><text text-anchor=\"start\" x=\"0\" y=\"433\" transform=\"translate(500.36,0) rotate(30,0,427)\" style=\"font-family: 'Open Sans', verdana, arial, sans-serif; font-size: 12px; fill: rgb(42, 63, 95); fill-opacity: 1; white-space: pre; opacity: 1;\">Сентябрь</text></g><g class=\"xtick\"><text text-anchor=\"start\" x=\"0\" y=\"433\" transform=\"translate(552.9100000000001,0) rotate(30,0,427)\" style=\"font-family: 'Open Sans', verdana, arial, sans-serif; font-size: 12px; fill: rgb(42, 63, 95); fill-opacity: 1; white-space: pre; opacity: 1;\">Октябрь</text></g><g class=\"xtick\"><text text-anchor=\"start\" x=\"0\" y=\"433\" transform=\"translate(605.45,0) rotate(30,0,427)\" style=\"font-family: 'Open Sans', verdana, arial, sans-serif; font-size: 12px; fill: rgb(42, 63, 95); fill-opacity: 1; white-space: pre; opacity: 1;\">Ноябрь</text></g><g class=\"xtick\"><text text-anchor=\"start\" x=\"0\" y=\"433\" transform=\"translate(658,0) rotate(30,0,427)\" style=\"font-family: 'Open Sans', verdana, arial, sans-serif; font-size: 12px; fill: rgb(42, 63, 95); fill-opacity: 1; white-space: pre; opacity: 1;\">Декабрь</text></g></g><g class=\"yaxislayer-above\"><g class=\"ytick\"><text text-anchor=\"end\" x=\"79\" y=\"4.199999999999999\" transform=\"translate(0,404)\" style=\"font-family: 'Open Sans', verdana, arial, sans-serif; font-size: 12px; fill: rgb(42, 63, 95); fill-opacity: 1; white-space: pre; opacity: 1;\">95</text></g><g class=\"ytick\"><text text-anchor=\"end\" x=\"79\" y=\"4.199999999999999\" style=\"font-family: 'Open Sans', verdana, arial, sans-serif; font-size: 12px; fill: rgb(42, 63, 95); fill-opacity: 1; white-space: pre; opacity: 1;\" transform=\"translate(0,359.08)\">95.5</text></g><g class=\"ytick\"><text text-anchor=\"end\" x=\"79\" y=\"4.199999999999999\" style=\"font-family: 'Open Sans', verdana, arial, sans-serif; font-size: 12px; fill: rgb(42, 63, 95); fill-opacity: 1; white-space: pre; opacity: 1;\" transform=\"translate(0,314.15999999999997)\">96</text></g><g class=\"ytick\"><text text-anchor=\"end\" x=\"79\" y=\"4.199999999999999\" style=\"font-family: 'Open Sans', verdana, arial, sans-serif; font-size: 12px; fill: rgb(42, 63, 95); fill-opacity: 1; white-space: pre; opacity: 1;\" transform=\"translate(0,269.24)\">96.5</text></g><g class=\"ytick\"><text text-anchor=\"end\" x=\"79\" y=\"4.199999999999999\" style=\"font-family: 'Open Sans', verdana, arial, sans-serif; font-size: 12px; fill: rgb(42, 63, 95); fill-opacity: 1; white-space: pre; opacity: 1;\" transform=\"translate(0,224.32999999999998)\">97</text></g><g class=\"ytick\"><text text-anchor=\"end\" x=\"79\" y=\"4.199999999999999\" style=\"font-family: 'Open Sans', verdana, arial, sans-serif; font-size: 12px; fill: rgb(42, 63, 95); fill-opacity: 1; white-space: pre; opacity: 1;\" transform=\"translate(0,179.41)\">97.5</text></g><g class=\"ytick\"><text text-anchor=\"end\" x=\"79\" y=\"4.199999999999999\" style=\"font-family: 'Open Sans', verdana, arial, sans-serif; font-size: 12px; fill: rgb(42, 63, 95); fill-opacity: 1; white-space: pre; opacity: 1;\" transform=\"translate(0,134.49)\">98</text></g></g><g class=\"overaxes-above\"/></g></g><g class=\"polarlayer\"/><g class=\"smithlayer\"/><g class=\"ternarylayer\"/><g class=\"geolayer\"/><g class=\"funnelarealayer\"/><g class=\"pielayer\"/><g class=\"iciclelayer\"/><g class=\"treemaplayer\"/><g class=\"sunburstlayer\"/><g class=\"glimages\"/><defs id=\"topdefs-752c28\"><g class=\"clips\"/><clipPath id=\"legend752c28\"><rect width=\"118\" height=\"48\" x=\"0\" y=\"0\"/></clipPath></defs><g class=\"layer-above\"><g class=\"imagelayer\"/><g class=\"shapelayer\"/></g><g class=\"infolayer\"><g class=\"legend\" pointer-events=\"all\" transform=\"translate(669.5600000000001,100)\"><rect class=\"bg\" shape-rendering=\"crispEdges\" style=\"stroke: rgb(68, 68, 68); stroke-opacity: 1; fill: rgb(255, 255, 255); fill-opacity: 1; stroke-width: 0px;\" width=\"118\" height=\"48\" x=\"0\" y=\"0\"/><g class=\"scrollbox\" transform=\"\" clip-path=\"url(#legend752c28)\"><text class=\"legendtitletext\" text-anchor=\"start\" x=\"2\" y=\"18.2\" style=\"font-family: 'Open Sans', verdana, arial, sans-serif; font-size: 14px; fill: rgb(42, 63, 95); fill-opacity: 1; white-space: pre;\">Легенда</text><g class=\"groups\" transform=\"\"><g class=\"traces\" transform=\"translate(0,32.7)\" style=\"opacity: 1;\"><text class=\"legendtext\" text-anchor=\"start\" x=\"40\" y=\"4.680000000000001\" style=\"font-family: 'Open Sans', verdana, arial, sans-serif; font-size: 12px; fill: rgb(42, 63, 95); fill-opacity: 1; white-space: pre;\">delivery_rate</text><g class=\"layers\" style=\"opacity: 1;\"><g class=\"legendfill\"/><g class=\"legendlines\"><path class=\"js-line\" d=\"M5,0h30\" style=\"fill: none; stroke: rgb(99, 110, 250); stroke-opacity: 1; stroke-width: 2px;\"/></g><g class=\"legendsymbols\"><g class=\"legendpoints\"/></g></g><rect class=\"legendtoggle\" x=\"0\" y=\"-9.5\" width=\"112.046875\" height=\"19\" style=\"fill: rgb(0, 0, 0); fill-opacity: 0;\"/></g></g></g><rect class=\"scrollbar\" rx=\"20\" ry=\"3\" width=\"0\" height=\"0\" style=\"fill: rgb(128, 139, 164); fill-opacity: 1;\" x=\"0\" y=\"0\"/></g><g class=\"g-gtitle\"><text class=\"gtitle\" x=\"40\" y=\"50\" text-anchor=\"start\" dy=\"0em\" style=\"font-family: 'Open Sans', verdana, arial, sans-serif; font-size: 17px; fill: rgb(42, 63, 95); opacity: 1; font-weight: normal; white-space: pre;\">Динамика delivery rate</text></g><g class=\"g-xtitle\"><text class=\"xtitle\" x=\"369\" y=\"488.35078125\" text-anchor=\"middle\" style=\"font-family: 'Open Sans', verdana, arial, sans-serif; font-size: 14px; fill: rgb(42, 63, 95); opacity: 1; font-weight: normal; white-space: pre;\">Месяц</text></g><g class=\"g-ytitle\"><text class=\"ytitle\" transform=\"rotate(-90,30.418750000000003,260)\" x=\"30.418750000000003\" y=\"260\" text-anchor=\"middle\" style=\"font-family: 'Open Sans', verdana, arial, sans-serif; font-size: 14px; fill: rgb(42, 63, 95); opacity: 1; font-weight: normal; white-space: pre;\">Ср-ие значения метрик</text></g></g></svg>"
      ]
     },
     "metadata": {},
     "output_type": "display_data"
    }
   ],
   "source": [
    "fig = px.line(dynamics_dr.sort_values('Месяц'),\n",
    "              x=\"Месяц\",\n",
    "              y=dynamics_dr.columns,\n",
    "              title=\"Динамика delivery rate\")\n",
    "\n",
    "fig.update_layout(width=800, height=500,\n",
    "                  hoverlabel=dict(font_color=\"white\"),\n",
    "                 legend_title='Легенда')\n",
    "\n",
    "fig.update_xaxes(title='Месяц')\n",
    "fig.update_yaxes(title='Ср-ие значения метрик')\n",
    "\n",
    "fig.show(\"svg\")"
   ]
  },
  {
   "cell_type": "markdown",
   "id": "eb93dff8-9d4b-4b8b-b1e4-27cb159a4f45",
   "metadata": {},
   "source": [
    "**ВЫВОД:**\n",
    "<hr style=\"border-color: green;\">\n",
    "\n",
    "На графике видно, что в пользователи больше склонны отписываться с осени по зиму (сентябрь - февраль). Далее средний коэффициент отписок составляет 0.89 (февраль-март) и снижается к концу лета до значения 0.56\n",
    "\n",
    "Динамика Delivery Rate показывает себя более стабильно, однако в апреле наблюдается просадка до 95%, в октябре просадка до 97%.\n",
    "\n",
    "<hr style=\"border-color: green;\"> "
   ]
  },
  {
   "cell_type": "markdown",
   "id": "35e2e612-f884-47d7-af7b-2ae17118f126",
   "metadata": {},
   "source": [
    "### Воронка продаж"
   ]
  },
  {
   "cell_type": "code",
   "execution_count": 27,
   "id": "88c00300-570b-4f1a-a1c7-700e2422bbd9",
   "metadata": {},
   "outputs": [
    {
     "data": {
      "text/html": [
       "<div>\n",
       "<style scoped>\n",
       "    .dataframe tbody tr th:only-of-type {\n",
       "        vertical-align: middle;\n",
       "    }\n",
       "\n",
       "    .dataframe tbody tr th {\n",
       "        vertical-align: top;\n",
       "    }\n",
       "\n",
       "    .dataframe thead th {\n",
       "        text-align: right;\n",
       "    }\n",
       "</style>\n",
       "<table border=\"1\" class=\"dataframe\">\n",
       "  <thead>\n",
       "    <tr style=\"text-align: right;\">\n",
       "      <th></th>\n",
       "      <th>шаг_воронки</th>\n",
       "      <th>Воронка продаж. Шаг 1</th>\n",
       "      <th>Воронка продаж. Шаг 2</th>\n",
       "      <th>Воронка продаж. Шаг 3</th>\n",
       "    </tr>\n",
       "  </thead>\n",
       "  <tbody>\n",
       "    <tr>\n",
       "      <th>0</th>\n",
       "      <td>Сегмент 1</td>\n",
       "      <td>394412.223541</td>\n",
       "      <td>344313.899949</td>\n",
       "      <td>266167.741333</td>\n",
       "    </tr>\n",
       "    <tr>\n",
       "      <th>1</th>\n",
       "      <td>Сегмент 2</td>\n",
       "      <td>446090.270527</td>\n",
       "      <td>387420.441898</td>\n",
       "      <td>303791.190706</td>\n",
       "    </tr>\n",
       "    <tr>\n",
       "      <th>2</th>\n",
       "      <td>Сегмент 3</td>\n",
       "      <td>405811.512382</td>\n",
       "      <td>351268.004923</td>\n",
       "      <td>275577.762912</td>\n",
       "    </tr>\n",
       "  </tbody>\n",
       "</table>\n",
       "</div>"
      ],
      "text/plain": [
       "  шаг_воронки  Воронка продаж. Шаг 1  Воронка продаж. Шаг 2  \\\n",
       "0   Сегмент 1          394412.223541          344313.899949   \n",
       "1   Сегмент 2          446090.270527          387420.441898   \n",
       "2   Сегмент 3          405811.512382          351268.004923   \n",
       "\n",
       "   Воронка продаж. Шаг 3  \n",
       "0          266167.741333  \n",
       "1          303791.190706  \n",
       "2          275577.762912  "
      ]
     },
     "execution_count": 27,
     "metadata": {},
     "output_type": "execute_result"
    }
   ],
   "source": [
    "funnel = (\n",
    "    df\n",
    "    .pivot_table(index='Сегмент',\n",
    "                 values=['Воронка продаж. Шаг 1', 'Воронка продаж. Шаг 2', 'Воронка продаж. Шаг 3'],\n",
    "                 aggfunc='sum')\n",
    "    .reset_index()\n",
    ")\n",
    "\n",
    "funnel = funnel.rename(columns={'Сегмент': 'шаг_воронки'})\n",
    "\n",
    "funnel"
   ]
  },
  {
   "cell_type": "code",
   "execution_count": 28,
   "id": "4cf512b2-f472-43e3-93f3-3f4384ae261b",
   "metadata": {},
   "outputs": [
    {
     "data": {
      "text/html": [
       "<div>\n",
       "<style scoped>\n",
       "    .dataframe tbody tr th:only-of-type {\n",
       "        vertical-align: middle;\n",
       "    }\n",
       "\n",
       "    .dataframe tbody tr th {\n",
       "        vertical-align: top;\n",
       "    }\n",
       "\n",
       "    .dataframe thead th {\n",
       "        text-align: right;\n",
       "    }\n",
       "</style>\n",
       "<table border=\"1\" class=\"dataframe\">\n",
       "  <thead>\n",
       "    <tr style=\"text-align: right;\">\n",
       "      <th></th>\n",
       "      <th>funnel_step</th>\n",
       "      <th>сегмент_1</th>\n",
       "      <th>сегмент_2</th>\n",
       "      <th>сегмент_3</th>\n",
       "    </tr>\n",
       "  </thead>\n",
       "  <tbody>\n",
       "    <tr>\n",
       "      <th>0</th>\n",
       "      <td>Воронка продаж. Шаг 1</td>\n",
       "      <td>394412.223541</td>\n",
       "      <td>446090.270527</td>\n",
       "      <td>405811.512382</td>\n",
       "    </tr>\n",
       "    <tr>\n",
       "      <th>1</th>\n",
       "      <td>Воронка продаж. Шаг 2</td>\n",
       "      <td>344313.899949</td>\n",
       "      <td>387420.441898</td>\n",
       "      <td>351268.004923</td>\n",
       "    </tr>\n",
       "    <tr>\n",
       "      <th>2</th>\n",
       "      <td>Воронка продаж. Шаг 3</td>\n",
       "      <td>266167.741333</td>\n",
       "      <td>303791.190706</td>\n",
       "      <td>275577.762912</td>\n",
       "    </tr>\n",
       "  </tbody>\n",
       "</table>\n",
       "</div>"
      ],
      "text/plain": [
       "             funnel_step      сегмент_1      сегмент_2      сегмент_3\n",
       "0  Воронка продаж. Шаг 1  394412.223541  446090.270527  405811.512382\n",
       "1  Воронка продаж. Шаг 2  344313.899949  387420.441898  351268.004923\n",
       "2  Воронка продаж. Шаг 3  266167.741333  303791.190706  275577.762912"
      ]
     },
     "execution_count": 28,
     "metadata": {},
     "output_type": "execute_result"
    }
   ],
   "source": [
    "funnel_t = funnel.set_index('шаг_воронки').T\n",
    "\n",
    "funnel_t = funnel_t.rename(columns={'Сегмент 1': 'сегмент_1', 'Сегмент 2': 'сегмент_2', 'Сегмент 3': 'сегмент_3'})\n",
    "\n",
    "funnel_t = funnel_t.reset_index()\n",
    "funnel_t.columns.name = None\n",
    "\n",
    "funnel_t = funnel_t.rename(columns={'index': 'funnel_step'})\n",
    "\n",
    "funnel_t"
   ]
  },
  {
   "cell_type": "code",
   "execution_count": 29,
   "id": "fbac751e-e61c-4433-85a8-5ad96310273c",
   "metadata": {},
   "outputs": [
    {
     "data": {
      "image/png": "[encoded data removed]"
     },
     "metadata": {},
     "output_type": "display_data"
    }
   ],
   "source": [
    "fig = go.Figure()\n",
    "\n",
    "fig.add_trace(go.Funnel(\n",
    "    name = 'Сегмент 1',\n",
    "    y=funnel_t['funnel_step'],\n",
    "    x=funnel_t['сегмент_1'],\n",
    "    textinfo = \"value+percent previous\"))\n",
    "\n",
    "fig.add_trace(go.Funnel(\n",
    "    name = 'Сегмент 2',\n",
    "    orientation = \"h\",\n",
    "    y=funnel_t['funnel_step'],\n",
    "    x = funnel_t['сегмент_2'],\n",
    "    textposition = \"inside\",\n",
    "    textinfo = \"value+percent previous\"))\n",
    "\n",
    "fig.add_trace(go.Funnel(\n",
    "    name = 'Сегмент 3',\n",
    "    orientation = \"h\",\n",
    "    y=funnel_t['funnel_step'],\n",
    "    x = funnel_t['сегмент_3'],\n",
    "    textposition = \"inside\",\n",
    "    textinfo = \"value+percent previous\"))\n",
    "\n",
    "fig.update_layout(title='Воронка событий',\n",
    "                  width=850,\n",
    "                  height=450,\n",
    "                  hoverlabel=dict(font_color=\"white\"))\n",
    "\n",
    "fig.update_traces(textfont_color='white',\n",
    "                  hovertemplate=\"Стадия: %{y} <br>Доля от всех: %{percentTotal}\\\n",
    "                  <br>Доля с прошлой стадии: %{percentPrevious}<extra></extra>\")\n",
    "\n",
    "fig.show(\"png\")"
   ]
  },
  {
   "cell_type": "markdown",
   "id": "177d34a2-8b91-4b11-bb98-57579520f1fb",
   "metadata": {},
   "source": [
    "**ВЫВОД:**\n",
    "<hr style=\"border-color: green;\">\n",
    "\n",
    "Наблюдаем, что не все пользователи доходят до последней стадии воронки продаж.\n",
    "\n",
    "<hr style=\"border-color: green;\"> "
   ]
  }
 ],
 "metadata": {
  "kernelspec": {
   "display_name": "Python 3 (ipykernel)",
   "language": "python",
   "name": "python3"
  },
  "language_info": {
   "codemirror_mode": {
    "name": "ipython",
    "version": 3
   },
   "file_extension": ".py",
   "mimetype": "text/x-python",
   "name": "python",
   "nbconvert_exporter": "python",
   "pygments_lexer": "ipython3",
   "version": "3.9.5"
  }
 },
 "nbformat": 4,
 "nbformat_minor": 5
}
