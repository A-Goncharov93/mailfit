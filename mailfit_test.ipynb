{
 "cells": [
  {
   "cell_type": "markdown",
   "id": "b92aab8a-cd5f-428f-aa7b-9ea7dc592a32",
   "metadata": {},
   "source": [
    "# ТЕСТОВОЕ ЗАДАНИЕ ДЛЯ MAILFIT"
   ]
  },
  {
   "cell_type": "markdown",
   "id": "8fbda619-f919-48e1-88a8-bcf0d11e82cc",
   "metadata": {},
   "source": [
    "**ЦЕЛЬ:**\n",
    "\n",
    "Посчитать следующие метрики:\n",
    "\n",
    "- Delivery rate\n",
    "- Open rate\n",
    "- Click to Open rate\n",
    "- Unsubscribe rate\n",
    "- Лучшая тема\n",
    "- Лучший день недели (для планирования рассылок)\n"
   ]
  },
  {
   "cell_type": "markdown",
   "id": "e1c1b9ef-7237-4f57-ae9c-fb750afb81fe",
   "metadata": {},
   "source": [
    "## ИМПОРТ ДАТАСЕТА"
   ]
  },
  {
   "cell_type": "code",
   "execution_count": 22,
   "id": "9e0a9e81-6e9b-46f3-af26-98c9ee037384",
   "metadata": {},
   "outputs": [],
   "source": [
    "import pandas as pd\n",
    "from io import BytesIO\n",
    "import requests\n",
    "\n",
    "import matplotlib.pyplot as plt\n",
    "import plotly.express as px \n",
    "import seaborn as sns\n",
    "from plotly import graph_objects as go\n",
    "import scipy.stats as st "
   ]
  },
  {
   "cell_type": "code",
   "execution_count": 2,
   "id": "0e4826b0-65e5-4429-9361-977468f9b72c",
   "metadata": {},
   "outputs": [],
   "source": [
    "spreadsheet_id = '1abxRHk2LguT-K3ewR6NZVwQh2gKTEU45EC9kZ-5PaOE'\n",
    "file_name = 'https://docs.google.com/spreadsheets/d/{}/export?format=xlsx'.format(spreadsheet_id)\n",
    "r = requests.get(file_name)\n",
    "\n",
    "pd.set_option('max_columns', None)"
   ]
  },
  {
   "cell_type": "code",
   "execution_count": 3,
   "id": "3414a3b8-034b-40ef-b1d1-53f85e52bd89",
   "metadata": {},
   "outputs": [],
   "source": [
    "df = pd.read_excel(BytesIO(r.content))"
   ]
  },
  {
   "cell_type": "markdown",
   "id": "90d07370-3bca-4e7a-ab6f-45ae952a692e",
   "metadata": {},
   "source": [
    "## ИЗУЧЕНИЕ ОБЩЕЙ ИНФОРМАЦИИ"
   ]
  },
  {
   "cell_type": "code",
   "execution_count": 4,
   "id": "6d8bdf1f-1cb5-4a2e-b1d6-652ab09fc854",
   "metadata": {
    "tags": []
   },
   "outputs": [
    {
     "data": {
      "text/html": [
       "<div>\n",
       "<style scoped>\n",
       "    .dataframe tbody tr th:only-of-type {\n",
       "        vertical-align: middle;\n",
       "    }\n",
       "\n",
       "    .dataframe tbody tr th {\n",
       "        vertical-align: top;\n",
       "    }\n",
       "\n",
       "    .dataframe thead th {\n",
       "        text-align: right;\n",
       "    }\n",
       "</style>\n",
       "<table border=\"1\" class=\"dataframe\">\n",
       "  <thead>\n",
       "    <tr style=\"text-align: right;\">\n",
       "      <th></th>\n",
       "      <th>Название рассылки</th>\n",
       "      <th>Название кампании</th>\n",
       "      <th>Направление</th>\n",
       "      <th>Месяц</th>\n",
       "      <th>Дата</th>\n",
       "      <th>Год</th>\n",
       "      <th>Номер недели</th>\n",
       "      <th>День недели</th>\n",
       "      <th>День недели.1</th>\n",
       "      <th>Время</th>\n",
       "      <th>Веб-версия</th>\n",
       "      <th>Тема письма</th>\n",
       "      <th>Сегмент</th>\n",
       "      <th>Отправлено</th>\n",
       "      <th>Доставлено</th>\n",
       "      <th>Открытия</th>\n",
       "      <th>Клики</th>\n",
       "      <th>Баунсы (Все ошибки)</th>\n",
       "      <th>Отписки</th>\n",
       "      <th>UTM Метка</th>\n",
       "      <th>Пользователей на сайте</th>\n",
       "      <th>Воронка продаж. Шаг 1</th>\n",
       "      <th>Воронка продаж. Шаг 2</th>\n",
       "      <th>Воронка продаж. Шаг 3</th>\n",
       "    </tr>\n",
       "  </thead>\n",
       "  <tbody>\n",
       "    <tr>\n",
       "      <th>0</th>\n",
       "      <td>Название рассылки 1</td>\n",
       "      <td>Название кампании 1</td>\n",
       "      <td>Email</td>\n",
       "      <td>Октябрь</td>\n",
       "      <td>2021-10-27</td>\n",
       "      <td>2021</td>\n",
       "      <td>43</td>\n",
       "      <td>3</td>\n",
       "      <td>03-среда</td>\n",
       "      <td>19:24:00</td>\n",
       "      <td>#ССЫЛКА</td>\n",
       "      <td>Тема письма 1</td>\n",
       "      <td>Сегмент 1</td>\n",
       "      <td>780789</td>\n",
       "      <td>741749.55</td>\n",
       "      <td>148349.910</td>\n",
       "      <td>17801.98920</td>\n",
       "      <td>39039.45</td>\n",
       "      <td>7417.4955</td>\n",
       "      <td>Метка 1</td>\n",
       "      <td>16377.830064</td>\n",
       "      <td>6336.582452</td>\n",
       "      <td>6209.850803</td>\n",
       "      <td>5154.176166</td>\n",
       "    </tr>\n",
       "    <tr>\n",
       "      <th>1</th>\n",
       "      <td>Название рассылки 10</td>\n",
       "      <td>Название кампании 10</td>\n",
       "      <td>Email</td>\n",
       "      <td>Ноябрь</td>\n",
       "      <td>2021-11-05</td>\n",
       "      <td>2021</td>\n",
       "      <td>45</td>\n",
       "      <td>5</td>\n",
       "      <td>05-пятница</td>\n",
       "      <td>12:02:00</td>\n",
       "      <td>#ССЫЛКА</td>\n",
       "      <td>Тема письма 10</td>\n",
       "      <td>Сегмент 2</td>\n",
       "      <td>719370</td>\n",
       "      <td>683401.50</td>\n",
       "      <td>123012.270</td>\n",
       "      <td>11071.10430</td>\n",
       "      <td>35968.50</td>\n",
       "      <td>6834.0150</td>\n",
       "      <td>Метка 10</td>\n",
       "      <td>10296.126999</td>\n",
       "      <td>3558.341491</td>\n",
       "      <td>3095.757097</td>\n",
       "      <td>2538.520820</td>\n",
       "    </tr>\n",
       "    <tr>\n",
       "      <th>2</th>\n",
       "      <td>Название рассылки 100</td>\n",
       "      <td>Название кампании 100</td>\n",
       "      <td>Email</td>\n",
       "      <td>Апрель</td>\n",
       "      <td>2022-04-11</td>\n",
       "      <td>2022</td>\n",
       "      <td>15</td>\n",
       "      <td>1</td>\n",
       "      <td>01-понедельник</td>\n",
       "      <td>16:26:00</td>\n",
       "      <td>#ССЫЛКА</td>\n",
       "      <td>Тема письма 100</td>\n",
       "      <td>Сегмент 3</td>\n",
       "      <td>1201415</td>\n",
       "      <td>1141344.25</td>\n",
       "      <td>182615.080</td>\n",
       "      <td>15339.66672</td>\n",
       "      <td>60070.75</td>\n",
       "      <td>11413.4425</td>\n",
       "      <td>Метка 100</td>\n",
       "      <td>13959.096715</td>\n",
       "      <td>3369.725947</td>\n",
       "      <td>2864.267055</td>\n",
       "      <td>2262.770973</td>\n",
       "    </tr>\n",
       "    <tr>\n",
       "      <th>3</th>\n",
       "      <td>Название рассылки 101</td>\n",
       "      <td>Название кампании 101</td>\n",
       "      <td>Email</td>\n",
       "      <td>Апрель</td>\n",
       "      <td>2022-04-12</td>\n",
       "      <td>2022</td>\n",
       "      <td>15</td>\n",
       "      <td>2</td>\n",
       "      <td>02-вторник</td>\n",
       "      <td>16:26:00</td>\n",
       "      <td>#ССЫЛКА</td>\n",
       "      <td>Тема письма 101</td>\n",
       "      <td>Сегмент 1</td>\n",
       "      <td>1393827</td>\n",
       "      <td>1324135.65</td>\n",
       "      <td>264827.130</td>\n",
       "      <td>10328.25807</td>\n",
       "      <td>69691.35</td>\n",
       "      <td>13241.3565</td>\n",
       "      <td>Метка 101</td>\n",
       "      <td>8985.584521</td>\n",
       "      <td>5116.391826</td>\n",
       "      <td>4277.303567</td>\n",
       "      <td>3207.977675</td>\n",
       "    </tr>\n",
       "    <tr>\n",
       "      <th>4</th>\n",
       "      <td>Название рассылки 102</td>\n",
       "      <td>Название кампании 102</td>\n",
       "      <td>Email</td>\n",
       "      <td>Апрель</td>\n",
       "      <td>2022-04-13</td>\n",
       "      <td>2022</td>\n",
       "      <td>15</td>\n",
       "      <td>3</td>\n",
       "      <td>03-среда</td>\n",
       "      <td>16:26:00</td>\n",
       "      <td>#ССЫЛКА</td>\n",
       "      <td>Тема письма 102</td>\n",
       "      <td>Сегмент 2</td>\n",
       "      <td>1276821</td>\n",
       "      <td>1212979.95</td>\n",
       "      <td>218336.391</td>\n",
       "      <td>15720.22015</td>\n",
       "      <td>63841.05</td>\n",
       "      <td>12129.7995</td>\n",
       "      <td>Метка 102</td>\n",
       "      <td>10846.951905</td>\n",
       "      <td>2816.953410</td>\n",
       "      <td>2287.366169</td>\n",
       "      <td>1669.777303</td>\n",
       "    </tr>\n",
       "  </tbody>\n",
       "</table>\n",
       "</div>"
      ],
      "text/plain": [
       "       Название рассылки      Название кампании Направление    Месяц  \\\n",
       "0    Название рассылки 1    Название кампании 1       Email  Октябрь   \n",
       "1   Название рассылки 10   Название кампании 10       Email   Ноябрь   \n",
       "2  Название рассылки 100  Название кампании 100       Email   Апрель   \n",
       "3  Название рассылки 101  Название кампании 101       Email   Апрель   \n",
       "4  Название рассылки 102  Название кампании 102       Email   Апрель   \n",
       "\n",
       "        Дата   Год  Номер недели  День недели   День недели.1     Время  \\\n",
       "0 2021-10-27  2021            43            3        03-среда  19:24:00   \n",
       "1 2021-11-05  2021            45            5      05-пятница  12:02:00   \n",
       "2 2022-04-11  2022            15            1  01-понедельник  16:26:00   \n",
       "3 2022-04-12  2022            15            2      02-вторник  16:26:00   \n",
       "4 2022-04-13  2022            15            3        03-среда  16:26:00   \n",
       "\n",
       "  Веб-версия     Тема письма    Сегмент   Отправлено  Доставлено    Открытия  \\\n",
       "0    #ССЫЛКА    Тема письма 1  Сегмент 1      780789   741749.55  148349.910   \n",
       "1    #ССЫЛКА   Тема письма 10  Сегмент 2      719370   683401.50  123012.270   \n",
       "2    #ССЫЛКА  Тема письма 100  Сегмент 3     1201415  1141344.25  182615.080   \n",
       "3    #ССЫЛКА  Тема письма 101  Сегмент 1     1393827  1324135.65  264827.130   \n",
       "4    #ССЫЛКА  Тема письма 102  Сегмент 2     1276821  1212979.95  218336.391   \n",
       "\n",
       "         Клики  Баунсы (Все ошибки)     Отписки  UTM Метка  \\\n",
       "0  17801.98920             39039.45   7417.4955    Метка 1   \n",
       "1  11071.10430             35968.50   6834.0150   Метка 10   \n",
       "2  15339.66672             60070.75  11413.4425  Метка 100   \n",
       "3  10328.25807             69691.35  13241.3565  Метка 101   \n",
       "4  15720.22015             63841.05  12129.7995  Метка 102   \n",
       "\n",
       "   Пользователей на сайте  Воронка продаж. Шаг 1  Воронка продаж. Шаг 2  \\\n",
       "0            16377.830064            6336.582452            6209.850803   \n",
       "1            10296.126999            3558.341491            3095.757097   \n",
       "2            13959.096715            3369.725947            2864.267055   \n",
       "3             8985.584521            5116.391826            4277.303567   \n",
       "4            10846.951905            2816.953410            2287.366169   \n",
       "\n",
       "   Воронка продаж. Шаг 3  \n",
       "0            5154.176166  \n",
       "1            2538.520820  \n",
       "2            2262.770973  \n",
       "3            3207.977675  \n",
       "4            1669.777303  "
      ]
     },
     "execution_count": 4,
     "metadata": {},
     "output_type": "execute_result"
    }
   ],
   "source": [
    "df.head()"
   ]
  },
  {
   "cell_type": "code",
   "execution_count": 5,
   "id": "cc22417d-dbf6-4f9e-abcb-290091e4d0d5",
   "metadata": {},
   "outputs": [
    {
     "name": "stdout",
     "output_type": "stream",
     "text": [
      "<class 'pandas.core.frame.DataFrame'>\n",
      "RangeIndex: 218 entries, 0 to 217\n",
      "Data columns (total 24 columns):\n",
      " #   Column                  Non-Null Count  Dtype         \n",
      "---  ------                  --------------  -----         \n",
      " 0   Название рассылки       218 non-null    object        \n",
      " 1   Название кампании       218 non-null    object        \n",
      " 2   Направление             218 non-null    object        \n",
      " 3   Месяц                   218 non-null    object        \n",
      " 4   Дата                    218 non-null    datetime64[ns]\n",
      " 5   Год                     218 non-null    int64         \n",
      " 6   Номер недели            218 non-null    int64         \n",
      " 7   День недели             218 non-null    int64         \n",
      " 8   День недели.1           218 non-null    object        \n",
      " 9   Время                   218 non-null    object        \n",
      " 10  Веб-версия              218 non-null    object        \n",
      " 11  Тема письма             218 non-null    object        \n",
      " 12  Сегмент                 218 non-null    object        \n",
      " 13  Отправлено              218 non-null    int64         \n",
      " 14  Доставлено              218 non-null    float64       \n",
      " 15  Открытия                218 non-null    float64       \n",
      " 16  Клики                   218 non-null    float64       \n",
      " 17  Баунсы (Все ошибки)     218 non-null    float64       \n",
      " 18  Отписки                 218 non-null    float64       \n",
      " 19  UTM Метка               218 non-null    object        \n",
      " 20  Пользователей на сайте  218 non-null    float64       \n",
      " 21  Воронка продаж. Шаг 1   218 non-null    float64       \n",
      " 22  Воронка продаж. Шаг 2   218 non-null    float64       \n",
      " 23  Воронка продаж. Шаг 3   218 non-null    float64       \n",
      "dtypes: datetime64[ns](1), float64(9), int64(4), object(10)\n",
      "memory usage: 41.0+ KB\n",
      "None\n"
     ]
    }
   ],
   "source": [
    "print(df.info())"
   ]
  },
  {
   "cell_type": "markdown",
   "id": "f4359c6e-ffb1-4138-ac5d-52ad5996a973",
   "metadata": {},
   "source": [
    "**ВЫВОД:**\n",
    "<hr style=\"border-color: green;\">\n",
    "\n",
    "Пропусков в данных нет\n",
    "\n",
    "<hr style=\"border-color: green;\"> "
   ]
  },
  {
   "cell_type": "markdown",
   "id": "677aa3a4-8b07-4edf-b614-722a515da4a2",
   "metadata": {},
   "source": [
    "Избавимся от возможных пробелов в названиях колонок:"
   ]
  },
  {
   "cell_type": "code",
   "execution_count": 6,
   "id": "7d9bdf26-2d1e-483d-be37-ac89453a5a63",
   "metadata": {},
   "outputs": [],
   "source": [
    "df.columns = df.columns.str.strip()"
   ]
  },
  {
   "cell_type": "markdown",
   "id": "9df4316f-a904-43e4-9fa3-05508fb0893d",
   "metadata": {},
   "source": [
    "Преобразуем типы столбцом, которые потребуются для подсчёта метрик в целые числа:"
   ]
  },
  {
   "cell_type": "code",
   "execution_count": 7,
   "id": "e7d80b27-1449-4724-9c3f-d9e14b0b9148",
   "metadata": {},
   "outputs": [],
   "source": [
    "df[['Доставлено', 'Открытия', 'Клики', 'Отписки']] = (\n",
    "    df[['Доставлено', 'Открытия', 'Клики', 'Отписки']].astype('int')\n",
    ")"
   ]
  },
  {
   "cell_type": "code",
   "execution_count": 8,
   "id": "742626b9-774f-4b20-ab83-0cfef10164b0",
   "metadata": {},
   "outputs": [],
   "source": [
    "df['День недели.1'] = df['День недели.1'].str.replace('[\\d\\-]+', '', regex=True)"
   ]
  },
  {
   "cell_type": "code",
   "execution_count": 9,
   "id": "2ffd39a0-9c9e-473d-8f80-d925539361ef",
   "metadata": {},
   "outputs": [
    {
     "data": {
      "text/html": [
       "<div>\n",
       "<style scoped>\n",
       "    .dataframe tbody tr th:only-of-type {\n",
       "        vertical-align: middle;\n",
       "    }\n",
       "\n",
       "    .dataframe tbody tr th {\n",
       "        vertical-align: top;\n",
       "    }\n",
       "\n",
       "    .dataframe thead th {\n",
       "        text-align: right;\n",
       "    }\n",
       "</style>\n",
       "<table border=\"1\" class=\"dataframe\">\n",
       "  <thead>\n",
       "    <tr style=\"text-align: right;\">\n",
       "      <th></th>\n",
       "      <th>Название рассылки</th>\n",
       "      <th>Название кампании</th>\n",
       "      <th>Направление</th>\n",
       "      <th>Месяц</th>\n",
       "      <th>Дата</th>\n",
       "      <th>Год</th>\n",
       "      <th>Номер недели</th>\n",
       "      <th>День недели</th>\n",
       "      <th>День недели.1</th>\n",
       "      <th>Время</th>\n",
       "      <th>Веб-версия</th>\n",
       "      <th>Тема письма</th>\n",
       "      <th>Сегмент</th>\n",
       "      <th>Отправлено</th>\n",
       "      <th>Доставлено</th>\n",
       "      <th>Открытия</th>\n",
       "      <th>Клики</th>\n",
       "      <th>Баунсы (Все ошибки)</th>\n",
       "      <th>Отписки</th>\n",
       "      <th>UTM Метка</th>\n",
       "      <th>Пользователей на сайте</th>\n",
       "      <th>Воронка продаж. Шаг 1</th>\n",
       "      <th>Воронка продаж. Шаг 2</th>\n",
       "      <th>Воронка продаж. Шаг 3</th>\n",
       "    </tr>\n",
       "  </thead>\n",
       "  <tbody>\n",
       "    <tr>\n",
       "      <th>0</th>\n",
       "      <td>Название рассылки 1</td>\n",
       "      <td>Название кампании 1</td>\n",
       "      <td>Email</td>\n",
       "      <td>Октябрь</td>\n",
       "      <td>2021-10-27</td>\n",
       "      <td>2021</td>\n",
       "      <td>43</td>\n",
       "      <td>3</td>\n",
       "      <td>среда</td>\n",
       "      <td>19:24:00</td>\n",
       "      <td>#ССЫЛКА</td>\n",
       "      <td>Тема письма 1</td>\n",
       "      <td>Сегмент 1</td>\n",
       "      <td>780789</td>\n",
       "      <td>741749</td>\n",
       "      <td>148349</td>\n",
       "      <td>17801</td>\n",
       "      <td>39039.45</td>\n",
       "      <td>7417</td>\n",
       "      <td>Метка 1</td>\n",
       "      <td>16377.830064</td>\n",
       "      <td>6336.582452</td>\n",
       "      <td>6209.850803</td>\n",
       "      <td>5154.176166</td>\n",
       "    </tr>\n",
       "    <tr>\n",
       "      <th>1</th>\n",
       "      <td>Название рассылки 10</td>\n",
       "      <td>Название кампании 10</td>\n",
       "      <td>Email</td>\n",
       "      <td>Ноябрь</td>\n",
       "      <td>2021-11-05</td>\n",
       "      <td>2021</td>\n",
       "      <td>45</td>\n",
       "      <td>5</td>\n",
       "      <td>пятница</td>\n",
       "      <td>12:02:00</td>\n",
       "      <td>#ССЫЛКА</td>\n",
       "      <td>Тема письма 10</td>\n",
       "      <td>Сегмент 2</td>\n",
       "      <td>719370</td>\n",
       "      <td>683401</td>\n",
       "      <td>123012</td>\n",
       "      <td>11071</td>\n",
       "      <td>35968.50</td>\n",
       "      <td>6834</td>\n",
       "      <td>Метка 10</td>\n",
       "      <td>10296.126999</td>\n",
       "      <td>3558.341491</td>\n",
       "      <td>3095.757097</td>\n",
       "      <td>2538.520820</td>\n",
       "    </tr>\n",
       "    <tr>\n",
       "      <th>2</th>\n",
       "      <td>Название рассылки 100</td>\n",
       "      <td>Название кампании 100</td>\n",
       "      <td>Email</td>\n",
       "      <td>Апрель</td>\n",
       "      <td>2022-04-11</td>\n",
       "      <td>2022</td>\n",
       "      <td>15</td>\n",
       "      <td>1</td>\n",
       "      <td>понедельник</td>\n",
       "      <td>16:26:00</td>\n",
       "      <td>#ССЫЛКА</td>\n",
       "      <td>Тема письма 100</td>\n",
       "      <td>Сегмент 3</td>\n",
       "      <td>1201415</td>\n",
       "      <td>1141344</td>\n",
       "      <td>182615</td>\n",
       "      <td>15339</td>\n",
       "      <td>60070.75</td>\n",
       "      <td>11413</td>\n",
       "      <td>Метка 100</td>\n",
       "      <td>13959.096715</td>\n",
       "      <td>3369.725947</td>\n",
       "      <td>2864.267055</td>\n",
       "      <td>2262.770973</td>\n",
       "    </tr>\n",
       "    <tr>\n",
       "      <th>3</th>\n",
       "      <td>Название рассылки 101</td>\n",
       "      <td>Название кампании 101</td>\n",
       "      <td>Email</td>\n",
       "      <td>Апрель</td>\n",
       "      <td>2022-04-12</td>\n",
       "      <td>2022</td>\n",
       "      <td>15</td>\n",
       "      <td>2</td>\n",
       "      <td>вторник</td>\n",
       "      <td>16:26:00</td>\n",
       "      <td>#ССЫЛКА</td>\n",
       "      <td>Тема письма 101</td>\n",
       "      <td>Сегмент 1</td>\n",
       "      <td>1393827</td>\n",
       "      <td>1324135</td>\n",
       "      <td>264827</td>\n",
       "      <td>10328</td>\n",
       "      <td>69691.35</td>\n",
       "      <td>13241</td>\n",
       "      <td>Метка 101</td>\n",
       "      <td>8985.584521</td>\n",
       "      <td>5116.391826</td>\n",
       "      <td>4277.303567</td>\n",
       "      <td>3207.977675</td>\n",
       "    </tr>\n",
       "    <tr>\n",
       "      <th>4</th>\n",
       "      <td>Название рассылки 102</td>\n",
       "      <td>Название кампании 102</td>\n",
       "      <td>Email</td>\n",
       "      <td>Апрель</td>\n",
       "      <td>2022-04-13</td>\n",
       "      <td>2022</td>\n",
       "      <td>15</td>\n",
       "      <td>3</td>\n",
       "      <td>среда</td>\n",
       "      <td>16:26:00</td>\n",
       "      <td>#ССЫЛКА</td>\n",
       "      <td>Тема письма 102</td>\n",
       "      <td>Сегмент 2</td>\n",
       "      <td>1276821</td>\n",
       "      <td>1212979</td>\n",
       "      <td>218336</td>\n",
       "      <td>15720</td>\n",
       "      <td>63841.05</td>\n",
       "      <td>12129</td>\n",
       "      <td>Метка 102</td>\n",
       "      <td>10846.951905</td>\n",
       "      <td>2816.953410</td>\n",
       "      <td>2287.366169</td>\n",
       "      <td>1669.777303</td>\n",
       "    </tr>\n",
       "  </tbody>\n",
       "</table>\n",
       "</div>"
      ],
      "text/plain": [
       "       Название рассылки      Название кампании Направление    Месяц  \\\n",
       "0    Название рассылки 1    Название кампании 1       Email  Октябрь   \n",
       "1   Название рассылки 10   Название кампании 10       Email   Ноябрь   \n",
       "2  Название рассылки 100  Название кампании 100       Email   Апрель   \n",
       "3  Название рассылки 101  Название кампании 101       Email   Апрель   \n",
       "4  Название рассылки 102  Название кампании 102       Email   Апрель   \n",
       "\n",
       "        Дата   Год  Номер недели  День недели День недели.1     Время  \\\n",
       "0 2021-10-27  2021            43            3         среда  19:24:00   \n",
       "1 2021-11-05  2021            45            5       пятница  12:02:00   \n",
       "2 2022-04-11  2022            15            1   понедельник  16:26:00   \n",
       "3 2022-04-12  2022            15            2       вторник  16:26:00   \n",
       "4 2022-04-13  2022            15            3         среда  16:26:00   \n",
       "\n",
       "  Веб-версия      Тема письма    Сегмент  Отправлено  Доставлено  Открытия  \\\n",
       "0    #ССЫЛКА    Тема письма 1  Сегмент 1      780789      741749    148349   \n",
       "1    #ССЫЛКА   Тема письма 10  Сегмент 2      719370      683401    123012   \n",
       "2    #ССЫЛКА  Тема письма 100  Сегмент 3     1201415     1141344    182615   \n",
       "3    #ССЫЛКА  Тема письма 101  Сегмент 1     1393827     1324135    264827   \n",
       "4    #ССЫЛКА  Тема письма 102  Сегмент 2     1276821     1212979    218336   \n",
       "\n",
       "   Клики  Баунсы (Все ошибки)  Отписки  UTM Метка  Пользователей на сайте  \\\n",
       "0  17801             39039.45     7417    Метка 1            16377.830064   \n",
       "1  11071             35968.50     6834   Метка 10            10296.126999   \n",
       "2  15339             60070.75    11413  Метка 100            13959.096715   \n",
       "3  10328             69691.35    13241  Метка 101             8985.584521   \n",
       "4  15720             63841.05    12129  Метка 102            10846.951905   \n",
       "\n",
       "   Воронка продаж. Шаг 1  Воронка продаж. Шаг 2  Воронка продаж. Шаг 3  \n",
       "0            6336.582452            6209.850803            5154.176166  \n",
       "1            3558.341491            3095.757097            2538.520820  \n",
       "2            3369.725947            2864.267055            2262.770973  \n",
       "3            5116.391826            4277.303567            3207.977675  \n",
       "4            2816.953410            2287.366169            1669.777303  "
      ]
     },
     "execution_count": 9,
     "metadata": {},
     "output_type": "execute_result"
    }
   ],
   "source": [
    "df.head()"
   ]
  },
  {
   "cell_type": "markdown",
   "id": "db245ec0-8c1d-4fdf-aa7f-39b22a1fde9f",
   "metadata": {},
   "source": [
    "## Delivery Rate"
   ]
  },
  {
   "cell_type": "markdown",
   "id": "699b422b-f036-498c-b8bc-685380fa5979",
   "metadata": {},
   "source": [
    "Подсчитаем **Delivery Rate** и создадим новый столбец:"
   ]
  },
  {
   "cell_type": "code",
   "execution_count": 10,
   "id": "3c667710-319b-43f9-9126-611db56098f7",
   "metadata": {},
   "outputs": [],
   "source": [
    "df['delivery_rate'] = df['Доставлено'] / df['Отправлено'] * 100"
   ]
  },
  {
   "cell_type": "code",
   "execution_count": 11,
   "id": "3e8dda05-1314-4048-8bf5-51186ae6d6bd",
   "metadata": {},
   "outputs": [
    {
     "data": {
      "text/html": [
       "<div>\n",
       "<style scoped>\n",
       "    .dataframe tbody tr th:only-of-type {\n",
       "        vertical-align: middle;\n",
       "    }\n",
       "\n",
       "    .dataframe tbody tr th {\n",
       "        vertical-align: top;\n",
       "    }\n",
       "\n",
       "    .dataframe thead th {\n",
       "        text-align: right;\n",
       "    }\n",
       "</style>\n",
       "<table border=\"1\" class=\"dataframe\">\n",
       "  <thead>\n",
       "    <tr style=\"text-align: right;\">\n",
       "      <th></th>\n",
       "      <th>Доставлено</th>\n",
       "      <th>Отправлено</th>\n",
       "      <th>delivery_rate</th>\n",
       "    </tr>\n",
       "  </thead>\n",
       "  <tbody>\n",
       "    <tr>\n",
       "      <th>0</th>\n",
       "      <td>741749</td>\n",
       "      <td>780789</td>\n",
       "      <td>94.999930</td>\n",
       "    </tr>\n",
       "    <tr>\n",
       "      <th>1</th>\n",
       "      <td>683401</td>\n",
       "      <td>719370</td>\n",
       "      <td>94.999930</td>\n",
       "    </tr>\n",
       "    <tr>\n",
       "      <th>2</th>\n",
       "      <td>1141344</td>\n",
       "      <td>1201415</td>\n",
       "      <td>94.999979</td>\n",
       "    </tr>\n",
       "    <tr>\n",
       "      <th>3</th>\n",
       "      <td>1324135</td>\n",
       "      <td>1393827</td>\n",
       "      <td>94.999953</td>\n",
       "    </tr>\n",
       "    <tr>\n",
       "      <th>4</th>\n",
       "      <td>1212979</td>\n",
       "      <td>1276821</td>\n",
       "      <td>94.999926</td>\n",
       "    </tr>\n",
       "  </tbody>\n",
       "</table>\n",
       "</div>"
      ],
      "text/plain": [
       "   Доставлено  Отправлено  delivery_rate\n",
       "0      741749      780789      94.999930\n",
       "1      683401      719370      94.999930\n",
       "2     1141344     1201415      94.999979\n",
       "3     1324135     1393827      94.999953\n",
       "4     1212979     1276821      94.999926"
      ]
     },
     "execution_count": 11,
     "metadata": {},
     "output_type": "execute_result"
    }
   ],
   "source": [
    "df[['Доставлено', 'Отправлено', 'delivery_rate']].head()"
   ]
  },
  {
   "cell_type": "markdown",
   "id": "c42cc48e-6bb2-4700-a38a-aa4ef7b4aa3b",
   "metadata": {},
   "source": [
    "## Open Rate"
   ]
  },
  {
   "cell_type": "markdown",
   "id": "664fa2e7-56f9-46bd-baa7-c06a13794edb",
   "metadata": {},
   "source": [
    "Подсчитаем **Open Rate** и создадим новый столбец:"
   ]
  },
  {
   "cell_type": "code",
   "execution_count": 12,
   "id": "dcc1fe57-ce8d-4d3f-aac6-97c9f8fa7690",
   "metadata": {},
   "outputs": [],
   "source": [
    "df['open_rate'] = df['Открытия'] / df['Доставлено'] * 100"
   ]
  },
  {
   "cell_type": "code",
   "execution_count": 13,
   "id": "e56a378e-c688-4e08-9397-03a3f95b8f8a",
   "metadata": {},
   "outputs": [
    {
     "data": {
      "text/html": [
       "<div>\n",
       "<style scoped>\n",
       "    .dataframe tbody tr th:only-of-type {\n",
       "        vertical-align: middle;\n",
       "    }\n",
       "\n",
       "    .dataframe tbody tr th {\n",
       "        vertical-align: top;\n",
       "    }\n",
       "\n",
       "    .dataframe thead th {\n",
       "        text-align: right;\n",
       "    }\n",
       "</style>\n",
       "<table border=\"1\" class=\"dataframe\">\n",
       "  <thead>\n",
       "    <tr style=\"text-align: right;\">\n",
       "      <th></th>\n",
       "      <th>Открытия</th>\n",
       "      <th>Доставлено</th>\n",
       "      <th>open_rate</th>\n",
       "    </tr>\n",
       "  </thead>\n",
       "  <tbody>\n",
       "    <tr>\n",
       "      <th>201</th>\n",
       "      <td>109178</td>\n",
       "      <td>988043</td>\n",
       "      <td>11.049924</td>\n",
       "    </tr>\n",
       "    <tr>\n",
       "      <th>190</th>\n",
       "      <td>235069</td>\n",
       "      <td>2127328</td>\n",
       "      <td>11.049965</td>\n",
       "    </tr>\n",
       "    <tr>\n",
       "      <th>17</th>\n",
       "      <td>129348</td>\n",
       "      <td>792575</td>\n",
       "      <td>16.319970</td>\n",
       "    </tr>\n",
       "  </tbody>\n",
       "</table>\n",
       "</div>"
      ],
      "text/plain": [
       "     Открытия  Доставлено  open_rate\n",
       "201    109178      988043  11.049924\n",
       "190    235069     2127328  11.049965\n",
       "17     129348      792575  16.319970"
      ]
     },
     "execution_count": 13,
     "metadata": {},
     "output_type": "execute_result"
    }
   ],
   "source": [
    "df[['Открытия', 'Доставлено', 'open_rate']].sample(3)"
   ]
  },
  {
   "cell_type": "markdown",
   "id": "eb7a413e-f268-40ad-b903-e1fc5f05ee50",
   "metadata": {},
   "source": [
    "## CTOR (Click to Open rate)"
   ]
  },
  {
   "cell_type": "markdown",
   "id": "6f3d23c6-72e9-4450-90a1-392052af9119",
   "metadata": {},
   "source": [
    "Подсчитаем **Click to Open rate** и создадим новый столбец:"
   ]
  },
  {
   "cell_type": "code",
   "execution_count": 14,
   "id": "cd0a647b-a27e-4607-b8a2-44737a58c116",
   "metadata": {},
   "outputs": [],
   "source": [
    "df['ctor'] = df['Клики'] / df['Открытия'] * 100"
   ]
  },
  {
   "cell_type": "code",
   "execution_count": 15,
   "id": "130f2713-412b-40af-9a39-b7ee4d023c39",
   "metadata": {},
   "outputs": [
    {
     "data": {
      "text/html": [
       "<div>\n",
       "<style scoped>\n",
       "    .dataframe tbody tr th:only-of-type {\n",
       "        vertical-align: middle;\n",
       "    }\n",
       "\n",
       "    .dataframe tbody tr th {\n",
       "        vertical-align: top;\n",
       "    }\n",
       "\n",
       "    .dataframe thead th {\n",
       "        text-align: right;\n",
       "    }\n",
       "</style>\n",
       "<table border=\"1\" class=\"dataframe\">\n",
       "  <thead>\n",
       "    <tr style=\"text-align: right;\">\n",
       "      <th></th>\n",
       "      <th>Клики</th>\n",
       "      <th>Открытия</th>\n",
       "      <th>ctor</th>\n",
       "    </tr>\n",
       "  </thead>\n",
       "  <tbody>\n",
       "    <tr>\n",
       "      <th>53</th>\n",
       "      <td>13032</td>\n",
       "      <td>334175</td>\n",
       "      <td>3.899753</td>\n",
       "    </tr>\n",
       "    <tr>\n",
       "      <th>46</th>\n",
       "      <td>16551</td>\n",
       "      <td>183906</td>\n",
       "      <td>8.999706</td>\n",
       "    </tr>\n",
       "    <tr>\n",
       "      <th>139</th>\n",
       "      <td>16507</td>\n",
       "      <td>229275</td>\n",
       "      <td>7.199651</td>\n",
       "    </tr>\n",
       "  </tbody>\n",
       "</table>\n",
       "</div>"
      ],
      "text/plain": [
       "     Клики  Открытия      ctor\n",
       "53   13032    334175  3.899753\n",
       "46   16551    183906  8.999706\n",
       "139  16507    229275  7.199651"
      ]
     },
     "execution_count": 15,
     "metadata": {},
     "output_type": "execute_result"
    }
   ],
   "source": [
    "df[['Клики', 'Открытия', 'ctor']].sample(3)"
   ]
  },
  {
   "cell_type": "markdown",
   "id": "4305df07-1856-4e70-9ada-1c9d1b68fc91",
   "metadata": {},
   "source": [
    "## Unsubscribe Rate"
   ]
  },
  {
   "cell_type": "markdown",
   "id": "f4aa52fa-e00e-485e-a1d2-48107ade8f64",
   "metadata": {},
   "source": [
    "Подсчитаем **Unsubscribe Rate** и создадим новый столбец:"
   ]
  },
  {
   "cell_type": "code",
   "execution_count": 16,
   "id": "d0021d7d-6303-471f-aefb-07115e89f912",
   "metadata": {},
   "outputs": [],
   "source": [
    "df['ur'] = df['Отписки'] / df['Доставлено'] * 100"
   ]
  },
  {
   "cell_type": "code",
   "execution_count": 17,
   "id": "557f2f2e-12f0-4344-8c2f-5ff66b581190",
   "metadata": {},
   "outputs": [
    {
     "data": {
      "text/html": [
       "<div>\n",
       "<style scoped>\n",
       "    .dataframe tbody tr th:only-of-type {\n",
       "        vertical-align: middle;\n",
       "    }\n",
       "\n",
       "    .dataframe tbody tr th {\n",
       "        vertical-align: top;\n",
       "    }\n",
       "\n",
       "    .dataframe thead th {\n",
       "        text-align: right;\n",
       "    }\n",
       "</style>\n",
       "<table border=\"1\" class=\"dataframe\">\n",
       "  <thead>\n",
       "    <tr style=\"text-align: right;\">\n",
       "      <th></th>\n",
       "      <th>Отписки</th>\n",
       "      <th>Доставлено</th>\n",
       "      <th>ur</th>\n",
       "    </tr>\n",
       "  </thead>\n",
       "  <tbody>\n",
       "    <tr>\n",
       "      <th>34</th>\n",
       "      <td>10265</td>\n",
       "      <td>1629385</td>\n",
       "      <td>0.629992</td>\n",
       "    </tr>\n",
       "    <tr>\n",
       "      <th>96</th>\n",
       "      <td>6893</td>\n",
       "      <td>1209410</td>\n",
       "      <td>0.569947</td>\n",
       "    </tr>\n",
       "    <tr>\n",
       "      <th>100</th>\n",
       "      <td>12514</td>\n",
       "      <td>2121084</td>\n",
       "      <td>0.589981</td>\n",
       "    </tr>\n",
       "  </tbody>\n",
       "</table>\n",
       "</div>"
      ],
      "text/plain": [
       "     Отписки  Доставлено        ur\n",
       "34     10265     1629385  0.629992\n",
       "96      6893     1209410  0.569947\n",
       "100    12514     2121084  0.589981"
      ]
     },
     "execution_count": 17,
     "metadata": {},
     "output_type": "execute_result"
    }
   ],
   "source": [
    "df[['Отписки', 'Доставлено', 'ur']].sample(3)"
   ]
  },
  {
   "cell_type": "markdown",
   "id": "203ca178-a7e1-4c0b-b3c3-b28cf03ae96d",
   "metadata": {},
   "source": [
    "## Лучшая тема"
   ]
  },
  {
   "cell_type": "markdown",
   "id": "dad35ef8-8d9f-4c24-a4f0-dc4e7b74bd93",
   "metadata": {},
   "source": [
    "На наш взгляд, лучшей темой для рассылки будет являться та тема, у которой процент кликов в письмах, открытых подписчиками выше остальных (CTOR)."
   ]
  },
  {
   "cell_type": "markdown",
   "id": "693a5dca-a5eb-4f8b-8e02-214d6ac1acc5",
   "metadata": {},
   "source": [
    "Для этого, определим наивысший CTOR и соответсвующую тему, а так же остальные метрики:"
   ]
  },
  {
   "cell_type": "code",
   "execution_count": 18,
   "id": "35ee39f8-be68-4cb2-89d4-ddfad9d75637",
   "metadata": {},
   "outputs": [
    {
     "data": {
      "text/plain": [
       "count    218.000000\n",
       "mean       8.123104\n",
       "std        2.630988\n",
       "min        3.898751\n",
       "25%        7.199580\n",
       "50%        8.399792\n",
       "75%        8.999928\n",
       "max       12.000013\n",
       "Name: ctor, dtype: float64"
      ]
     },
     "execution_count": 18,
     "metadata": {},
     "output_type": "execute_result"
    }
   ],
   "source": [
    "df['ctor'].describe()"
   ]
  },
  {
   "cell_type": "code",
   "execution_count": 19,
   "id": "c90382ad-801d-43c9-80a3-3e2e1eaa3da1",
   "metadata": {},
   "outputs": [
    {
     "data": {
      "text/html": [
       "<div>\n",
       "<style scoped>\n",
       "    .dataframe tbody tr th:only-of-type {\n",
       "        vertical-align: middle;\n",
       "    }\n",
       "\n",
       "    .dataframe tbody tr th {\n",
       "        vertical-align: top;\n",
       "    }\n",
       "\n",
       "    .dataframe thead th {\n",
       "        text-align: right;\n",
       "    }\n",
       "</style>\n",
       "<table border=\"1\" class=\"dataframe\">\n",
       "  <thead>\n",
       "    <tr style=\"text-align: right;\">\n",
       "      <th></th>\n",
       "      <th>Тема письма</th>\n",
       "      <th>delivery_rate</th>\n",
       "      <th>open_rate</th>\n",
       "      <th>ctor</th>\n",
       "      <th>ur</th>\n",
       "    </tr>\n",
       "  </thead>\n",
       "  <tbody>\n",
       "    <tr>\n",
       "      <th>65</th>\n",
       "      <td>Тема письма 158</td>\n",
       "      <td>96.999956</td>\n",
       "      <td>17.999957</td>\n",
       "      <td>12.000013</td>\n",
       "      <td>0.589989</td>\n",
       "    </tr>\n",
       "  </tbody>\n",
       "</table>\n",
       "</div>"
      ],
      "text/plain": [
       "        Тема письма  delivery_rate  open_rate       ctor        ur\n",
       "65  Тема письма 158      96.999956  17.999957  12.000013  0.589989"
      ]
     },
     "execution_count": 19,
     "metadata": {},
     "output_type": "execute_result"
    }
   ],
   "source": [
    "df[df['ctor'] == df['ctor'].max()][['Тема письма', 'delivery_rate', 'open_rate', 'ctor', 'ur']]"
   ]
  },
  {
   "cell_type": "markdown",
   "id": "9803c3fc-6fed-4540-a229-3b7811e53a06",
   "metadata": {},
   "source": [
    "**ВЫВОД:**\n",
    "<hr style=\"border-color: green;\">\n",
    "\n",
    "Лучшей темой является **\"Тема 158\"**.\\\n",
    "Письма с данной темой:\n",
    "- чаще доходят до пользователя;\n",
    "- выше процент писем, которые открыли получатели, среди всех доставленных сообщений;\n",
    "- имеют высокий процент кликов в письмах;\n",
    "- имеют меньшую долю отписок\n",
    "\n",
    "<hr style=\"border-color: green;\"> "
   ]
  },
  {
   "cell_type": "markdown",
   "id": "bbc339c5-a69b-4588-9409-20bab8bcab2a",
   "metadata": {},
   "source": [
    "## Лучший день недели для планирования рассылок"
   ]
  },
  {
   "cell_type": "markdown",
   "id": "0ad9b957-fa1e-4faf-b4e8-d0e664f569b0",
   "metadata": {},
   "source": [
    "Посмотрим на показатель CTOR в разрезе дней недели:"
   ]
  },
  {
   "cell_type": "code",
   "execution_count": 20,
   "id": "c14933de-989f-4956-93a1-fce7290e3058",
   "metadata": {},
   "outputs": [
    {
     "data": {
      "text/html": [
       "<div>\n",
       "<style scoped>\n",
       "    .dataframe tbody tr th:only-of-type {\n",
       "        vertical-align: middle;\n",
       "    }\n",
       "\n",
       "    .dataframe tbody tr th {\n",
       "        vertical-align: top;\n",
       "    }\n",
       "\n",
       "    .dataframe thead th {\n",
       "        text-align: right;\n",
       "    }\n",
       "</style>\n",
       "<table border=\"1\" class=\"dataframe\">\n",
       "  <thead>\n",
       "    <tr style=\"text-align: right;\">\n",
       "      <th></th>\n",
       "      <th>День недели.1</th>\n",
       "      <th>ctor</th>\n",
       "    </tr>\n",
       "  </thead>\n",
       "  <tbody>\n",
       "    <tr>\n",
       "      <th>0</th>\n",
       "      <td>вторник</td>\n",
       "      <td>8.975693</td>\n",
       "    </tr>\n",
       "    <tr>\n",
       "      <th>1</th>\n",
       "      <td>понедельник</td>\n",
       "      <td>8.143871</td>\n",
       "    </tr>\n",
       "    <tr>\n",
       "      <th>2</th>\n",
       "      <td>пятница</td>\n",
       "      <td>8.134716</td>\n",
       "    </tr>\n",
       "    <tr>\n",
       "      <th>3</th>\n",
       "      <td>среда</td>\n",
       "      <td>8.009670</td>\n",
       "    </tr>\n",
       "    <tr>\n",
       "      <th>5</th>\n",
       "      <td>четверг</td>\n",
       "      <td>7.905292</td>\n",
       "    </tr>\n",
       "    <tr>\n",
       "      <th>4</th>\n",
       "      <td>суббота</td>\n",
       "      <td>6.839463</td>\n",
       "    </tr>\n",
       "  </tbody>\n",
       "</table>\n",
       "</div>"
      ],
      "text/plain": [
       "  День недели.1      ctor\n",
       "0       вторник  8.975693\n",
       "1   понедельник  8.143871\n",
       "2       пятница  8.134716\n",
       "3         среда  8.009670\n",
       "5       четверг  7.905292\n",
       "4       суббота  6.839463"
      ]
     },
     "execution_count": 20,
     "metadata": {},
     "output_type": "execute_result"
    }
   ],
   "source": [
    "(\n",
    "    df\n",
    "    .pivot_table(index='День недели.1', values='ctor', aggfunc='mean')\n",
    "    .reset_index()\n",
    "    .sort_values(by='ctor', ascending=False)\n",
    ")"
   ]
  },
  {
   "cell_type": "markdown",
   "id": "1b37e161-5413-4501-befe-e565c810d19f",
   "metadata": {},
   "source": [
    "**ВЫВОД:**\n",
    "<hr style=\"border-color: green;\">\n",
    "\n",
    "Во вторник в среднем процент кликов в письмах, которые подписчики открыли выше чем в другие дни.\n",
    "\n",
    "<hr style=\"border-color: green;\"> "
   ]
  },
  {
   "cell_type": "markdown",
   "id": "67ba2662-036a-4c49-aef6-40a30ffa1ba8",
   "metadata": {},
   "source": [
    "## ГРАФИКИ"
   ]
  },
  {
   "cell_type": "markdown",
   "id": "6b262adf-5117-4f4f-b44f-abf82141b08f",
   "metadata": {},
   "source": [
    "### Динамика изменения метрик"
   ]
  },
  {
   "cell_type": "code",
   "execution_count": 152,
   "id": "09ee8e1d-9b33-4cfa-85f3-0598e731e8b9",
   "metadata": {},
   "outputs": [
    {
     "data": {
      "text/html": [
       "<div>\n",
       "<style scoped>\n",
       "    .dataframe tbody tr th:only-of-type {\n",
       "        vertical-align: middle;\n",
       "    }\n",
       "\n",
       "    .dataframe tbody tr th {\n",
       "        vertical-align: top;\n",
       "    }\n",
       "\n",
       "    .dataframe thead th {\n",
       "        text-align: right;\n",
       "    }\n",
       "</style>\n",
       "<table border=\"1\" class=\"dataframe\">\n",
       "  <thead>\n",
       "    <tr style=\"text-align: right;\">\n",
       "      <th></th>\n",
       "      <th>Месяц</th>\n",
       "      <th>ctor</th>\n",
       "      <th>open_rate</th>\n",
       "      <th>ur</th>\n",
       "    </tr>\n",
       "  </thead>\n",
       "  <tbody>\n",
       "    <tr>\n",
       "      <th>0</th>\n",
       "      <td>Август</td>\n",
       "      <td>7.399623</td>\n",
       "      <td>15.493279</td>\n",
       "      <td>0.564972</td>\n",
       "    </tr>\n",
       "    <tr>\n",
       "      <th>1</th>\n",
       "      <td>Апрель</td>\n",
       "      <td>7.837199</td>\n",
       "      <td>15.316845</td>\n",
       "      <td>0.826841</td>\n",
       "    </tr>\n",
       "    <tr>\n",
       "      <th>2</th>\n",
       "      <td>Декабрь</td>\n",
       "      <td>7.940949</td>\n",
       "      <td>13.342320</td>\n",
       "      <td>5.113199</td>\n",
       "    </tr>\n",
       "    <tr>\n",
       "      <th>3</th>\n",
       "      <td>Июль</td>\n",
       "      <td>7.649746</td>\n",
       "      <td>14.841645</td>\n",
       "      <td>0.599953</td>\n",
       "    </tr>\n",
       "    <tr>\n",
       "      <th>4</th>\n",
       "      <td>Июнь</td>\n",
       "      <td>8.074722</td>\n",
       "      <td>15.293292</td>\n",
       "      <td>0.614952</td>\n",
       "    </tr>\n",
       "  </tbody>\n",
       "</table>\n",
       "</div>"
      ],
      "text/plain": [
       "     Месяц      ctor  open_rate        ur\n",
       "0   Август  7.399623  15.493279  0.564972\n",
       "1   Апрель  7.837199  15.316845  0.826841\n",
       "2  Декабрь  7.940949  13.342320  5.113199\n",
       "3     Июль  7.649746  14.841645  0.599953\n",
       "4     Июнь  8.074722  15.293292  0.614952"
      ]
     },
     "execution_count": 152,
     "metadata": {},
     "output_type": "execute_result"
    }
   ],
   "source": [
    "dynamics = df.pivot_table(index='Месяц', values=['ctor', 'open_rate', 'ur'], aggfunc='mean')\n",
    "\n",
    "dynamics = dynamics.reset_index()\n",
    "\n",
    "dynamics.head()"
   ]
  },
  {
   "cell_type": "code",
   "execution_count": 156,
   "id": "400e5516-2f98-4654-9e65-d1580767c927",
   "metadata": {},
   "outputs": [],
   "source": [
    "months = [\"Январь\", \"Февраль\", \"Март\", \"Апрель\", \"Май\", \"Июнь\",\n",
    "          \"Июль\", \"Август\", \"Сентябрь\", \"Октябрь\", \"Ноябрь\", \"Декабрь\"]\n",
    "\n",
    "dynamics['Месяц'] = pd.Categorical(dynamics['Месяц'], categories=months, ordered=True)"
   ]
  },
  {
   "cell_type": "code",
   "execution_count": 163,
   "id": "2b91243b-c465-4277-8b75-f0aafa350c07",
   "metadata": {},
   "outputs": [
    {
     "data": {
      "application/vnd.plotly.v1+json": {
       "config": {
        "plotlyServerURL": "https://plot.ly"
       },
       "data": [
        {
         "hovertemplate": "variable=ctor<br>Месяц=%{x}<br>value=%{y}<extra></extra>",
         "legendgroup": "ctor",
         "line": {
          "color": "#636efa",
          "dash": "solid"
         },
         "marker": {
          "symbol": "circle"
         },
         "mode": "lines",
         "name": "ctor",
         "orientation": "v",
         "showlegend": true,
         "type": "scatter",
         "x": [
          "Январь",
          "Февраль",
          "Март",
          "Апрель",
          "Май",
          "Июнь",
          "Июль",
          "Август",
          "Сентябрь",
          "Октябрь",
          "Ноябрь",
          "Декабрь"
         ],
         "xaxis": "x",
         "y": [
          8.249647863088315,
          7.87028118620219,
          8.316361620802454,
          7.837199458139705,
          9.14984111389138,
          8.074721733934972,
          7.649746456899218,
          7.3996232571815,
          8.528409104438879,
          8.219681981110211,
          8.17644172878455,
          7.940948653146849
         ],
         "yaxis": "y"
        },
        {
         "hovertemplate": "variable=open_rate<br>Месяц=%{x}<br>value=%{y}<extra></extra>",
         "legendgroup": "open_rate",
         "line": {
          "color": "#EF553B",
          "dash": "solid"
         },
         "marker": {
          "symbol": "circle"
         },
         "mode": "lines",
         "name": "open_rate",
         "orientation": "v",
         "showlegend": true,
         "type": "scatter",
         "x": [
          "Январь",
          "Февраль",
          "Март",
          "Апрель",
          "Май",
          "Июнь",
          "Июль",
          "Август",
          "Сентябрь",
          "Октябрь",
          "Ноябрь",
          "Декабрь"
         ],
         "xaxis": "x",
         "y": [
          12.79329389250171,
          12.967023831568136,
          13.214972128767661,
          15.316845221020662,
          15.116223527981937,
          15.293291707074944,
          14.841645405166942,
          15.493278558398524,
          12.425665351730476,
          14.224617798810597,
          13.862986843364569,
          13.342320086528892
         ],
         "yaxis": "y"
        },
        {
         "hovertemplate": "variable=ur<br>Месяц=%{x}<br>value=%{y}<extra></extra>",
         "legendgroup": "ur",
         "line": {
          "color": "#00cc96",
          "dash": "solid"
         },
         "marker": {
          "symbol": "circle"
         },
         "mode": "lines",
         "name": "ur",
         "orientation": "v",
         "showlegend": true,
         "type": "scatter",
         "x": [
          "Январь",
          "Февраль",
          "Март",
          "Апрель",
          "Май",
          "Июнь",
          "Июль",
          "Август",
          "Сентябрь",
          "Октябрь",
          "Ноябрь",
          "Декабрь"
         ],
         "xaxis": "x",
         "y": [
          3.9549576405673497,
          0.8999604382913761,
          0.899970256420273,
          0.8268406043354285,
          0.6599502134037613,
          0.6149518861117987,
          0.5999533504524455,
          0.5649717531893552,
          0.5685129282852132,
          2.0939660484047944,
          2.8485701074816556,
          5.113198883654239
         ],
         "yaxis": "y"
        }
       ],
       "layout": {
        "height": 500,
        "hoverlabel": {
         "font": {
          "color": "white"
         }
        },
        "legend": {
         "title": {
          "text": "Группа"
         },
         "tracegroupgap": 0
        },
        "template": {
         "data": {
          "bar": [
           {
            "error_x": {
             "color": "#2a3f5f"
            },
            "error_y": {
             "color": "#2a3f5f"
            },
            "marker": {
             "line": {
              "color": "#E5ECF6",
              "width": 0.5
             },
             "pattern": {
              "fillmode": "overlay",
              "size": 10,
              "solidity": 0.2
             }
            },
            "type": "bar"
           }
          ],
          "barpolar": [
           {
            "marker": {
             "line": {
              "color": "#E5ECF6",
              "width": 0.5
             },
             "pattern": {
              "fillmode": "overlay",
              "size": 10,
              "solidity": 0.2
             }
            },
            "type": "barpolar"
           }
          ],
          "carpet": [
           {
            "aaxis": {
             "endlinecolor": "#2a3f5f",
             "gridcolor": "white",
             "linecolor": "white",
             "minorgridcolor": "white",
             "startlinecolor": "#2a3f5f"
            },
            "baxis": {
             "endlinecolor": "#2a3f5f",
             "gridcolor": "white",
             "linecolor": "white",
             "minorgridcolor": "white",
             "startlinecolor": "#2a3f5f"
            },
            "type": "carpet"
           }
          ],
          "choropleth": [
           {
            "colorbar": {
             "outlinewidth": 0,
             "ticks": ""
            },
            "type": "choropleth"
           }
          ],
          "contour": [
           {
            "colorbar": {
             "outlinewidth": 0,
             "ticks": ""
            },
            "colorscale": [
             [
              0,
              "#0d0887"
             ],
             [
              0.1111111111111111,
              "#46039f"
             ],
             [
              0.2222222222222222,
              "#7201a8"
             ],
             [
              0.3333333333333333,
              "#9c179e"
             ],
             [
              0.4444444444444444,
              "#bd3786"
             ],
             [
              0.5555555555555556,
              "#d8576b"
             ],
             [
              0.6666666666666666,
              "#ed7953"
             ],
             [
              0.7777777777777778,
              "#fb9f3a"
             ],
             [
              0.8888888888888888,
              "#fdca26"
             ],
             [
              1,
              "#f0f921"
             ]
            ],
            "type": "contour"
           }
          ],
          "contourcarpet": [
           {
            "colorbar": {
             "outlinewidth": 0,
             "ticks": ""
            },
            "type": "contourcarpet"
           }
          ],
          "heatmap": [
           {
            "colorbar": {
             "outlinewidth": 0,
             "ticks": ""
            },
            "colorscale": [
             [
              0,
              "#0d0887"
             ],
             [
              0.1111111111111111,
              "#46039f"
             ],
             [
              0.2222222222222222,
              "#7201a8"
             ],
             [
              0.3333333333333333,
              "#9c179e"
             ],
             [
              0.4444444444444444,
              "#bd3786"
             ],
             [
              0.5555555555555556,
              "#d8576b"
             ],
             [
              0.6666666666666666,
              "#ed7953"
             ],
             [
              0.7777777777777778,
              "#fb9f3a"
             ],
             [
              0.8888888888888888,
              "#fdca26"
             ],
             [
              1,
              "#f0f921"
             ]
            ],
            "type": "heatmap"
           }
          ],
          "heatmapgl": [
           {
            "colorbar": {
             "outlinewidth": 0,
             "ticks": ""
            },
            "colorscale": [
             [
              0,
              "#0d0887"
             ],
             [
              0.1111111111111111,
              "#46039f"
             ],
             [
              0.2222222222222222,
              "#7201a8"
             ],
             [
              0.3333333333333333,
              "#9c179e"
             ],
             [
              0.4444444444444444,
              "#bd3786"
             ],
             [
              0.5555555555555556,
              "#d8576b"
             ],
             [
              0.6666666666666666,
              "#ed7953"
             ],
             [
              0.7777777777777778,
              "#fb9f3a"
             ],
             [
              0.8888888888888888,
              "#fdca26"
             ],
             [
              1,
              "#f0f921"
             ]
            ],
            "type": "heatmapgl"
           }
          ],
          "histogram": [
           {
            "marker": {
             "pattern": {
              "fillmode": "overlay",
              "size": 10,
              "solidity": 0.2
             }
            },
            "type": "histogram"
           }
          ],
          "histogram2d": [
           {
            "colorbar": {
             "outlinewidth": 0,
             "ticks": ""
            },
            "colorscale": [
             [
              0,
              "#0d0887"
             ],
             [
              0.1111111111111111,
              "#46039f"
             ],
             [
              0.2222222222222222,
              "#7201a8"
             ],
             [
              0.3333333333333333,
              "#9c179e"
             ],
             [
              0.4444444444444444,
              "#bd3786"
             ],
             [
              0.5555555555555556,
              "#d8576b"
             ],
             [
              0.6666666666666666,
              "#ed7953"
             ],
             [
              0.7777777777777778,
              "#fb9f3a"
             ],
             [
              0.8888888888888888,
              "#fdca26"
             ],
             [
              1,
              "#f0f921"
             ]
            ],
            "type": "histogram2d"
           }
          ],
          "histogram2dcontour": [
           {
            "colorbar": {
             "outlinewidth": 0,
             "ticks": ""
            },
            "colorscale": [
             [
              0,
              "#0d0887"
             ],
             [
              0.1111111111111111,
              "#46039f"
             ],
             [
              0.2222222222222222,
              "#7201a8"
             ],
             [
              0.3333333333333333,
              "#9c179e"
             ],
             [
              0.4444444444444444,
              "#bd3786"
             ],
             [
              0.5555555555555556,
              "#d8576b"
             ],
             [
              0.6666666666666666,
              "#ed7953"
             ],
             [
              0.7777777777777778,
              "#fb9f3a"
             ],
             [
              0.8888888888888888,
              "#fdca26"
             ],
             [
              1,
              "#f0f921"
             ]
            ],
            "type": "histogram2dcontour"
           }
          ],
          "mesh3d": [
           {
            "colorbar": {
             "outlinewidth": 0,
             "ticks": ""
            },
            "type": "mesh3d"
           }
          ],
          "parcoords": [
           {
            "line": {
             "colorbar": {
              "outlinewidth": 0,
              "ticks": ""
             }
            },
            "type": "parcoords"
           }
          ],
          "pie": [
           {
            "automargin": true,
            "type": "pie"
           }
          ],
          "scatter": [
           {
            "marker": {
             "colorbar": {
              "outlinewidth": 0,
              "ticks": ""
             }
            },
            "type": "scatter"
           }
          ],
          "scatter3d": [
           {
            "line": {
             "colorbar": {
              "outlinewidth": 0,
              "ticks": ""
             }
            },
            "marker": {
             "colorbar": {
              "outlinewidth": 0,
              "ticks": ""
             }
            },
            "type": "scatter3d"
           }
          ],
          "scattercarpet": [
           {
            "marker": {
             "colorbar": {
              "outlinewidth": 0,
              "ticks": ""
             }
            },
            "type": "scattercarpet"
           }
          ],
          "scattergeo": [
           {
            "marker": {
             "colorbar": {
              "outlinewidth": 0,
              "ticks": ""
             }
            },
            "type": "scattergeo"
           }
          ],
          "scattergl": [
           {
            "marker": {
             "colorbar": {
              "outlinewidth": 0,
              "ticks": ""
             }
            },
            "type": "scattergl"
           }
          ],
          "scattermapbox": [
           {
            "marker": {
             "colorbar": {
              "outlinewidth": 0,
              "ticks": ""
             }
            },
            "type": "scattermapbox"
           }
          ],
          "scatterpolar": [
           {
            "marker": {
             "colorbar": {
              "outlinewidth": 0,
              "ticks": ""
             }
            },
            "type": "scatterpolar"
           }
          ],
          "scatterpolargl": [
           {
            "marker": {
             "colorbar": {
              "outlinewidth": 0,
              "ticks": ""
             }
            },
            "type": "scatterpolargl"
           }
          ],
          "scatterternary": [
           {
            "marker": {
             "colorbar": {
              "outlinewidth": 0,
              "ticks": ""
             }
            },
            "type": "scatterternary"
           }
          ],
          "surface": [
           {
            "colorbar": {
             "outlinewidth": 0,
             "ticks": ""
            },
            "colorscale": [
             [
              0,
              "#0d0887"
             ],
             [
              0.1111111111111111,
              "#46039f"
             ],
             [
              0.2222222222222222,
              "#7201a8"
             ],
             [
              0.3333333333333333,
              "#9c179e"
             ],
             [
              0.4444444444444444,
              "#bd3786"
             ],
             [
              0.5555555555555556,
              "#d8576b"
             ],
             [
              0.6666666666666666,
              "#ed7953"
             ],
             [
              0.7777777777777778,
              "#fb9f3a"
             ],
             [
              0.8888888888888888,
              "#fdca26"
             ],
             [
              1,
              "#f0f921"
             ]
            ],
            "type": "surface"
           }
          ],
          "table": [
           {
            "cells": {
             "fill": {
              "color": "#EBF0F8"
             },
             "line": {
              "color": "white"
             }
            },
            "header": {
             "fill": {
              "color": "#C8D4E3"
             },
             "line": {
              "color": "white"
             }
            },
            "type": "table"
           }
          ]
         },
         "layout": {
          "annotationdefaults": {
           "arrowcolor": "#2a3f5f",
           "arrowhead": 0,
           "arrowwidth": 1
          },
          "autotypenumbers": "strict",
          "coloraxis": {
           "colorbar": {
            "outlinewidth": 0,
            "ticks": ""
           }
          },
          "colorscale": {
           "diverging": [
            [
             0,
             "#8e0152"
            ],
            [
             0.1,
             "#c51b7d"
            ],
            [
             0.2,
             "#de77ae"
            ],
            [
             0.3,
             "#f1b6da"
            ],
            [
             0.4,
             "#fde0ef"
            ],
            [
             0.5,
             "#f7f7f7"
            ],
            [
             0.6,
             "#e6f5d0"
            ],
            [
             0.7,
             "#b8e186"
            ],
            [
             0.8,
             "#7fbc41"
            ],
            [
             0.9,
             "#4d9221"
            ],
            [
             1,
             "#276419"
            ]
           ],
           "sequential": [
            [
             0,
             "#0d0887"
            ],
            [
             0.1111111111111111,
             "#46039f"
            ],
            [
             0.2222222222222222,
             "#7201a8"
            ],
            [
             0.3333333333333333,
             "#9c179e"
            ],
            [
             0.4444444444444444,
             "#bd3786"
            ],
            [
             0.5555555555555556,
             "#d8576b"
            ],
            [
             0.6666666666666666,
             "#ed7953"
            ],
            [
             0.7777777777777778,
             "#fb9f3a"
            ],
            [
             0.8888888888888888,
             "#fdca26"
            ],
            [
             1,
             "#f0f921"
            ]
           ],
           "sequentialminus": [
            [
             0,
             "#0d0887"
            ],
            [
             0.1111111111111111,
             "#46039f"
            ],
            [
             0.2222222222222222,
             "#7201a8"
            ],
            [
             0.3333333333333333,
             "#9c179e"
            ],
            [
             0.4444444444444444,
             "#bd3786"
            ],
            [
             0.5555555555555556,
             "#d8576b"
            ],
            [
             0.6666666666666666,
             "#ed7953"
            ],
            [
             0.7777777777777778,
             "#fb9f3a"
            ],
            [
             0.8888888888888888,
             "#fdca26"
            ],
            [
             1,
             "#f0f921"
            ]
           ]
          },
          "colorway": [
           "#636efa",
           "#EF553B",
           "#00cc96",
           "#ab63fa",
           "#FFA15A",
           "#19d3f3",
           "#FF6692",
           "#B6E880",
           "#FF97FF",
           "#FECB52"
          ],
          "font": {
           "color": "#2a3f5f"
          },
          "geo": {
           "bgcolor": "white",
           "lakecolor": "white",
           "landcolor": "#E5ECF6",
           "showlakes": true,
           "showland": true,
           "subunitcolor": "white"
          },
          "hoverlabel": {
           "align": "left"
          },
          "hovermode": "closest",
          "mapbox": {
           "style": "light"
          },
          "paper_bgcolor": "white",
          "plot_bgcolor": "#E5ECF6",
          "polar": {
           "angularaxis": {
            "gridcolor": "white",
            "linecolor": "white",
            "ticks": ""
           },
           "bgcolor": "#E5ECF6",
           "radialaxis": {
            "gridcolor": "white",
            "linecolor": "white",
            "ticks": ""
           }
          },
          "scene": {
           "xaxis": {
            "backgroundcolor": "#E5ECF6",
            "gridcolor": "white",
            "gridwidth": 2,
            "linecolor": "white",
            "showbackground": true,
            "ticks": "",
            "zerolinecolor": "white"
           },
           "yaxis": {
            "backgroundcolor": "#E5ECF6",
            "gridcolor": "white",
            "gridwidth": 2,
            "linecolor": "white",
            "showbackground": true,
            "ticks": "",
            "zerolinecolor": "white"
           },
           "zaxis": {
            "backgroundcolor": "#E5ECF6",
            "gridcolor": "white",
            "gridwidth": 2,
            "linecolor": "white",
            "showbackground": true,
            "ticks": "",
            "zerolinecolor": "white"
           }
          },
          "shapedefaults": {
           "line": {
            "color": "#2a3f5f"
           }
          },
          "ternary": {
           "aaxis": {
            "gridcolor": "white",
            "linecolor": "white",
            "ticks": ""
           },
           "baxis": {
            "gridcolor": "white",
            "linecolor": "white",
            "ticks": ""
           },
           "bgcolor": "#E5ECF6",
           "caxis": {
            "gridcolor": "white",
            "linecolor": "white",
            "ticks": ""
           }
          },
          "title": {
           "x": 0.05
          },
          "xaxis": {
           "automargin": true,
           "gridcolor": "white",
           "linecolor": "white",
           "ticks": "",
           "title": {
            "standoff": 15
           },
           "zerolinecolor": "white",
           "zerolinewidth": 2
          },
          "yaxis": {
           "automargin": true,
           "gridcolor": "white",
           "linecolor": "white",
           "ticks": "",
           "title": {
            "standoff": 15
           },
           "zerolinecolor": "white",
           "zerolinewidth": 2
          }
         }
        },
        "title": {
         "text": "Динамика набора пользователей в группы теста"
        },
        "width": 800,
        "xaxis": {
         "anchor": "y",
         "autorange": true,
         "domain": [
          0,
          1
         ],
         "range": [
          0,
          11
         ],
         "title": {
          "text": "Месяц"
         },
         "type": "category"
        },
        "yaxis": {
         "anchor": "x",
         "autorange": true,
         "domain": [
          0,
          1
         ],
         "range": [
          -0.2643786248778208,
          16.3226289364657
         ],
         "title": {
          "text": "Ср-ие значения метрик"
         },
         "type": "linear"
        }
       }
      },
      "image/png": "[encoded data removed]",
      "text/html": [
       "<div>                            <div id=\"db3d5cd5-860c-47b1-bdd8-98bb0d63a2d0\" class=\"plotly-graph-div\" style=\"height:500px; width:800px;\"></div>            <script type=\"text/javascript\">                require([\"plotly\"], function(Plotly) {                    window.PLOTLYENV=window.PLOTLYENV || {};                                    if (document.getElementById(\"db3d5cd5-860c-47b1-bdd8-98bb0d63a2d0\")) {                    Plotly.newPlot(                        \"db3d5cd5-860c-47b1-bdd8-98bb0d63a2d0\",                        [{\"hovertemplate\":\"variable=ctor<br>\\u041c\\u0435\\u0441\\u044f\\u0446=%{x}<br>value=%{y}<extra></extra>\",\"legendgroup\":\"ctor\",\"line\":{\"color\":\"#636efa\",\"dash\":\"solid\"},\"marker\":{\"symbol\":\"circle\"},\"mode\":\"lines\",\"name\":\"ctor\",\"orientation\":\"v\",\"showlegend\":true,\"x\":[\"\\u042f\\u043d\\u0432\\u0430\\u0440\\u044c\",\"\\u0424\\u0435\\u0432\\u0440\\u0430\\u043b\\u044c\",\"\\u041c\\u0430\\u0440\\u0442\",\"\\u0410\\u043f\\u0440\\u0435\\u043b\\u044c\",\"\\u041c\\u0430\\u0439\",\"\\u0418\\u044e\\u043d\\u044c\",\"\\u0418\\u044e\\u043b\\u044c\",\"\\u0410\\u0432\\u0433\\u0443\\u0441\\u0442\",\"\\u0421\\u0435\\u043d\\u0442\\u044f\\u0431\\u0440\\u044c\",\"\\u041e\\u043a\\u0442\\u044f\\u0431\\u0440\\u044c\",\"\\u041d\\u043e\\u044f\\u0431\\u0440\\u044c\",\"\\u0414\\u0435\\u043a\\u0430\\u0431\\u0440\\u044c\"],\"xaxis\":\"x\",\"y\":[8.249647863088315,7.87028118620219,8.316361620802454,7.837199458139705,9.14984111389138,8.074721733934972,7.649746456899218,7.3996232571815,8.528409104438879,8.219681981110211,8.17644172878455,7.940948653146849],\"yaxis\":\"y\",\"type\":\"scatter\"},{\"hovertemplate\":\"variable=open_rate<br>\\u041c\\u0435\\u0441\\u044f\\u0446=%{x}<br>value=%{y}<extra></extra>\",\"legendgroup\":\"open_rate\",\"line\":{\"color\":\"#EF553B\",\"dash\":\"solid\"},\"marker\":{\"symbol\":\"circle\"},\"mode\":\"lines\",\"name\":\"open_rate\",\"orientation\":\"v\",\"showlegend\":true,\"x\":[\"\\u042f\\u043d\\u0432\\u0430\\u0440\\u044c\",\"\\u0424\\u0435\\u0432\\u0440\\u0430\\u043b\\u044c\",\"\\u041c\\u0430\\u0440\\u0442\",\"\\u0410\\u043f\\u0440\\u0435\\u043b\\u044c\",\"\\u041c\\u0430\\u0439\",\"\\u0418\\u044e\\u043d\\u044c\",\"\\u0418\\u044e\\u043b\\u044c\",\"\\u0410\\u0432\\u0433\\u0443\\u0441\\u0442\",\"\\u0421\\u0435\\u043d\\u0442\\u044f\\u0431\\u0440\\u044c\",\"\\u041e\\u043a\\u0442\\u044f\\u0431\\u0440\\u044c\",\"\\u041d\\u043e\\u044f\\u0431\\u0440\\u044c\",\"\\u0414\\u0435\\u043a\\u0430\\u0431\\u0440\\u044c\"],\"xaxis\":\"x\",\"y\":[12.79329389250171,12.967023831568136,13.214972128767661,15.316845221020662,15.116223527981937,15.293291707074944,14.841645405166942,15.493278558398524,12.425665351730476,14.224617798810597,13.862986843364569,13.342320086528892],\"yaxis\":\"y\",\"type\":\"scatter\"},{\"hovertemplate\":\"variable=ur<br>\\u041c\\u0435\\u0441\\u044f\\u0446=%{x}<br>value=%{y}<extra></extra>\",\"legendgroup\":\"ur\",\"line\":{\"color\":\"#00cc96\",\"dash\":\"solid\"},\"marker\":{\"symbol\":\"circle\"},\"mode\":\"lines\",\"name\":\"ur\",\"orientation\":\"v\",\"showlegend\":true,\"x\":[\"\\u042f\\u043d\\u0432\\u0430\\u0440\\u044c\",\"\\u0424\\u0435\\u0432\\u0440\\u0430\\u043b\\u044c\",\"\\u041c\\u0430\\u0440\\u0442\",\"\\u0410\\u043f\\u0440\\u0435\\u043b\\u044c\",\"\\u041c\\u0430\\u0439\",\"\\u0418\\u044e\\u043d\\u044c\",\"\\u0418\\u044e\\u043b\\u044c\",\"\\u0410\\u0432\\u0433\\u0443\\u0441\\u0442\",\"\\u0421\\u0435\\u043d\\u0442\\u044f\\u0431\\u0440\\u044c\",\"\\u041e\\u043a\\u0442\\u044f\\u0431\\u0440\\u044c\",\"\\u041d\\u043e\\u044f\\u0431\\u0440\\u044c\",\"\\u0414\\u0435\\u043a\\u0430\\u0431\\u0440\\u044c\"],\"xaxis\":\"x\",\"y\":[3.9549576405673497,0.8999604382913761,0.899970256420273,0.8268406043354285,0.6599502134037613,0.6149518861117987,0.5999533504524455,0.5649717531893552,0.5685129282852132,2.0939660484047944,2.8485701074816556,5.113198883654239],\"yaxis\":\"y\",\"type\":\"scatter\"}],                        {\"template\":{\"data\":{\"bar\":[{\"error_x\":{\"color\":\"#2a3f5f\"},\"error_y\":{\"color\":\"#2a3f5f\"},\"marker\":{\"line\":{\"color\":\"#E5ECF6\",\"width\":0.5},\"pattern\":{\"fillmode\":\"overlay\",\"size\":10,\"solidity\":0.2}},\"type\":\"bar\"}],\"barpolar\":[{\"marker\":{\"line\":{\"color\":\"#E5ECF6\",\"width\":0.5},\"pattern\":{\"fillmode\":\"overlay\",\"size\":10,\"solidity\":0.2}},\"type\":\"barpolar\"}],\"carpet\":[{\"aaxis\":{\"endlinecolor\":\"#2a3f5f\",\"gridcolor\":\"white\",\"linecolor\":\"white\",\"minorgridcolor\":\"white\",\"startlinecolor\":\"#2a3f5f\"},\"baxis\":{\"endlinecolor\":\"#2a3f5f\",\"gridcolor\":\"white\",\"linecolor\":\"white\",\"minorgridcolor\":\"white\",\"startlinecolor\":\"#2a3f5f\"},\"type\":\"carpet\"}],\"choropleth\":[{\"colorbar\":{\"outlinewidth\":0,\"ticks\":\"\"},\"type\":\"choropleth\"}],\"contour\":[{\"colorbar\":{\"outlinewidth\":0,\"ticks\":\"\"},\"colorscale\":[[0.0,\"#0d0887\"],[0.1111111111111111,\"#46039f\"],[0.2222222222222222,\"#7201a8\"],[0.3333333333333333,\"#9c179e\"],[0.4444444444444444,\"#bd3786\"],[0.5555555555555556,\"#d8576b\"],[0.6666666666666666,\"#ed7953\"],[0.7777777777777778,\"#fb9f3a\"],[0.8888888888888888,\"#fdca26\"],[1.0,\"#f0f921\"]],\"type\":\"contour\"}],\"contourcarpet\":[{\"colorbar\":{\"outlinewidth\":0,\"ticks\":\"\"},\"type\":\"contourcarpet\"}],\"heatmap\":[{\"colorbar\":{\"outlinewidth\":0,\"ticks\":\"\"},\"colorscale\":[[0.0,\"#0d0887\"],[0.1111111111111111,\"#46039f\"],[0.2222222222222222,\"#7201a8\"],[0.3333333333333333,\"#9c179e\"],[0.4444444444444444,\"#bd3786\"],[0.5555555555555556,\"#d8576b\"],[0.6666666666666666,\"#ed7953\"],[0.7777777777777778,\"#fb9f3a\"],[0.8888888888888888,\"#fdca26\"],[1.0,\"#f0f921\"]],\"type\":\"heatmap\"}],\"heatmapgl\":[{\"colorbar\":{\"outlinewidth\":0,\"ticks\":\"\"},\"colorscale\":[[0.0,\"#0d0887\"],[0.1111111111111111,\"#46039f\"],[0.2222222222222222,\"#7201a8\"],[0.3333333333333333,\"#9c179e\"],[0.4444444444444444,\"#bd3786\"],[0.5555555555555556,\"#d8576b\"],[0.6666666666666666,\"#ed7953\"],[0.7777777777777778,\"#fb9f3a\"],[0.8888888888888888,\"#fdca26\"],[1.0,\"#f0f921\"]],\"type\":\"heatmapgl\"}],\"histogram\":[{\"marker\":{\"pattern\":{\"fillmode\":\"overlay\",\"size\":10,\"solidity\":0.2}},\"type\":\"histogram\"}],\"histogram2d\":[{\"colorbar\":{\"outlinewidth\":0,\"ticks\":\"\"},\"colorscale\":[[0.0,\"#0d0887\"],[0.1111111111111111,\"#46039f\"],[0.2222222222222222,\"#7201a8\"],[0.3333333333333333,\"#9c179e\"],[0.4444444444444444,\"#bd3786\"],[0.5555555555555556,\"#d8576b\"],[0.6666666666666666,\"#ed7953\"],[0.7777777777777778,\"#fb9f3a\"],[0.8888888888888888,\"#fdca26\"],[1.0,\"#f0f921\"]],\"type\":\"histogram2d\"}],\"histogram2dcontour\":[{\"colorbar\":{\"outlinewidth\":0,\"ticks\":\"\"},\"colorscale\":[[0.0,\"#0d0887\"],[0.1111111111111111,\"#46039f\"],[0.2222222222222222,\"#7201a8\"],[0.3333333333333333,\"#9c179e\"],[0.4444444444444444,\"#bd3786\"],[0.5555555555555556,\"#d8576b\"],[0.6666666666666666,\"#ed7953\"],[0.7777777777777778,\"#fb9f3a\"],[0.8888888888888888,\"#fdca26\"],[1.0,\"#f0f921\"]],\"type\":\"histogram2dcontour\"}],\"mesh3d\":[{\"colorbar\":{\"outlinewidth\":0,\"ticks\":\"\"},\"type\":\"mesh3d\"}],\"parcoords\":[{\"line\":{\"colorbar\":{\"outlinewidth\":0,\"ticks\":\"\"}},\"type\":\"parcoords\"}],\"pie\":[{\"automargin\":true,\"type\":\"pie\"}],\"scatter\":[{\"marker\":{\"colorbar\":{\"outlinewidth\":0,\"ticks\":\"\"}},\"type\":\"scatter\"}],\"scatter3d\":[{\"line\":{\"colorbar\":{\"outlinewidth\":0,\"ticks\":\"\"}},\"marker\":{\"colorbar\":{\"outlinewidth\":0,\"ticks\":\"\"}},\"type\":\"scatter3d\"}],\"scattercarpet\":[{\"marker\":{\"colorbar\":{\"outlinewidth\":0,\"ticks\":\"\"}},\"type\":\"scattercarpet\"}],\"scattergeo\":[{\"marker\":{\"colorbar\":{\"outlinewidth\":0,\"ticks\":\"\"}},\"type\":\"scattergeo\"}],\"scattergl\":[{\"marker\":{\"colorbar\":{\"outlinewidth\":0,\"ticks\":\"\"}},\"type\":\"scattergl\"}],\"scattermapbox\":[{\"marker\":{\"colorbar\":{\"outlinewidth\":0,\"ticks\":\"\"}},\"type\":\"scattermapbox\"}],\"scatterpolar\":[{\"marker\":{\"colorbar\":{\"outlinewidth\":0,\"ticks\":\"\"}},\"type\":\"scatterpolar\"}],\"scatterpolargl\":[{\"marker\":{\"colorbar\":{\"outlinewidth\":0,\"ticks\":\"\"}},\"type\":\"scatterpolargl\"}],\"scatterternary\":[{\"marker\":{\"colorbar\":{\"outlinewidth\":0,\"ticks\":\"\"}},\"type\":\"scatterternary\"}],\"surface\":[{\"colorbar\":{\"outlinewidth\":0,\"ticks\":\"\"},\"colorscale\":[[0.0,\"#0d0887\"],[0.1111111111111111,\"#46039f\"],[0.2222222222222222,\"#7201a8\"],[0.3333333333333333,\"#9c179e\"],[0.4444444444444444,\"#bd3786\"],[0.5555555555555556,\"#d8576b\"],[0.6666666666666666,\"#ed7953\"],[0.7777777777777778,\"#fb9f3a\"],[0.8888888888888888,\"#fdca26\"],[1.0,\"#f0f921\"]],\"type\":\"surface\"}],\"table\":[{\"cells\":{\"fill\":{\"color\":\"#EBF0F8\"},\"line\":{\"color\":\"white\"}},\"header\":{\"fill\":{\"color\":\"#C8D4E3\"},\"line\":{\"color\":\"white\"}},\"type\":\"table\"}]},\"layout\":{\"annotationdefaults\":{\"arrowcolor\":\"#2a3f5f\",\"arrowhead\":0,\"arrowwidth\":1},\"autotypenumbers\":\"strict\",\"coloraxis\":{\"colorbar\":{\"outlinewidth\":0,\"ticks\":\"\"}},\"colorscale\":{\"diverging\":[[0,\"#8e0152\"],[0.1,\"#c51b7d\"],[0.2,\"#de77ae\"],[0.3,\"#f1b6da\"],[0.4,\"#fde0ef\"],[0.5,\"#f7f7f7\"],[0.6,\"#e6f5d0\"],[0.7,\"#b8e186\"],[0.8,\"#7fbc41\"],[0.9,\"#4d9221\"],[1,\"#276419\"]],\"sequential\":[[0.0,\"#0d0887\"],[0.1111111111111111,\"#46039f\"],[0.2222222222222222,\"#7201a8\"],[0.3333333333333333,\"#9c179e\"],[0.4444444444444444,\"#bd3786\"],[0.5555555555555556,\"#d8576b\"],[0.6666666666666666,\"#ed7953\"],[0.7777777777777778,\"#fb9f3a\"],[0.8888888888888888,\"#fdca26\"],[1.0,\"#f0f921\"]],\"sequentialminus\":[[0.0,\"#0d0887\"],[0.1111111111111111,\"#46039f\"],[0.2222222222222222,\"#7201a8\"],[0.3333333333333333,\"#9c179e\"],[0.4444444444444444,\"#bd3786\"],[0.5555555555555556,\"#d8576b\"],[0.6666666666666666,\"#ed7953\"],[0.7777777777777778,\"#fb9f3a\"],[0.8888888888888888,\"#fdca26\"],[1.0,\"#f0f921\"]]},\"colorway\":[\"#636efa\",\"#EF553B\",\"#00cc96\",\"#ab63fa\",\"#FFA15A\",\"#19d3f3\",\"#FF6692\",\"#B6E880\",\"#FF97FF\",\"#FECB52\"],\"font\":{\"color\":\"#2a3f5f\"},\"geo\":{\"bgcolor\":\"white\",\"lakecolor\":\"white\",\"landcolor\":\"#E5ECF6\",\"showlakes\":true,\"showland\":true,\"subunitcolor\":\"white\"},\"hoverlabel\":{\"align\":\"left\"},\"hovermode\":\"closest\",\"mapbox\":{\"style\":\"light\"},\"paper_bgcolor\":\"white\",\"plot_bgcolor\":\"#E5ECF6\",\"polar\":{\"angularaxis\":{\"gridcolor\":\"white\",\"linecolor\":\"white\",\"ticks\":\"\"},\"bgcolor\":\"#E5ECF6\",\"radialaxis\":{\"gridcolor\":\"white\",\"linecolor\":\"white\",\"ticks\":\"\"}},\"scene\":{\"xaxis\":{\"backgroundcolor\":\"#E5ECF6\",\"gridcolor\":\"white\",\"gridwidth\":2,\"linecolor\":\"white\",\"showbackground\":true,\"ticks\":\"\",\"zerolinecolor\":\"white\"},\"yaxis\":{\"backgroundcolor\":\"#E5ECF6\",\"gridcolor\":\"white\",\"gridwidth\":2,\"linecolor\":\"white\",\"showbackground\":true,\"ticks\":\"\",\"zerolinecolor\":\"white\"},\"zaxis\":{\"backgroundcolor\":\"#E5ECF6\",\"gridcolor\":\"white\",\"gridwidth\":2,\"linecolor\":\"white\",\"showbackground\":true,\"ticks\":\"\",\"zerolinecolor\":\"white\"}},\"shapedefaults\":{\"line\":{\"color\":\"#2a3f5f\"}},\"ternary\":{\"aaxis\":{\"gridcolor\":\"white\",\"linecolor\":\"white\",\"ticks\":\"\"},\"baxis\":{\"gridcolor\":\"white\",\"linecolor\":\"white\",\"ticks\":\"\"},\"bgcolor\":\"#E5ECF6\",\"caxis\":{\"gridcolor\":\"white\",\"linecolor\":\"white\",\"ticks\":\"\"}},\"title\":{\"x\":0.05},\"xaxis\":{\"automargin\":true,\"gridcolor\":\"white\",\"linecolor\":\"white\",\"ticks\":\"\",\"title\":{\"standoff\":15},\"zerolinecolor\":\"white\",\"zerolinewidth\":2},\"yaxis\":{\"automargin\":true,\"gridcolor\":\"white\",\"linecolor\":\"white\",\"ticks\":\"\",\"title\":{\"standoff\":15},\"zerolinecolor\":\"white\",\"zerolinewidth\":2}}},\"xaxis\":{\"anchor\":\"y\",\"domain\":[0.0,1.0],\"title\":{\"text\":\"\\u041c\\u0435\\u0441\\u044f\\u0446\"}},\"yaxis\":{\"anchor\":\"x\",\"domain\":[0.0,1.0],\"title\":{\"text\":\"\\u0421\\u0440-\\u0438\\u0435 \\u0437\\u043d\\u0430\\u0447\\u0435\\u043d\\u0438\\u044f \\u043c\\u0435\\u0442\\u0440\\u0438\\u043a\"}},\"legend\":{\"title\":{\"text\":\"\\u0413\\u0440\\u0443\\u043f\\u043f\\u0430\"},\"tracegroupgap\":0},\"title\":{\"text\":\"\\u0414\\u0438\\u043d\\u0430\\u043c\\u0438\\u043a\\u0430 \\u043d\\u0430\\u0431\\u043e\\u0440\\u0430 \\u043f\\u043e\\u043b\\u044c\\u0437\\u043e\\u0432\\u0430\\u0442\\u0435\\u043b\\u0435\\u0439 \\u0432 \\u0433\\u0440\\u0443\\u043f\\u043f\\u044b \\u0442\\u0435\\u0441\\u0442\\u0430\"},\"hoverlabel\":{\"font\":{\"color\":\"white\"}},\"width\":800,\"height\":500},                        {\"responsive\": true}                    ).then(function(){\n",
       "                            \n",
       "var gd = document.getElementById('db3d5cd5-860c-47b1-bdd8-98bb0d63a2d0');\n",
       "var x = new MutationObserver(function (mutations, observer) {{\n",
       "        var display = window.getComputedStyle(gd).display;\n",
       "        if (!display || display === 'none') {{\n",
       "            console.log([gd, 'removed!']);\n",
       "            Plotly.purge(gd);\n",
       "            observer.disconnect();\n",
       "        }}\n",
       "}});\n",
       "\n",
       "// Listen for the removal of the full notebook cells\n",
       "var notebookContainer = gd.closest('#notebook-container');\n",
       "if (notebookContainer) {{\n",
       "    x.observe(notebookContainer, {childList: true});\n",
       "}}\n",
       "\n",
       "// Listen for the clearing of the current output cell\n",
       "var outputEl = gd.closest('.output');\n",
       "if (outputEl) {{\n",
       "    x.observe(outputEl, {childList: true});\n",
       "}}\n",
       "\n",
       "                        })                };                });            </script>        </div>"
      ]
     },
     "metadata": {},
     "output_type": "display_data"
    }
   ],
   "source": [
    "fig = px.line(dynamics.sort_values('Месяц'),\n",
    "              x=\"Месяц\",\n",
    "              y=dynamics.columns,\n",
    "              title=\"Динамика набора пользователей в группы теста\")\n",
    "\n",
    "fig.update_layout(width=800, height=500,\n",
    "                  hoverlabel=dict(font_color=\"white\"),\n",
    "                 legend_title='Группа')\n",
    "\n",
    "fig.update_xaxes(title='Месяц')\n",
    "fig.update_yaxes(title='Ср-ие значения метрик')\n",
    "\n",
    "fig.show()"
   ]
  },
  {
   "cell_type": "markdown",
   "id": "eb93dff8-9d4b-4b8b-b1e4-27cb159a4f45",
   "metadata": {},
   "source": [
    "**ВЫВОД:**\n",
    "<hr style=\"border-color: green;\">\n",
    "\n",
    "На графике видно, что в пользователи больше склонны отписываться с осени по зиму (сентябрь - февраль). Далее средний коэффициент отписок составляет 0.89 (февраль-март) и снижается к концу лета до значения 0.56\n",
    "\n",
    "<hr style=\"border-color: green;\"> "
   ]
  },
  {
   "cell_type": "markdown",
   "id": "35e2e612-f884-47d7-af7b-2ae17118f126",
   "metadata": {},
   "source": [
    "### Воронка продаж"
   ]
  },
  {
   "cell_type": "code",
   "execution_count": 77,
   "id": "88c00300-570b-4f1a-a1c7-700e2422bbd9",
   "metadata": {},
   "outputs": [
    {
     "data": {
      "text/html": [
       "<div>\n",
       "<style scoped>\n",
       "    .dataframe tbody tr th:only-of-type {\n",
       "        vertical-align: middle;\n",
       "    }\n",
       "\n",
       "    .dataframe tbody tr th {\n",
       "        vertical-align: top;\n",
       "    }\n",
       "\n",
       "    .dataframe thead th {\n",
       "        text-align: right;\n",
       "    }\n",
       "</style>\n",
       "<table border=\"1\" class=\"dataframe\">\n",
       "  <thead>\n",
       "    <tr style=\"text-align: right;\">\n",
       "      <th></th>\n",
       "      <th>шаг_воронки</th>\n",
       "      <th>Воронка продаж. Шаг 1</th>\n",
       "      <th>Воронка продаж. Шаг 2</th>\n",
       "      <th>Воронка продаж. Шаг 3</th>\n",
       "    </tr>\n",
       "  </thead>\n",
       "  <tbody>\n",
       "    <tr>\n",
       "      <th>0</th>\n",
       "      <td>Сегмент 1</td>\n",
       "      <td>394412.223541</td>\n",
       "      <td>344313.899949</td>\n",
       "      <td>266167.741333</td>\n",
       "    </tr>\n",
       "    <tr>\n",
       "      <th>1</th>\n",
       "      <td>Сегмент 2</td>\n",
       "      <td>446090.270527</td>\n",
       "      <td>387420.441898</td>\n",
       "      <td>303791.190706</td>\n",
       "    </tr>\n",
       "    <tr>\n",
       "      <th>2</th>\n",
       "      <td>Сегмент 3</td>\n",
       "      <td>405811.512382</td>\n",
       "      <td>351268.004923</td>\n",
       "      <td>275577.762912</td>\n",
       "    </tr>\n",
       "  </tbody>\n",
       "</table>\n",
       "</div>"
      ],
      "text/plain": [
       "  шаг_воронки  Воронка продаж. Шаг 1  Воронка продаж. Шаг 2  \\\n",
       "0   Сегмент 1          394412.223541          344313.899949   \n",
       "1   Сегмент 2          446090.270527          387420.441898   \n",
       "2   Сегмент 3          405811.512382          351268.004923   \n",
       "\n",
       "   Воронка продаж. Шаг 3  \n",
       "0          266167.741333  \n",
       "1          303791.190706  \n",
       "2          275577.762912  "
      ]
     },
     "execution_count": 77,
     "metadata": {},
     "output_type": "execute_result"
    }
   ],
   "source": [
    "funnel = (\n",
    "    df\n",
    "    .pivot_table(index='Сегмент',\n",
    "                 values=['Воронка продаж. Шаг 1', 'Воронка продаж. Шаг 2', 'Воронка продаж. Шаг 3'],\n",
    "                 aggfunc='sum')\n",
    "    .reset_index()\n",
    ")\n",
    "\n",
    "funnel = funnel.rename(columns={'Сегмент': 'шаг_воронки'})\n",
    "\n",
    "funnel"
   ]
  },
  {
   "cell_type": "code",
   "execution_count": 118,
   "id": "4cf512b2-f472-43e3-93f3-3f4384ae261b",
   "metadata": {},
   "outputs": [
    {
     "data": {
      "text/html": [
       "<div>\n",
       "<style scoped>\n",
       "    .dataframe tbody tr th:only-of-type {\n",
       "        vertical-align: middle;\n",
       "    }\n",
       "\n",
       "    .dataframe tbody tr th {\n",
       "        vertical-align: top;\n",
       "    }\n",
       "\n",
       "    .dataframe thead th {\n",
       "        text-align: right;\n",
       "    }\n",
       "</style>\n",
       "<table border=\"1\" class=\"dataframe\">\n",
       "  <thead>\n",
       "    <tr style=\"text-align: right;\">\n",
       "      <th></th>\n",
       "      <th>funnel_step</th>\n",
       "      <th>сегмент_1</th>\n",
       "      <th>сегмент_2</th>\n",
       "      <th>сегмент_3</th>\n",
       "    </tr>\n",
       "  </thead>\n",
       "  <tbody>\n",
       "    <tr>\n",
       "      <th>0</th>\n",
       "      <td>Воронка продаж. Шаг 1</td>\n",
       "      <td>394412.223541</td>\n",
       "      <td>446090.270527</td>\n",
       "      <td>405811.512382</td>\n",
       "    </tr>\n",
       "    <tr>\n",
       "      <th>1</th>\n",
       "      <td>Воронка продаж. Шаг 2</td>\n",
       "      <td>344313.899949</td>\n",
       "      <td>387420.441898</td>\n",
       "      <td>351268.004923</td>\n",
       "    </tr>\n",
       "    <tr>\n",
       "      <th>2</th>\n",
       "      <td>Воронка продаж. Шаг 3</td>\n",
       "      <td>266167.741333</td>\n",
       "      <td>303791.190706</td>\n",
       "      <td>275577.762912</td>\n",
       "    </tr>\n",
       "  </tbody>\n",
       "</table>\n",
       "</div>"
      ],
      "text/plain": [
       "             funnel_step      сегмент_1      сегмент_2      сегмент_3\n",
       "0  Воронка продаж. Шаг 1  394412.223541  446090.270527  405811.512382\n",
       "1  Воронка продаж. Шаг 2  344313.899949  387420.441898  351268.004923\n",
       "2  Воронка продаж. Шаг 3  266167.741333  303791.190706  275577.762912"
      ]
     },
     "execution_count": 118,
     "metadata": {},
     "output_type": "execute_result"
    }
   ],
   "source": [
    "funnel_t = funnel.set_index('шаг_воронки').T\n",
    "\n",
    "funnel_t = funnel_t.rename(columns={'Сегмент 1': 'сегмент_1', 'Сегмент 2': 'сегмент_2', 'Сегмент 3': 'сегмент_3'})\n",
    "\n",
    "funnel_t = funnel_t.reset_index()\n",
    "funnel_t.columns.name = None\n",
    "\n",
    "funnel_t = funnel_t.rename(columns={'index': 'funnel_step'})\n",
    "\n",
    "funnel_t"
   ]
  },
  {
   "cell_type": "code",
   "execution_count": 119,
   "id": "fbac751e-e61c-4433-85a8-5ad96310273c",
   "metadata": {},
   "outputs": [
    {
     "data": {
      "application/vnd.plotly.v1+json": {
       "config": {
        "plotlyServerURL": "https://plot.ly"
       },
       "data": [
        {
         "hovertemplate": "Стадия: %{y} <br>Доля от всех: %{percentTotal}                  <br>Доля с прошлой стадии: %{percentPrevious}<extra></extra>",
         "name": "Сегмент 1",
         "textfont": {
          "color": "white"
         },
         "textinfo": "value+percent previous",
         "type": "funnel",
         "x": [
          394412.22354138846,
          344313.8999486867,
          266167.7413332355
         ],
         "y": [
          "Воронка продаж. Шаг 1",
          "Воронка продаж. Шаг 2",
          "Воронка продаж. Шаг 3"
         ]
        },
        {
         "hovertemplate": "Стадия: %{y} <br>Доля от всех: %{percentTotal}                  <br>Доля с прошлой стадии: %{percentPrevious}<extra></extra>",
         "name": "Сегмент 2",
         "orientation": "h",
         "textfont": {
          "color": "white"
         },
         "textinfo": "value+percent previous",
         "textposition": "inside",
         "type": "funnel",
         "x": [
          446090.2705265321,
          387420.44189779466,
          303791.1907064515
         ],
         "y": [
          "Воронка продаж. Шаг 1",
          "Воронка продаж. Шаг 2",
          "Воронка продаж. Шаг 3"
         ]
        },
        {
         "hovertemplate": "Стадия: %{y} <br>Доля от всех: %{percentTotal}                  <br>Доля с прошлой стадии: %{percentPrevious}<extra></extra>",
         "name": "Сегмент 3",
         "orientation": "h",
         "textfont": {
          "color": "white"
         },
         "textinfo": "value+percent previous",
         "textposition": "inside",
         "type": "funnel",
         "x": [
          405811.51238201134,
          351268.0049234443,
          275577.76291194913
         ],
         "y": [
          "Воронка продаж. Шаг 1",
          "Воронка продаж. Шаг 2",
          "Воронка продаж. Шаг 3"
         ]
        }
       ],
       "layout": {
        "height": 450,
        "hoverlabel": {
         "font": {
          "color": "white"
         }
        },
        "template": {
         "data": {
          "bar": [
           {
            "error_x": {
             "color": "#2a3f5f"
            },
            "error_y": {
             "color": "#2a3f5f"
            },
            "marker": {
             "line": {
              "color": "#E5ECF6",
              "width": 0.5
             },
             "pattern": {
              "fillmode": "overlay",
              "size": 10,
              "solidity": 0.2
             }
            },
            "type": "bar"
           }
          ],
          "barpolar": [
           {
            "marker": {
             "line": {
              "color": "#E5ECF6",
              "width": 0.5
             },
             "pattern": {
              "fillmode": "overlay",
              "size": 10,
              "solidity": 0.2
             }
            },
            "type": "barpolar"
           }
          ],
          "carpet": [
           {
            "aaxis": {
             "endlinecolor": "#2a3f5f",
             "gridcolor": "white",
             "linecolor": "white",
             "minorgridcolor": "white",
             "startlinecolor": "#2a3f5f"
            },
            "baxis": {
             "endlinecolor": "#2a3f5f",
             "gridcolor": "white",
             "linecolor": "white",
             "minorgridcolor": "white",
             "startlinecolor": "#2a3f5f"
            },
            "type": "carpet"
           }
          ],
          "choropleth": [
           {
            "colorbar": {
             "outlinewidth": 0,
             "ticks": ""
            },
            "type": "choropleth"
           }
          ],
          "contour": [
           {
            "colorbar": {
             "outlinewidth": 0,
             "ticks": ""
            },
            "colorscale": [
             [
              0,
              "#0d0887"
             ],
             [
              0.1111111111111111,
              "#46039f"
             ],
             [
              0.2222222222222222,
              "#7201a8"
             ],
             [
              0.3333333333333333,
              "#9c179e"
             ],
             [
              0.4444444444444444,
              "#bd3786"
             ],
             [
              0.5555555555555556,
              "#d8576b"
             ],
             [
              0.6666666666666666,
              "#ed7953"
             ],
             [
              0.7777777777777778,
              "#fb9f3a"
             ],
             [
              0.8888888888888888,
              "#fdca26"
             ],
             [
              1,
              "#f0f921"
             ]
            ],
            "type": "contour"
           }
          ],
          "contourcarpet": [
           {
            "colorbar": {
             "outlinewidth": 0,
             "ticks": ""
            },
            "type": "contourcarpet"
           }
          ],
          "heatmap": [
           {
            "colorbar": {
             "outlinewidth": 0,
             "ticks": ""
            },
            "colorscale": [
             [
              0,
              "#0d0887"
             ],
             [
              0.1111111111111111,
              "#46039f"
             ],
             [
              0.2222222222222222,
              "#7201a8"
             ],
             [
              0.3333333333333333,
              "#9c179e"
             ],
             [
              0.4444444444444444,
              "#bd3786"
             ],
             [
              0.5555555555555556,
              "#d8576b"
             ],
             [
              0.6666666666666666,
              "#ed7953"
             ],
             [
              0.7777777777777778,
              "#fb9f3a"
             ],
             [
              0.8888888888888888,
              "#fdca26"
             ],
             [
              1,
              "#f0f921"
             ]
            ],
            "type": "heatmap"
           }
          ],
          "heatmapgl": [
           {
            "colorbar": {
             "outlinewidth": 0,
             "ticks": ""
            },
            "colorscale": [
             [
              0,
              "#0d0887"
             ],
             [
              0.1111111111111111,
              "#46039f"
             ],
             [
              0.2222222222222222,
              "#7201a8"
             ],
             [
              0.3333333333333333,
              "#9c179e"
             ],
             [
              0.4444444444444444,
              "#bd3786"
             ],
             [
              0.5555555555555556,
              "#d8576b"
             ],
             [
              0.6666666666666666,
              "#ed7953"
             ],
             [
              0.7777777777777778,
              "#fb9f3a"
             ],
             [
              0.8888888888888888,
              "#fdca26"
             ],
             [
              1,
              "#f0f921"
             ]
            ],
            "type": "heatmapgl"
           }
          ],
          "histogram": [
           {
            "marker": {
             "pattern": {
              "fillmode": "overlay",
              "size": 10,
              "solidity": 0.2
             }
            },
            "type": "histogram"
           }
          ],
          "histogram2d": [
           {
            "colorbar": {
             "outlinewidth": 0,
             "ticks": ""
            },
            "colorscale": [
             [
              0,
              "#0d0887"
             ],
             [
              0.1111111111111111,
              "#46039f"
             ],
             [
              0.2222222222222222,
              "#7201a8"
             ],
             [
              0.3333333333333333,
              "#9c179e"
             ],
             [
              0.4444444444444444,
              "#bd3786"
             ],
             [
              0.5555555555555556,
              "#d8576b"
             ],
             [
              0.6666666666666666,
              "#ed7953"
             ],
             [
              0.7777777777777778,
              "#fb9f3a"
             ],
             [
              0.8888888888888888,
              "#fdca26"
             ],
             [
              1,
              "#f0f921"
             ]
            ],
            "type": "histogram2d"
           }
          ],
          "histogram2dcontour": [
           {
            "colorbar": {
             "outlinewidth": 0,
             "ticks": ""
            },
            "colorscale": [
             [
              0,
              "#0d0887"
             ],
             [
              0.1111111111111111,
              "#46039f"
             ],
             [
              0.2222222222222222,
              "#7201a8"
             ],
             [
              0.3333333333333333,
              "#9c179e"
             ],
             [
              0.4444444444444444,
              "#bd3786"
             ],
             [
              0.5555555555555556,
              "#d8576b"
             ],
             [
              0.6666666666666666,
              "#ed7953"
             ],
             [
              0.7777777777777778,
              "#fb9f3a"
             ],
             [
              0.8888888888888888,
              "#fdca26"
             ],
             [
              1,
              "#f0f921"
             ]
            ],
            "type": "histogram2dcontour"
           }
          ],
          "mesh3d": [
           {
            "colorbar": {
             "outlinewidth": 0,
             "ticks": ""
            },
            "type": "mesh3d"
           }
          ],
          "parcoords": [
           {
            "line": {
             "colorbar": {
              "outlinewidth": 0,
              "ticks": ""
             }
            },
            "type": "parcoords"
           }
          ],
          "pie": [
           {
            "automargin": true,
            "type": "pie"
           }
          ],
          "scatter": [
           {
            "marker": {
             "colorbar": {
              "outlinewidth": 0,
              "ticks": ""
             }
            },
            "type": "scatter"
           }
          ],
          "scatter3d": [
           {
            "line": {
             "colorbar": {
              "outlinewidth": 0,
              "ticks": ""
             }
            },
            "marker": {
             "colorbar": {
              "outlinewidth": 0,
              "ticks": ""
             }
            },
            "type": "scatter3d"
           }
          ],
          "scattercarpet": [
           {
            "marker": {
             "colorbar": {
              "outlinewidth": 0,
              "ticks": ""
             }
            },
            "type": "scattercarpet"
           }
          ],
          "scattergeo": [
           {
            "marker": {
             "colorbar": {
              "outlinewidth": 0,
              "ticks": ""
             }
            },
            "type": "scattergeo"
           }
          ],
          "scattergl": [
           {
            "marker": {
             "colorbar": {
              "outlinewidth": 0,
              "ticks": ""
             }
            },
            "type": "scattergl"
           }
          ],
          "scattermapbox": [
           {
            "marker": {
             "colorbar": {
              "outlinewidth": 0,
              "ticks": ""
             }
            },
            "type": "scattermapbox"
           }
          ],
          "scatterpolar": [
           {
            "marker": {
             "colorbar": {
              "outlinewidth": 0,
              "ticks": ""
             }
            },
            "type": "scatterpolar"
           }
          ],
          "scatterpolargl": [
           {
            "marker": {
             "colorbar": {
              "outlinewidth": 0,
              "ticks": ""
             }
            },
            "type": "scatterpolargl"
           }
          ],
          "scatterternary": [
           {
            "marker": {
             "colorbar": {
              "outlinewidth": 0,
              "ticks": ""
             }
            },
            "type": "scatterternary"
           }
          ],
          "surface": [
           {
            "colorbar": {
             "outlinewidth": 0,
             "ticks": ""
            },
            "colorscale": [
             [
              0,
              "#0d0887"
             ],
             [
              0.1111111111111111,
              "#46039f"
             ],
             [
              0.2222222222222222,
              "#7201a8"
             ],
             [
              0.3333333333333333,
              "#9c179e"
             ],
             [
              0.4444444444444444,
              "#bd3786"
             ],
             [
              0.5555555555555556,
              "#d8576b"
             ],
             [
              0.6666666666666666,
              "#ed7953"
             ],
             [
              0.7777777777777778,
              "#fb9f3a"
             ],
             [
              0.8888888888888888,
              "#fdca26"
             ],
             [
              1,
              "#f0f921"
             ]
            ],
            "type": "surface"
           }
          ],
          "table": [
           {
            "cells": {
             "fill": {
              "color": "#EBF0F8"
             },
             "line": {
              "color": "white"
             }
            },
            "header": {
             "fill": {
              "color": "#C8D4E3"
             },
             "line": {
              "color": "white"
             }
            },
            "type": "table"
           }
          ]
         },
         "layout": {
          "annotationdefaults": {
           "arrowcolor": "#2a3f5f",
           "arrowhead": 0,
           "arrowwidth": 1
          },
          "autotypenumbers": "strict",
          "coloraxis": {
           "colorbar": {
            "outlinewidth": 0,
            "ticks": ""
           }
          },
          "colorscale": {
           "diverging": [
            [
             0,
             "#8e0152"
            ],
            [
             0.1,
             "#c51b7d"
            ],
            [
             0.2,
             "#de77ae"
            ],
            [
             0.3,
             "#f1b6da"
            ],
            [
             0.4,
             "#fde0ef"
            ],
            [
             0.5,
             "#f7f7f7"
            ],
            [
             0.6,
             "#e6f5d0"
            ],
            [
             0.7,
             "#b8e186"
            ],
            [
             0.8,
             "#7fbc41"
            ],
            [
             0.9,
             "#4d9221"
            ],
            [
             1,
             "#276419"
            ]
           ],
           "sequential": [
            [
             0,
             "#0d0887"
            ],
            [
             0.1111111111111111,
             "#46039f"
            ],
            [
             0.2222222222222222,
             "#7201a8"
            ],
            [
             0.3333333333333333,
             "#9c179e"
            ],
            [
             0.4444444444444444,
             "#bd3786"
            ],
            [
             0.5555555555555556,
             "#d8576b"
            ],
            [
             0.6666666666666666,
             "#ed7953"
            ],
            [
             0.7777777777777778,
             "#fb9f3a"
            ],
            [
             0.8888888888888888,
             "#fdca26"
            ],
            [
             1,
             "#f0f921"
            ]
           ],
           "sequentialminus": [
            [
             0,
             "#0d0887"
            ],
            [
             0.1111111111111111,
             "#46039f"
            ],
            [
             0.2222222222222222,
             "#7201a8"
            ],
            [
             0.3333333333333333,
             "#9c179e"
            ],
            [
             0.4444444444444444,
             "#bd3786"
            ],
            [
             0.5555555555555556,
             "#d8576b"
            ],
            [
             0.6666666666666666,
             "#ed7953"
            ],
            [
             0.7777777777777778,
             "#fb9f3a"
            ],
            [
             0.8888888888888888,
             "#fdca26"
            ],
            [
             1,
             "#f0f921"
            ]
           ]
          },
          "colorway": [
           "#636efa",
           "#EF553B",
           "#00cc96",
           "#ab63fa",
           "#FFA15A",
           "#19d3f3",
           "#FF6692",
           "#B6E880",
           "#FF97FF",
           "#FECB52"
          ],
          "font": {
           "color": "#2a3f5f"
          },
          "geo": {
           "bgcolor": "white",
           "lakecolor": "white",
           "landcolor": "#E5ECF6",
           "showlakes": true,
           "showland": true,
           "subunitcolor": "white"
          },
          "hoverlabel": {
           "align": "left"
          },
          "hovermode": "closest",
          "mapbox": {
           "style": "light"
          },
          "paper_bgcolor": "white",
          "plot_bgcolor": "#E5ECF6",
          "polar": {
           "angularaxis": {
            "gridcolor": "white",
            "linecolor": "white",
            "ticks": ""
           },
           "bgcolor": "#E5ECF6",
           "radialaxis": {
            "gridcolor": "white",
            "linecolor": "white",
            "ticks": ""
           }
          },
          "scene": {
           "xaxis": {
            "backgroundcolor": "#E5ECF6",
            "gridcolor": "white",
            "gridwidth": 2,
            "linecolor": "white",
            "showbackground": true,
            "ticks": "",
            "zerolinecolor": "white"
           },
           "yaxis": {
            "backgroundcolor": "#E5ECF6",
            "gridcolor": "white",
            "gridwidth": 2,
            "linecolor": "white",
            "showbackground": true,
            "ticks": "",
            "zerolinecolor": "white"
           },
           "zaxis": {
            "backgroundcolor": "#E5ECF6",
            "gridcolor": "white",
            "gridwidth": 2,
            "linecolor": "white",
            "showbackground": true,
            "ticks": "",
            "zerolinecolor": "white"
           }
          },
          "shapedefaults": {
           "line": {
            "color": "#2a3f5f"
           }
          },
          "ternary": {
           "aaxis": {
            "gridcolor": "white",
            "linecolor": "white",
            "ticks": ""
           },
           "baxis": {
            "gridcolor": "white",
            "linecolor": "white",
            "ticks": ""
           },
           "bgcolor": "#E5ECF6",
           "caxis": {
            "gridcolor": "white",
            "linecolor": "white",
            "ticks": ""
           }
          },
          "title": {
           "x": 0.05
          },
          "xaxis": {
           "automargin": true,
           "gridcolor": "white",
           "linecolor": "white",
           "ticks": "",
           "title": {
            "standoff": 15
           },
           "zerolinecolor": "white",
           "zerolinewidth": 2
          },
          "yaxis": {
           "automargin": true,
           "gridcolor": "white",
           "linecolor": "white",
           "ticks": "",
           "title": {
            "standoff": 15
           },
           "zerolinecolor": "white",
           "zerolinewidth": 2
          }
         }
        },
        "title": {
         "text": "Воронка событий"
        },
        "width": 850,
        "xaxis": {
         "autorange": true,
         "range": [
          -692396.6702499622,
          692396.6702499621
         ],
         "type": "linear"
        },
        "yaxis": {
         "autorange": true,
         "range": [
          2.5,
          -0.5
         ],
         "type": "category"
        }
       }
      },
      "image/png": "[encoded data removed]",
      "text/html": [
       "<div>                            <div id=\"6ff25b93-a94d-4cc9-9ca8-2c5ccc8be3cf\" class=\"plotly-graph-div\" style=\"height:450px; width:850px;\"></div>            <script type=\"text/javascript\">                require([\"plotly\"], function(Plotly) {                    window.PLOTLYENV=window.PLOTLYENV || {};                                    if (document.getElementById(\"6ff25b93-a94d-4cc9-9ca8-2c5ccc8be3cf\")) {                    Plotly.newPlot(                        \"6ff25b93-a94d-4cc9-9ca8-2c5ccc8be3cf\",                        [{\"name\":\"\\u0421\\u0435\\u0433\\u043c\\u0435\\u043d\\u0442 1\",\"textinfo\":\"value+percent previous\",\"x\":[394412.22354138846,344313.8999486867,266167.7413332355],\"y\":[\"\\u0412\\u043e\\u0440\\u043e\\u043d\\u043a\\u0430 \\u043f\\u0440\\u043e\\u0434\\u0430\\u0436. \\u0428\\u0430\\u0433 1\",\"\\u0412\\u043e\\u0440\\u043e\\u043d\\u043a\\u0430 \\u043f\\u0440\\u043e\\u0434\\u0430\\u0436. \\u0428\\u0430\\u0433 2\",\"\\u0412\\u043e\\u0440\\u043e\\u043d\\u043a\\u0430 \\u043f\\u0440\\u043e\\u0434\\u0430\\u0436. \\u0428\\u0430\\u0433 3\"],\"type\":\"funnel\",\"textfont\":{\"color\":\"white\"},\"hovertemplate\":\"\\u0421\\u0442\\u0430\\u0434\\u0438\\u044f: %{y} <br>\\u0414\\u043e\\u043b\\u044f \\u043e\\u0442 \\u0432\\u0441\\u0435\\u0445: %{percentTotal}                  <br>\\u0414\\u043e\\u043b\\u044f \\u0441 \\u043f\\u0440\\u043e\\u0448\\u043b\\u043e\\u0439 \\u0441\\u0442\\u0430\\u0434\\u0438\\u0438: %{percentPrevious}<extra></extra>\"},{\"name\":\"\\u0421\\u0435\\u0433\\u043c\\u0435\\u043d\\u0442 2\",\"orientation\":\"h\",\"textinfo\":\"value+percent previous\",\"textposition\":\"inside\",\"x\":[446090.2705265321,387420.44189779466,303791.1907064515],\"y\":[\"\\u0412\\u043e\\u0440\\u043e\\u043d\\u043a\\u0430 \\u043f\\u0440\\u043e\\u0434\\u0430\\u0436. \\u0428\\u0430\\u0433 1\",\"\\u0412\\u043e\\u0440\\u043e\\u043d\\u043a\\u0430 \\u043f\\u0440\\u043e\\u0434\\u0430\\u0436. \\u0428\\u0430\\u0433 2\",\"\\u0412\\u043e\\u0440\\u043e\\u043d\\u043a\\u0430 \\u043f\\u0440\\u043e\\u0434\\u0430\\u0436. \\u0428\\u0430\\u0433 3\"],\"type\":\"funnel\",\"textfont\":{\"color\":\"white\"},\"hovertemplate\":\"\\u0421\\u0442\\u0430\\u0434\\u0438\\u044f: %{y} <br>\\u0414\\u043e\\u043b\\u044f \\u043e\\u0442 \\u0432\\u0441\\u0435\\u0445: %{percentTotal}                  <br>\\u0414\\u043e\\u043b\\u044f \\u0441 \\u043f\\u0440\\u043e\\u0448\\u043b\\u043e\\u0439 \\u0441\\u0442\\u0430\\u0434\\u0438\\u0438: %{percentPrevious}<extra></extra>\"},{\"name\":\"\\u0421\\u0435\\u0433\\u043c\\u0435\\u043d\\u0442 3\",\"orientation\":\"h\",\"textinfo\":\"value+percent previous\",\"textposition\":\"inside\",\"x\":[405811.51238201134,351268.0049234443,275577.76291194913],\"y\":[\"\\u0412\\u043e\\u0440\\u043e\\u043d\\u043a\\u0430 \\u043f\\u0440\\u043e\\u0434\\u0430\\u0436. \\u0428\\u0430\\u0433 1\",\"\\u0412\\u043e\\u0440\\u043e\\u043d\\u043a\\u0430 \\u043f\\u0440\\u043e\\u0434\\u0430\\u0436. \\u0428\\u0430\\u0433 2\",\"\\u0412\\u043e\\u0440\\u043e\\u043d\\u043a\\u0430 \\u043f\\u0440\\u043e\\u0434\\u0430\\u0436. \\u0428\\u0430\\u0433 3\"],\"type\":\"funnel\",\"textfont\":{\"color\":\"white\"},\"hovertemplate\":\"\\u0421\\u0442\\u0430\\u0434\\u0438\\u044f: %{y} <br>\\u0414\\u043e\\u043b\\u044f \\u043e\\u0442 \\u0432\\u0441\\u0435\\u0445: %{percentTotal}                  <br>\\u0414\\u043e\\u043b\\u044f \\u0441 \\u043f\\u0440\\u043e\\u0448\\u043b\\u043e\\u0439 \\u0441\\u0442\\u0430\\u0434\\u0438\\u0438: %{percentPrevious}<extra></extra>\"}],                        {\"template\":{\"data\":{\"bar\":[{\"error_x\":{\"color\":\"#2a3f5f\"},\"error_y\":{\"color\":\"#2a3f5f\"},\"marker\":{\"line\":{\"color\":\"#E5ECF6\",\"width\":0.5},\"pattern\":{\"fillmode\":\"overlay\",\"size\":10,\"solidity\":0.2}},\"type\":\"bar\"}],\"barpolar\":[{\"marker\":{\"line\":{\"color\":\"#E5ECF6\",\"width\":0.5},\"pattern\":{\"fillmode\":\"overlay\",\"size\":10,\"solidity\":0.2}},\"type\":\"barpolar\"}],\"carpet\":[{\"aaxis\":{\"endlinecolor\":\"#2a3f5f\",\"gridcolor\":\"white\",\"linecolor\":\"white\",\"minorgridcolor\":\"white\",\"startlinecolor\":\"#2a3f5f\"},\"baxis\":{\"endlinecolor\":\"#2a3f5f\",\"gridcolor\":\"white\",\"linecolor\":\"white\",\"minorgridcolor\":\"white\",\"startlinecolor\":\"#2a3f5f\"},\"type\":\"carpet\"}],\"choropleth\":[{\"colorbar\":{\"outlinewidth\":0,\"ticks\":\"\"},\"type\":\"choropleth\"}],\"contour\":[{\"colorbar\":{\"outlinewidth\":0,\"ticks\":\"\"},\"colorscale\":[[0.0,\"#0d0887\"],[0.1111111111111111,\"#46039f\"],[0.2222222222222222,\"#7201a8\"],[0.3333333333333333,\"#9c179e\"],[0.4444444444444444,\"#bd3786\"],[0.5555555555555556,\"#d8576b\"],[0.6666666666666666,\"#ed7953\"],[0.7777777777777778,\"#fb9f3a\"],[0.8888888888888888,\"#fdca26\"],[1.0,\"#f0f921\"]],\"type\":\"contour\"}],\"contourcarpet\":[{\"colorbar\":{\"outlinewidth\":0,\"ticks\":\"\"},\"type\":\"contourcarpet\"}],\"heatmap\":[{\"colorbar\":{\"outlinewidth\":0,\"ticks\":\"\"},\"colorscale\":[[0.0,\"#0d0887\"],[0.1111111111111111,\"#46039f\"],[0.2222222222222222,\"#7201a8\"],[0.3333333333333333,\"#9c179e\"],[0.4444444444444444,\"#bd3786\"],[0.5555555555555556,\"#d8576b\"],[0.6666666666666666,\"#ed7953\"],[0.7777777777777778,\"#fb9f3a\"],[0.8888888888888888,\"#fdca26\"],[1.0,\"#f0f921\"]],\"type\":\"heatmap\"}],\"heatmapgl\":[{\"colorbar\":{\"outlinewidth\":0,\"ticks\":\"\"},\"colorscale\":[[0.0,\"#0d0887\"],[0.1111111111111111,\"#46039f\"],[0.2222222222222222,\"#7201a8\"],[0.3333333333333333,\"#9c179e\"],[0.4444444444444444,\"#bd3786\"],[0.5555555555555556,\"#d8576b\"],[0.6666666666666666,\"#ed7953\"],[0.7777777777777778,\"#fb9f3a\"],[0.8888888888888888,\"#fdca26\"],[1.0,\"#f0f921\"]],\"type\":\"heatmapgl\"}],\"histogram\":[{\"marker\":{\"pattern\":{\"fillmode\":\"overlay\",\"size\":10,\"solidity\":0.2}},\"type\":\"histogram\"}],\"histogram2d\":[{\"colorbar\":{\"outlinewidth\":0,\"ticks\":\"\"},\"colorscale\":[[0.0,\"#0d0887\"],[0.1111111111111111,\"#46039f\"],[0.2222222222222222,\"#7201a8\"],[0.3333333333333333,\"#9c179e\"],[0.4444444444444444,\"#bd3786\"],[0.5555555555555556,\"#d8576b\"],[0.6666666666666666,\"#ed7953\"],[0.7777777777777778,\"#fb9f3a\"],[0.8888888888888888,\"#fdca26\"],[1.0,\"#f0f921\"]],\"type\":\"histogram2d\"}],\"histogram2dcontour\":[{\"colorbar\":{\"outlinewidth\":0,\"ticks\":\"\"},\"colorscale\":[[0.0,\"#0d0887\"],[0.1111111111111111,\"#46039f\"],[0.2222222222222222,\"#7201a8\"],[0.3333333333333333,\"#9c179e\"],[0.4444444444444444,\"#bd3786\"],[0.5555555555555556,\"#d8576b\"],[0.6666666666666666,\"#ed7953\"],[0.7777777777777778,\"#fb9f3a\"],[0.8888888888888888,\"#fdca26\"],[1.0,\"#f0f921\"]],\"type\":\"histogram2dcontour\"}],\"mesh3d\":[{\"colorbar\":{\"outlinewidth\":0,\"ticks\":\"\"},\"type\":\"mesh3d\"}],\"parcoords\":[{\"line\":{\"colorbar\":{\"outlinewidth\":0,\"ticks\":\"\"}},\"type\":\"parcoords\"}],\"pie\":[{\"automargin\":true,\"type\":\"pie\"}],\"scatter\":[{\"marker\":{\"colorbar\":{\"outlinewidth\":0,\"ticks\":\"\"}},\"type\":\"scatter\"}],\"scatter3d\":[{\"line\":{\"colorbar\":{\"outlinewidth\":0,\"ticks\":\"\"}},\"marker\":{\"colorbar\":{\"outlinewidth\":0,\"ticks\":\"\"}},\"type\":\"scatter3d\"}],\"scattercarpet\":[{\"marker\":{\"colorbar\":{\"outlinewidth\":0,\"ticks\":\"\"}},\"type\":\"scattercarpet\"}],\"scattergeo\":[{\"marker\":{\"colorbar\":{\"outlinewidth\":0,\"ticks\":\"\"}},\"type\":\"scattergeo\"}],\"scattergl\":[{\"marker\":{\"colorbar\":{\"outlinewidth\":0,\"ticks\":\"\"}},\"type\":\"scattergl\"}],\"scattermapbox\":[{\"marker\":{\"colorbar\":{\"outlinewidth\":0,\"ticks\":\"\"}},\"type\":\"scattermapbox\"}],\"scatterpolar\":[{\"marker\":{\"colorbar\":{\"outlinewidth\":0,\"ticks\":\"\"}},\"type\":\"scatterpolar\"}],\"scatterpolargl\":[{\"marker\":{\"colorbar\":{\"outlinewidth\":0,\"ticks\":\"\"}},\"type\":\"scatterpolargl\"}],\"scatterternary\":[{\"marker\":{\"colorbar\":{\"outlinewidth\":0,\"ticks\":\"\"}},\"type\":\"scatterternary\"}],\"surface\":[{\"colorbar\":{\"outlinewidth\":0,\"ticks\":\"\"},\"colorscale\":[[0.0,\"#0d0887\"],[0.1111111111111111,\"#46039f\"],[0.2222222222222222,\"#7201a8\"],[0.3333333333333333,\"#9c179e\"],[0.4444444444444444,\"#bd3786\"],[0.5555555555555556,\"#d8576b\"],[0.6666666666666666,\"#ed7953\"],[0.7777777777777778,\"#fb9f3a\"],[0.8888888888888888,\"#fdca26\"],[1.0,\"#f0f921\"]],\"type\":\"surface\"}],\"table\":[{\"cells\":{\"fill\":{\"color\":\"#EBF0F8\"},\"line\":{\"color\":\"white\"}},\"header\":{\"fill\":{\"color\":\"#C8D4E3\"},\"line\":{\"color\":\"white\"}},\"type\":\"table\"}]},\"layout\":{\"annotationdefaults\":{\"arrowcolor\":\"#2a3f5f\",\"arrowhead\":0,\"arrowwidth\":1},\"autotypenumbers\":\"strict\",\"coloraxis\":{\"colorbar\":{\"outlinewidth\":0,\"ticks\":\"\"}},\"colorscale\":{\"diverging\":[[0,\"#8e0152\"],[0.1,\"#c51b7d\"],[0.2,\"#de77ae\"],[0.3,\"#f1b6da\"],[0.4,\"#fde0ef\"],[0.5,\"#f7f7f7\"],[0.6,\"#e6f5d0\"],[0.7,\"#b8e186\"],[0.8,\"#7fbc41\"],[0.9,\"#4d9221\"],[1,\"#276419\"]],\"sequential\":[[0.0,\"#0d0887\"],[0.1111111111111111,\"#46039f\"],[0.2222222222222222,\"#7201a8\"],[0.3333333333333333,\"#9c179e\"],[0.4444444444444444,\"#bd3786\"],[0.5555555555555556,\"#d8576b\"],[0.6666666666666666,\"#ed7953\"],[0.7777777777777778,\"#fb9f3a\"],[0.8888888888888888,\"#fdca26\"],[1.0,\"#f0f921\"]],\"sequentialminus\":[[0.0,\"#0d0887\"],[0.1111111111111111,\"#46039f\"],[0.2222222222222222,\"#7201a8\"],[0.3333333333333333,\"#9c179e\"],[0.4444444444444444,\"#bd3786\"],[0.5555555555555556,\"#d8576b\"],[0.6666666666666666,\"#ed7953\"],[0.7777777777777778,\"#fb9f3a\"],[0.8888888888888888,\"#fdca26\"],[1.0,\"#f0f921\"]]},\"colorway\":[\"#636efa\",\"#EF553B\",\"#00cc96\",\"#ab63fa\",\"#FFA15A\",\"#19d3f3\",\"#FF6692\",\"#B6E880\",\"#FF97FF\",\"#FECB52\"],\"font\":{\"color\":\"#2a3f5f\"},\"geo\":{\"bgcolor\":\"white\",\"lakecolor\":\"white\",\"landcolor\":\"#E5ECF6\",\"showlakes\":true,\"showland\":true,\"subunitcolor\":\"white\"},\"hoverlabel\":{\"align\":\"left\"},\"hovermode\":\"closest\",\"mapbox\":{\"style\":\"light\"},\"paper_bgcolor\":\"white\",\"plot_bgcolor\":\"#E5ECF6\",\"polar\":{\"angularaxis\":{\"gridcolor\":\"white\",\"linecolor\":\"white\",\"ticks\":\"\"},\"bgcolor\":\"#E5ECF6\",\"radialaxis\":{\"gridcolor\":\"white\",\"linecolor\":\"white\",\"ticks\":\"\"}},\"scene\":{\"xaxis\":{\"backgroundcolor\":\"#E5ECF6\",\"gridcolor\":\"white\",\"gridwidth\":2,\"linecolor\":\"white\",\"showbackground\":true,\"ticks\":\"\",\"zerolinecolor\":\"white\"},\"yaxis\":{\"backgroundcolor\":\"#E5ECF6\",\"gridcolor\":\"white\",\"gridwidth\":2,\"linecolor\":\"white\",\"showbackground\":true,\"ticks\":\"\",\"zerolinecolor\":\"white\"},\"zaxis\":{\"backgroundcolor\":\"#E5ECF6\",\"gridcolor\":\"white\",\"gridwidth\":2,\"linecolor\":\"white\",\"showbackground\":true,\"ticks\":\"\",\"zerolinecolor\":\"white\"}},\"shapedefaults\":{\"line\":{\"color\":\"#2a3f5f\"}},\"ternary\":{\"aaxis\":{\"gridcolor\":\"white\",\"linecolor\":\"white\",\"ticks\":\"\"},\"baxis\":{\"gridcolor\":\"white\",\"linecolor\":\"white\",\"ticks\":\"\"},\"bgcolor\":\"#E5ECF6\",\"caxis\":{\"gridcolor\":\"white\",\"linecolor\":\"white\",\"ticks\":\"\"}},\"title\":{\"x\":0.05},\"xaxis\":{\"automargin\":true,\"gridcolor\":\"white\",\"linecolor\":\"white\",\"ticks\":\"\",\"title\":{\"standoff\":15},\"zerolinecolor\":\"white\",\"zerolinewidth\":2},\"yaxis\":{\"automargin\":true,\"gridcolor\":\"white\",\"linecolor\":\"white\",\"ticks\":\"\",\"title\":{\"standoff\":15},\"zerolinecolor\":\"white\",\"zerolinewidth\":2}}},\"hoverlabel\":{\"font\":{\"color\":\"white\"}},\"title\":{\"text\":\"\\u0412\\u043e\\u0440\\u043e\\u043d\\u043a\\u0430 \\u0441\\u043e\\u0431\\u044b\\u0442\\u0438\\u0439\"},\"width\":850,\"height\":450},                        {\"responsive\": true}                    ).then(function(){\n",
       "                            \n",
       "var gd = document.getElementById('6ff25b93-a94d-4cc9-9ca8-2c5ccc8be3cf');\n",
       "var x = new MutationObserver(function (mutations, observer) {{\n",
       "        var display = window.getComputedStyle(gd).display;\n",
       "        if (!display || display === 'none') {{\n",
       "            console.log([gd, 'removed!']);\n",
       "            Plotly.purge(gd);\n",
       "            observer.disconnect();\n",
       "        }}\n",
       "}});\n",
       "\n",
       "// Listen for the removal of the full notebook cells\n",
       "var notebookContainer = gd.closest('#notebook-container');\n",
       "if (notebookContainer) {{\n",
       "    x.observe(notebookContainer, {childList: true});\n",
       "}}\n",
       "\n",
       "// Listen for the clearing of the current output cell\n",
       "var outputEl = gd.closest('.output');\n",
       "if (outputEl) {{\n",
       "    x.observe(outputEl, {childList: true});\n",
       "}}\n",
       "\n",
       "                        })                };                });            </script>        </div>"
      ]
     },
     "metadata": {},
     "output_type": "display_data"
    }
   ],
   "source": [
    "fig = go.Figure()\n",
    "\n",
    "fig.add_trace(go.Funnel(\n",
    "    name = 'Сегмент 1',\n",
    "    y=funnel_t['funnel_step'],\n",
    "    x=funnel_t['сегмент_1'],\n",
    "    textinfo = \"value+percent previous\"))\n",
    "\n",
    "fig.add_trace(go.Funnel(\n",
    "    name = 'Сегмент 2',\n",
    "    orientation = \"h\",\n",
    "    y=funnel_t['funnel_step'],\n",
    "    x = funnel_t['сегмент_2'],\n",
    "    textposition = \"inside\",\n",
    "    textinfo = \"value+percent previous\"))\n",
    "\n",
    "fig.add_trace(go.Funnel(\n",
    "    name = 'Сегмент 3',\n",
    "    orientation = \"h\",\n",
    "    y=funnel_t['funnel_step'],\n",
    "    x = funnel_t['сегмент_3'],\n",
    "    textposition = \"inside\",\n",
    "    textinfo = \"value+percent previous\"))\n",
    "\n",
    "fig.update_layout(title='Воронка событий',\n",
    "                  width=850,\n",
    "                  height=450,\n",
    "                  hoverlabel=dict(font_color=\"white\"))\n",
    "\n",
    "fig.update_traces(textfont_color='white',\n",
    "                  hovertemplate=\"Стадия: %{y} <br>Доля от всех: %{percentTotal}\\\n",
    "                  <br>Доля с прошлой стадии: %{percentPrevious}<extra></extra>\")\n",
    "\n",
    "fig.show()"
   ]
  },
  {
   "cell_type": "markdown",
   "id": "177d34a2-8b91-4b11-bb98-57579520f1fb",
   "metadata": {},
   "source": [
    "**ВЫВОД:**\n",
    "<hr style=\"border-color: green;\">\n",
    "\n",
    "Наблюдаем, что не все пользователи доходят до последней стадии воронки продаж.\n",
    "\n",
    "<hr style=\"border-color: green;\"> "
   ]
  }
 ],
 "metadata": {
  "kernelspec": {
   "display_name": "Python 3 (ipykernel)",
   "language": "python",
   "name": "python3"
  },
  "language_info": {
   "codemirror_mode": {
    "name": "ipython",
    "version": 3
   },
   "file_extension": ".py",
   "mimetype": "text/x-python",
   "name": "python",
   "nbconvert_exporter": "python",
   "pygments_lexer": "ipython3",
   "version": "3.9.5"
  }
 },
 "nbformat": 4,
 "nbformat_minor": 5
}
